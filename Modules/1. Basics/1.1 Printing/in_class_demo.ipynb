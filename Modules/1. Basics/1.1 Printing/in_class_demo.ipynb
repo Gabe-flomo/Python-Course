{
 "cells": [
  {
   "cell_type": "markdown",
   "source": [
    "# Print Function\r\n",
    "The print function is like a messenger. It can be used to show the current value of a variable, provide helper messages, or just to do further inspection of variables and functions.\r\n",
    "\r\n",
    "\r\n",
    "Think of it like a push notificaion for code.\r\n",
    "\r\n",
    "![image](https://i.imgflip.com/4ljdxs.png)\r\n",
    "\r\n",
    "## When to use it\r\n",
    "* Whenever you want to inspect the value of a variable in your code\r\n",
    "* Whenever you have some message that you want to display \r\n",
    "* During debugging to make sure values are correct\r\n",
    "\r\n",
    "## What can it print?\r\n",
    "Basically anything. Anything you pass to the print function will get displayed on the screen, as long as it follows python syntax.\r\n",
    "\r\n"
   ],
   "metadata": {}
  },
  {
   "cell_type": "code",
   "execution_count": null,
   "source": [
    "# Pass a message that you want to display\r\n",
    "print(\"Nah he tweakin 🤦🏾‍♀️\")"
   ],
   "outputs": [],
   "metadata": {}
  },
  {
   "cell_type": "code",
   "execution_count": null,
   "source": [
    "# you can print multiple values at once\r\n",
    "print(\"This is the first\", \"This is the second\", \"This is the third\")"
   ],
   "outputs": [],
   "metadata": {}
  },
  {
   "cell_type": "code",
   "execution_count": null,
   "source": [
    "# you can also print variables\r\n",
    "x = 'This is a string'\r\n",
    "y = 45\r\n",
    "print(x,\"who's age is\",y)"
   ],
   "outputs": [],
   "metadata": {}
  },
  {
   "cell_type": "code",
   "execution_count": null,
   "source": [
    "# printing more complex variables\r\n",
    "var = {'my_age':22,\r\n",
    "       'favorite_food':'steak',\r\n",
    "       'school':'Nah'}\r\n",
    "\r\n",
    "print(\"Description of Gabe\",var)"
   ],
   "outputs": [],
   "metadata": {}
  },
  {
   "cell_type": "markdown",
   "source": [
    "## Print Keyword Arguments\r\n",
    "In any programming language, functions can take inputs called arguments. The values that are passed to the print function are called positional arguments, but you can also provide keyword arguments (will be explained more in depth in the Functions Module).\r\n",
    "\r\n",
    "**important keyword arguments to know are:**\r\n",
    "* **objects** - This is what we've been giving the function this whole time, and u can add as many as you like.\r\n",
    "* **sep** - Inserts a separator between objects. (default is space)\r\n",
    "* **end** - Specify what to print at the end. (default is a newline '\\n')\r\n",
    "---------------------------------------------------------------------------------------\r\n",
    "\r\n",
    "## Sep argument\r\n",
    "Inserts a string between values (default is space)"
   ],
   "metadata": {}
  },
  {
   "cell_type": "code",
   "execution_count": null,
   "source": [
    "# you can seperate values in the print function by utilizing the 'sep' argument\r\n",
    "print(\"This is the first\", \"This is the second\", \"This is the third\", sep=': ')"
   ],
   "outputs": [],
   "metadata": {}
  },
  {
   "cell_type": "code",
   "execution_count": null,
   "source": [
    "# anything, including variables, can be used to seperate arguments\r\n",
    "var = \" :seperator: \"\r\n",
    "print(1,2,3,4, sep = var)"
   ],
   "outputs": [],
   "metadata": {}
  },
  {
   "cell_type": "markdown",
   "source": [
    "-------------------------------\r\n",
    "## End argument\r\n",
    "Specifies what to print at the end. (default is a newline)\r\n",
    "\r\n",
    "**Why use this?**\r\n",
    "\r\n",
    "This comes in handy when you want to print information about the state of your program using information that is created at different places in program execution."
   ],
   "metadata": {}
  },
  {
   "cell_type": "code",
   "execution_count": null,
   "source": [
    "print(\"This variable was defined after the print statement\", end = \". \")\r\n",
    "var = [1,2,3,4,5]\r\n",
    "print(var)"
   ],
   "outputs": [],
   "metadata": {}
  },
  {
   "cell_type": "code",
   "execution_count": null,
   "source": [
    "# anything can be added to the end, however, it should be something that makes sense\r\n",
    "bad_end = None\r\n",
    "print(\"This should not be used.\", end = bad_end)\r\n",
    "print(\"Why did you do this?\")"
   ],
   "outputs": [],
   "metadata": {}
  },
  {
   "cell_type": "code",
   "execution_count": null,
   "source": [
    "# print the state of a loop on a single line (you'll learn more about loops in module 2)\r\n",
    "print(\"Looping...\", end = \" \")\r\n",
    "\r\n",
    "# Runs a loop 3 times\r\n",
    "for i in range(3):\r\n",
    "    print(\"iteration #\", i + 1, end = \" -> \", sep = \"\")"
   ],
   "outputs": [],
   "metadata": {}
  },
  {
   "cell_type": "markdown",
   "source": [
    "-------------------------------\r\n",
    "## F-strings\r\n",
    "In python, strings are a type of variable used to represent text. When we pass information to the print function, everything gets converted into strings so that it can be shown on screen. So, whenever a variable gets printed to the screen, it is converted to string object (text).\r\n",
    "\r\n",
    "Sometimes we want to print out multiple variables in a single line, and you already learned how to do this by separating the values with commas. \r\n",
    "\r\n",
    "```python \r\n",
    "print(var1, var2, var3)\r\n",
    "```\r\n",
    "However, theres a better way we can do this. \r\n",
    "\r\n",
    "F-strings, or formatted strings, are strings that get evaluated at runtime so you can give it any variable or expression and python will format it as a single string.\r\n",
    "\r\n",
    "<h1 style = \"color: #fa00f4;\"> Creating f-strings</h1>\r\n",
    "To make a string an f-string, just add an f to the beginning of your string.\r\n",
    " \r\n",
    "``` python \r\n",
    "f\"I am an f-string\"\r\n",
    "```"
   ],
   "metadata": {}
  },
  {
   "cell_type": "code",
   "execution_count": null,
   "source": [
    "# this is the trash and ugly way to do it, don't do it in front of your crush\r\n",
    "name = \"Gabe\"\r\n",
    "age = 22\r\n",
    "normal_string_formatting = \"Hello, %s. You are %s.\" % (name, age)\r\n",
    "\r\n",
    "print(normal_string_formatting)"
   ],
   "outputs": [],
   "metadata": {}
  },
  {
   "cell_type": "code",
   "execution_count": null,
   "source": [
    "# the way to do it when ur trynna impress ur crush\r\n",
    "name = \"Gabe\"\r\n",
    "age = 22\r\n",
    "better_string_formatting = f\"Hello, {name}. You are {age}\"\r\n",
    "\r\n",
    "print(better_string_formatting)"
   ],
   "outputs": [],
   "metadata": {}
  },
  {
   "cell_type": "code",
   "execution_count": null,
   "source": [],
   "outputs": [],
   "metadata": {}
  }
 ],
 "metadata": {
  "orig_nbformat": 4,
  "language_info": {
   "name": "python",
   "version": "3.7.4",
   "mimetype": "text/x-python",
   "codemirror_mode": {
    "name": "ipython",
    "version": 3
   },
   "pygments_lexer": "ipython3",
   "nbconvert_exporter": "python",
   "file_extension": ".py"
  },
  "kernelspec": {
   "name": "python3",
   "display_name": "Python 3.7.4 64-bit ('base': conda)"
  },
  "interpreter": {
   "hash": "fd61235da8d855c081cbd5d7c6398e4c179a40a950675235256f7f30499f1124"
  }
 },
 "nbformat": 4,
 "nbformat_minor": 2
}
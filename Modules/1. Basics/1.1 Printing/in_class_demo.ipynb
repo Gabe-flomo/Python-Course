{
 "cells": [
  {
   "cell_type": "markdown",
   "metadata": {},
   "source": [
    "# Print Function\n",
    "The print function is like a messenger. It can be used to show the current value of a variable, provide helper messages, or just to do further inspection of variables and functions.\n",
    "\n",
    "\n",
    "Think of it like a push notificaion for code.\n",
    "\n",
    "![image](https://i.imgflip.com/4ljdxs.png)\n",
    "\n",
    "## When to use it\n",
    "* Whenever you want to inspect the value of a variable in your code\n",
    "* Whenever you have some message that you want to display \n",
    "* During debugging to make sure values are correct\n",
    "\n",
    "## What can it print?\n",
    "Basically anything. Anything you pass to the print function will get displayed on the screen, as long as it follows python syntax.\n",
    "\n"
   ]
  },
  {
   "cell_type": "code",
   "execution_count": 1,
   "metadata": {},
   "outputs": [
    {
     "name": "stdout",
     "output_type": "stream",
     "text": [
      "Nah he tweakin 🤦🏾‍♀️\n"
     ]
    }
   ],
   "source": [
    "# Pass a message that you want to display\n",
    "print(\"Nah he tweakin 🤦🏾‍♀️\")"
   ]
  },
  {
   "cell_type": "code",
   "execution_count": 3,
   "metadata": {},
   "outputs": [
    {
     "name": "stdout",
     "output_type": "stream",
     "text": [
      "Hello wrold! I like cats\n"
     ]
    }
   ],
   "source": [
    "# you can print multiple values at once\n",
    "print(\"Hello wrold!\", \"I like cats\")"
   ]
  },
  {
   "cell_type": "code",
   "execution_count": 5,
   "metadata": {},
   "outputs": [
    {
     "name": "stdout",
     "output_type": "stream",
     "text": [
      "Dang this class lit Stupid lit forreal\n"
     ]
    }
   ],
   "source": [
    "# you can also print variables\n",
    "var = \"Dang this class lit\"\n",
    "print(var, \"Stupid lit forreal\")"
   ]
  },
  {
   "cell_type": "code",
   "execution_count": 6,
   "metadata": {},
   "outputs": [
    {
     "name": "stdout",
     "output_type": "stream",
     "text": [
      "{'key': 'value'}\n"
     ]
    }
   ],
   "source": [
    "# printing more complex variables (dictionary)\n",
    "var = {\"key\": \"value\"}\n",
    "print(var)"
   ]
  },
  {
   "cell_type": "markdown",
   "metadata": {},
   "source": [
    "## Print Keyword Arguments\n",
    "In any programming language, functions can take inputs called arguments. The values that are passed to the print function are called positional arguments, but you can also provide keyword arguments (will be explained more in depth in the Functions Module).\n",
    "\n",
    "**important keyword arguments to know are:**\n",
    "* **objects** - This is what we've been giving the function this whole time, and u can add as many as you like.\n",
    "* **sep** - Inserts a separator between objects. (default is space)\n",
    "* **end** - Specify what to print at the end. (default is a newline '\\n')\n",
    "---------------------------------------------------------------------------------------\n",
    "\n",
    "## Sep argument\n",
    "Inserts a string between values (default is space)"
   ]
  },
  {
   "cell_type": "code",
   "execution_count": 10,
   "metadata": {},
   "outputs": [
    {
     "name": "stdout",
     "output_type": "stream",
     "text": [
      "Hello * World\n"
     ]
    }
   ],
   "source": [
    "# you can seperate values in the print function by utilizing the 'sep' argument\n",
    "print(\"Hello\", \"World\", sep = \" * \")"
   ]
  },
  {
   "cell_type": "code",
   "execution_count": 11,
   "metadata": {},
   "outputs": [
    {
     "name": "stdout",
     "output_type": "stream",
     "text": [
      "Hello Space World\n"
     ]
    }
   ],
   "source": [
    "# anything, including variables, can be used to seperate arguments\n",
    "var = ' Space '\n",
    "print(\"Hello\", \"World\", sep = var)"
   ]
  },
  {
   "cell_type": "markdown",
   "metadata": {},
   "source": [
    "-------------------------------\n",
    "## End argument\n",
    "Specifies what to print at the end. (default is a newline)\n",
    "\n",
    "**Why use this?**\n",
    "\n",
    "This comes in handy when you want to print information about the state of your program using information that is created at different places in program execution."
   ]
  },
  {
   "cell_type": "code",
   "execution_count": 12,
   "metadata": {},
   "outputs": [
    {
     "name": "stdout",
     "output_type": "stream",
     "text": [
      "Hello\n",
      "World\n"
     ]
    }
   ],
   "source": [
    "print(\"Hello\")\n",
    "print(\"World\")"
   ]
  },
  {
   "cell_type": "code",
   "execution_count": 15,
   "metadata": {},
   "outputs": [
    {
     "name": "stdout",
     "output_type": "stream",
     "text": [
      "This variable was defined after the print statement.\n",
      "[1, 2, 3, 4, 5]\n"
     ]
    }
   ],
   "source": [
    "print(\"This variable was defined after the print statement.\")\n",
    "var = [1,2,3,4,5]\n",
    "print(var)"
   ]
  },
  {
   "cell_type": "code",
   "execution_count": 17,
   "metadata": {},
   "outputs": [
    {
     "name": "stdout",
     "output_type": "stream",
     "text": [
      "Iteration 0\n",
      "Iteration 1\n",
      "Iteration 2\n"
     ]
    }
   ],
   "source": [
    "# print the state of a loop on a single line (you'll learn more about loops in module 2)\n",
    "for i in range(3):\n",
    "    print(\"Iteration\", i)"
   ]
  },
  {
   "cell_type": "markdown",
   "metadata": {},
   "source": [
    "# Printing to a newline\n",
    "In python, there are special characters called *escape characters* and they allow for 'special' operations on strings. The main one that we will cover in this section is `\\n`. This escape character allows you to display output that is written on a single line, over multiple lines.\n",
    "\n",
    "### Example\n",
    "```python\n",
    "print(\"Hello, my name is: \\nGabe\")\n",
    "\n",
    "#output\n",
    "Hello my name is:\n",
    "Gabe\n",
    "```\n"
   ]
  },
  {
   "cell_type": "code",
   "execution_count": 18,
   "metadata": {},
   "outputs": [
    {
     "name": "stdout",
     "output_type": "stream",
     "text": [
      "My name is Gabe: \n",
      "My age is 22\n"
     ]
    }
   ],
   "source": [
    "#TODO Print your name and age on newlines\n",
    "print(\"My name is Gabe: \\nMy age is 22\")"
   ]
  },
  {
   "cell_type": "code",
   "execution_count": 20,
   "metadata": {},
   "outputs": [
    {
     "name": "stdout",
     "output_type": "stream",
     "text": [
      "Hello who am i 'I am gabe'\n"
     ]
    }
   ],
   "source": [
    "print(\"Hello who am i 'I am gabe'\")"
   ]
  },
  {
   "cell_type": "code",
   "execution_count": 21,
   "metadata": {},
   "outputs": [
    {
     "name": "stdout",
     "output_type": "stream",
     "text": [
      "Washburn \n",
      "High school\n"
     ]
    }
   ],
   "source": [
    "#TODO Print washburn and highschool on seperate lines\n",
    "print(\"Washburn \\nHigh school\")"
   ]
  },
  {
   "cell_type": "code",
   "execution_count": null,
   "metadata": {},
   "outputs": [],
   "source": [
    "#TODO"
   ]
  },
  {
   "cell_type": "markdown",
   "metadata": {},
   "source": [
    "-------------------------------\n",
    "## F-strings\n",
    "In python, strings are a type of variable used to represent text. When we pass information to the print function, everything gets converted into strings so that it can be shown on screen. So, whenever a variable gets printed to the screen, it is converted to string object (text).\n",
    "\n",
    "Sometimes we want to print out multiple variables in a single line, and you already learned how to do this by separating the values with commas. \n",
    "\n",
    "```python \n",
    "print(var1, var2, var3)\n",
    "```\n",
    "However, theres a better way we can do this. \n",
    "\n",
    "F-strings, or formatted strings, are strings that get evaluated at runtime so you can give it any variable or expression and python will format it as a single string.\n",
    "\n",
    "<h1 style = \"color: #fa00f4;\"> Creating f-strings</h1>\n",
    "To make a string an f-string, just add an f to the beginning of your string.\n",
    " \n",
    "``` python \n",
    "f\"I am an f-string\"\n",
    "```"
   ]
  },
  {
   "cell_type": "code",
   "execution_count": 23,
   "metadata": {},
   "outputs": [
    {
     "name": "stdout",
     "output_type": "stream",
     "text": [
      "Hello, elias. You are 22.\n"
     ]
    }
   ],
   "source": [
    "# this is the trash and ugly way to do it, don't do it in front of your crush\n",
    "name = \"elias\"\n",
    "age = 22\n",
    "normal_string_formatting = \"Hello, %s. You are %s.\" % (name, age)\n",
    "\n",
    "print(normal_string_formatting)"
   ]
  },
  {
   "cell_type": "code",
   "execution_count": 27,
   "metadata": {},
   "outputs": [
    {
     "name": "stdout",
     "output_type": "stream",
     "text": [
      "Wait a second Hello, Elias. You are 22\n",
      "Hello, Elias. You are 22\n"
     ]
    }
   ],
   "source": [
    "# the way to do it when ur trynna impress ur crush\n",
    "name = \"Elias\"\n",
    "age = 22\n",
    "better_string_formatting = f\"Hello, {name}. You are {age}\"\n",
    "print(f\"Wait a second {better_string_formatting}\")\n",
    "\n",
    "print(better_string_formatting)\n"
   ]
  },
  {
   "cell_type": "code",
   "execution_count": null,
   "metadata": {},
   "outputs": [],
   "source": []
  }
 ],
 "metadata": {
  "interpreter": {
   "hash": "fd61235da8d855c081cbd5d7c6398e4c179a40a950675235256f7f30499f1124"
  },
  "kernelspec": {
   "display_name": "Python 3.7.4 64-bit ('base': conda)",
   "name": "python3"
  },
  "language_info": {
   "codemirror_mode": {
    "name": "ipython",
    "version": 3
   },
   "file_extension": ".py",
   "mimetype": "text/x-python",
   "name": "python",
   "nbconvert_exporter": "python",
   "pygments_lexer": "ipython3",
   "version": "3.7.4"
  },
  "orig_nbformat": 4
 },
 "nbformat": 4,
 "nbformat_minor": 2
}

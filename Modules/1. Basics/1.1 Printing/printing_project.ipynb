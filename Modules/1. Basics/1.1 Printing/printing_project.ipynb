{
 "cells": [
  {
   "cell_type": "markdown",
   "source": [
    "# Printing Project\r\n",
    "\r\n",
    "Below is a series of tasks to complete to help you understand how printing works"
   ],
   "metadata": {}
  },
  {
   "cell_type": "markdown",
   "source": [
    "# Task 1\r\n",
    "This task is fairly simple. All you need to do is print your name and your age."
   ],
   "metadata": {}
  },
  {
   "cell_type": "code",
   "execution_count": null,
   "source": [
    "# Code goes here"
   ],
   "outputs": [],
   "metadata": {}
  },
  {
   "cell_type": "markdown",
   "source": [
    "# Task 2\r\n",
    "print your name and age using 2 print function arguments.\r\n",
    "<p><em>Remember, print statement arguments are separated by commas.</em></p>\r\n",
    "\r\n",
    "```python \r\n",
    "#expected output#\r\n",
    "\" 'your_name' 'your_age' \"\r\n",
    "```"
   ],
   "metadata": {}
  },
  {
   "cell_type": "code",
   "execution_count": null,
   "source": [
    "# Code goes here"
   ],
   "outputs": [],
   "metadata": {}
  },
  {
   "cell_type": "markdown",
   "source": [
    "# Task 3\r\n",
    "print your name and age using 2 print function arguments, separated by a colon.\r\n",
    "\r\n",
    "```python \r\n",
    "#expected output#\r\n",
    "\" 'your_name':'your_age' \"\r\n",
    "```"
   ],
   "metadata": {}
  },
  {
   "cell_type": "code",
   "execution_count": null,
   "source": [
    "# Code goes here"
   ],
   "outputs": [],
   "metadata": {}
  },
  {
   "cell_type": "markdown",
   "source": [
    "# Task 4\r\n",
    "print your favorite food and dessert separated by a colon.\r\n",
    "\r\n",
    "```python \r\n",
    "#expected output#\r\n",
    "\"my favorite food is 'your_food':'your_dessert' \"\r\n",
    "```"
   ],
   "metadata": {}
  },
  {
   "cell_type": "code",
   "execution_count": null,
   "source": [
    "# Code goes here"
   ],
   "outputs": [],
   "metadata": {}
  },
  {
   "cell_type": "markdown",
   "source": [
    "# Task 5\r\n",
    "Produce the following using separators.\r\n",
    "\r\n",
    "```python\r\n",
    "\"Wow I cant belive I am a: 'your_grade' in high school\"\r\n",
    "```\r\n"
   ],
   "metadata": {}
  },
  {
   "cell_type": "code",
   "execution_count": null,
   "source": [
    "# Code goes here"
   ],
   "outputs": [],
   "metadata": {}
  },
  {
   "cell_type": "markdown",
   "source": [
    "# Task 6\r\n",
    "Edit the code in order to print everything in a single line"
   ],
   "metadata": {}
  },
  {
   "cell_type": "code",
   "execution_count": null,
   "source": [
    "# code goes here\r\n",
    "print(\"Bruh, how can I get this on one line 🤦🏾‍♀️\")\r\n",
    "var = \" Ohhh... thats how\"\r\n",
    "print(var)"
   ],
   "outputs": [],
   "metadata": {}
  },
  {
   "cell_type": "markdown",
   "source": [
    "# Task 7\r\n",
    "Edit the code to print the values using an f-string"
   ],
   "metadata": {}
  },
  {
   "cell_type": "code",
   "execution_count": null,
   "source": [
    "# Code goes here\r\n",
    "animal = 'Monkey'\r\n",
    "show = \"curious George\"\r\n",
    "print(\"How old is that\", animal, \"from\", show, \"?\")"
   ],
   "outputs": [],
   "metadata": {}
  },
  {
   "cell_type": "markdown",
   "source": [
    "# Task 8\r\n",
    "Use an f-string to print the name of your school, what grade you're in and your favorite thing for lunch\r\n",
    "\r\n",
    "```python \r\n",
    "#expected output#\r\n",
    "\"My name is 'your_name' and I am in 'your_grade'. My favorite thing for lunch is 'fav_lunch'.\"\r\n",
    "```"
   ],
   "metadata": {}
  },
  {
   "cell_type": "code",
   "execution_count": null,
   "source": [
    "# Code goes here\r\n",
    "school = None\r\n",
    "grade = None\r\n",
    "fav_lunch = None"
   ],
   "outputs": [],
   "metadata": {}
  }
 ],
 "metadata": {
  "orig_nbformat": 4,
  "language_info": {
   "name": "python",
   "version": "3.7.4",
   "mimetype": "text/x-python",
   "codemirror_mode": {
    "name": "ipython",
    "version": 3
   },
   "pygments_lexer": "ipython3",
   "nbconvert_exporter": "python",
   "file_extension": ".py"
  },
  "kernelspec": {
   "name": "python3",
   "display_name": "Python 3.7.4 64-bit"
  },
  "interpreter": {
   "hash": "fd61235da8d855c081cbd5d7c6398e4c179a40a950675235256f7f30499f1124"
  }
 },
 "nbformat": 4,
 "nbformat_minor": 2
}
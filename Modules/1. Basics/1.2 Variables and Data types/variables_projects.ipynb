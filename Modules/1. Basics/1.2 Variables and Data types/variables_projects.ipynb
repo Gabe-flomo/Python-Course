{
 "cells": [
  {
   "cell_type": "markdown",
   "source": [
    "# Variable Exercises"
   ],
   "metadata": {}
  },
  {
   "cell_type": "markdown",
   "source": [
    "## Task 1\r\n",
    "<b>Create a numeric variable and print out its memory address</b>"
   ],
   "metadata": {}
  },
  {
   "cell_type": "code",
   "execution_count": null,
   "source": [
    "# Code goes here"
   ],
   "outputs": [],
   "metadata": {}
  },
  {
   "cell_type": "markdown",
   "source": [
    "## Task 2\r\n",
    "<b>Create a variable of type string and print out its value, then reassign a value of type float to the same variable and printout its value</b>"
   ],
   "metadata": {}
  },
  {
   "cell_type": "code",
   "execution_count": null,
   "source": [
    "# Code goes here"
   ],
   "outputs": [],
   "metadata": {}
  },
  {
   "cell_type": "markdown",
   "source": [
    "## Task 3\r\n",
    "<b>Assign values of different types to each of the following variables and print out their types</b>"
   ],
   "metadata": {}
  },
  {
   "cell_type": "code",
   "execution_count": null,
   "source": [
    "# Code goes here\r\n",
    "var1, var2, var3 = "
   ],
   "outputs": [],
   "metadata": {}
  },
  {
   "cell_type": "markdown",
   "source": [
    "------------------\r\n",
    "# String Exercises"
   ],
   "metadata": {}
  },
  {
   "cell_type": "markdown",
   "source": [
    "## Task 1\r\n",
    "<b>Create a string and print the first character</b>"
   ],
   "metadata": {}
  },
  {
   "cell_type": "code",
   "execution_count": null,
   "source": [
    "# Code goes here"
   ],
   "outputs": [],
   "metadata": {}
  },
  {
   "cell_type": "markdown",
   "source": [
    "## Task 2\r\n",
    "<b>In your own words, describe what is meant by an index</b>"
   ],
   "metadata": {}
  },
  {
   "cell_type": "code",
   "execution_count": null,
   "source": [
    "# Response goes here\r\n",
    "# \r\n",
    "# An index is ..."
   ],
   "outputs": [],
   "metadata": {}
  },
  {
   "cell_type": "markdown",
   "source": [
    "## Task 3\r\n",
    "<b>Create a string and print out the last character (without using the len() function)</b>"
   ],
   "metadata": {}
  },
  {
   "cell_type": "code",
   "execution_count": null,
   "source": [
    "# Code goes here\r\n",
    "string = \"\""
   ],
   "outputs": [],
   "metadata": {}
  },
  {
   "cell_type": "markdown",
   "source": [
    "## Task 4\r\n",
    "<b>Create a string and print out the last character using the len() function</b>"
   ],
   "metadata": {}
  },
  {
   "cell_type": "code",
   "execution_count": null,
   "source": [
    "# Code goes here\r\n",
    "string = \"\""
   ],
   "outputs": [],
   "metadata": {}
  },
  {
   "cell_type": "markdown",
   "source": [
    "## Task 5\r\n",
    "<b> Print the first, middle, and last character of the string, as well as its length</b>"
   ],
   "metadata": {}
  },
  {
   "cell_type": "code",
   "execution_count": null,
   "source": [
    "# Code goes here\r\n",
    "var = \"Directing\""
   ],
   "outputs": [],
   "metadata": {}
  },
  {
   "cell_type": "markdown",
   "source": [
    "## Task 6\r\n",
    "<b> Create two string variables and concatenate (combine) them to create a new variable called message, then print the message.</b>"
   ],
   "metadata": {}
  },
  {
   "cell_type": "code",
   "execution_count": null,
   "source": [
    "# Code goes here\r\n",
    "var1, var2 ="
   ],
   "outputs": [],
   "metadata": {}
  },
  {
   "cell_type": "markdown",
   "source": [
    "-------------------\r\n",
    "# Lists an Tuple Exercises"
   ],
   "metadata": {}
  },
  {
   "cell_type": "markdown",
   "source": [
    "## Task 1\r\n",
    "<b> Create a 5 element list and print out its length</b>"
   ],
   "metadata": {}
  },
  {
   "cell_type": "code",
   "execution_count": null,
   "source": [
    "# Code goes here"
   ],
   "outputs": [],
   "metadata": {}
  },
  {
   "cell_type": "markdown",
   "source": [
    "## Task 2\r\n",
    "<b> create a 5 element list of integers then print the list. Next, change the first and last elements then print the list</b>"
   ],
   "metadata": {}
  },
  {
   "cell_type": "code",
   "execution_count": null,
   "source": [
    "# Code goes here"
   ],
   "outputs": [],
   "metadata": {}
  },
  {
   "cell_type": "markdown",
   "source": [
    "## Task 3\r\n",
    "<b> create a 3 element list where each element is a diffrent type, then print out the type of each element</b>"
   ],
   "metadata": {}
  },
  {
   "cell_type": "code",
   "execution_count": null,
   "source": [
    "# Code goes here"
   ],
   "outputs": [],
   "metadata": {}
  },
  {
   "cell_type": "markdown",
   "source": [
    "## Task 4\r\n",
    "<b> Create a 5 element tuple of floats, then print out the middle value</b>"
   ],
   "metadata": {}
  },
  {
   "cell_type": "code",
   "execution_count": null,
   "source": [
    "# Code goes here"
   ],
   "outputs": [],
   "metadata": {}
  },
  {
   "cell_type": "markdown",
   "source": [
    "## Task 5\r\n",
    "<b>The following code produces an error. Change the data type so that the error gets fixed</b>"
   ],
   "metadata": {}
  },
  {
   "cell_type": "code",
   "execution_count": null,
   "source": [
    "# Solution goes here\r\n",
    "var = ('This', \"is\", \"a\", \"tuple\")\r\n",
    "var[3] = 'list'\r\n",
    "print(var)"
   ],
   "outputs": [],
   "metadata": {}
  },
  {
   "cell_type": "markdown",
   "source": [
    "----------------\r\n",
    "# Dictionary Exercises"
   ],
   "metadata": {}
  },
  {
   "cell_type": "markdown",
   "source": [
    "## Task 1\r\n",
    "<b>Create a dictionary called classes and have the first 3 keys be your first 3 class periods and the values be the name of your teacher.</b>"
   ],
   "metadata": {}
  },
  {
   "cell_type": "code",
   "execution_count": null,
   "source": [
    "# Code goes here"
   ],
   "outputs": [],
   "metadata": {}
  },
  {
   "cell_type": "markdown",
   "source": [
    "## Task 2\r\n",
    "<b>Add a new key to your classes dictionary where the key is 'lunch' and the value is what you had today.</b>"
   ],
   "metadata": {}
  },
  {
   "cell_type": "code",
   "execution_count": null,
   "source": [
    "# Code goes here"
   ],
   "outputs": [],
   "metadata": {}
  },
  {
   "cell_type": "markdown",
   "source": [
    "## Task 3\r\n",
    "<b>Print out the values of your classes dictionary using bracket notation</b>"
   ],
   "metadata": {}
  },
  {
   "cell_type": "code",
   "execution_count": null,
   "source": [
    "# Code goes here"
   ],
   "outputs": [],
   "metadata": {}
  },
  {
   "cell_type": "markdown",
   "source": [
    "## Task 4\r\n",
    "<b> Edit the code so that the message \"Star wars not found\" is displayed when trying to acess a non-existent key</b>"
   ],
   "metadata": {}
  },
  {
   "cell_type": "code",
   "execution_count": null,
   "source": [
    "# Solution goes here\r\n",
    "var = {\r\n",
    "    \"Marvel\":['Iron Man', 'Captain America', 'Spider-man'],\r\n",
    "    \"DC\":[\"Batman\", \"Superman\", \"Wonder Woman\"] \r\n",
    "}\r\n",
    "\r\n",
    "key = \"Star wars\"\r\n",
    "print(var.get(key))"
   ],
   "outputs": [],
   "metadata": {}
  }
 ],
 "metadata": {
  "orig_nbformat": 4,
  "language_info": {
   "name": "python",
   "version": "3.7.4",
   "mimetype": "text/x-python",
   "codemirror_mode": {
    "name": "ipython",
    "version": 3
   },
   "pygments_lexer": "ipython3",
   "nbconvert_exporter": "python",
   "file_extension": ".py"
  },
  "kernelspec": {
   "name": "python3",
   "display_name": "Python 3.7.4 64-bit ('base': conda)"
  },
  "interpreter": {
   "hash": "fd61235da8d855c081cbd5d7c6398e4c179a40a950675235256f7f30499f1124"
  }
 },
 "nbformat": 4,
 "nbformat_minor": 2
}
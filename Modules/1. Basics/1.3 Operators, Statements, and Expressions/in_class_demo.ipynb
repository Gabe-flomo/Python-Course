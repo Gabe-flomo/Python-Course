{
 "cells": [
  {
   "cell_type": "markdown",
   "metadata": {},
   "source": [
    "# Expressions\n",
    "Expressions are evaluations or operations that are reduced down to one or more values. In other words, expressions are ways to represent values. \n",
    "\n",
    "Examples of expressions are:\n",
    "* Doing Math        \n",
    "* evaluating Truth\n",
    "* concatenating strings\n",
    "* checking for membership\n",
    "\n",
    "**Lets look at some examples to see what this means**"
   ]
  },
  {
   "cell_type": "code",
   "execution_count": 8,
   "metadata": {},
   "outputs": [
    {
     "data": {
      "text/plain": [
       "10"
      ]
     },
     "execution_count": 8,
     "metadata": {},
     "output_type": "execute_result"
    }
   ],
   "source": [
    "# expressions always produce a value \n",
    "#TODO: Write an expression that evaluates to 10\n",
    "(5 ** 2) - (15)"
   ]
  },
  {
   "cell_type": "code",
   "execution_count": 11,
   "metadata": {},
   "outputs": [
    {
     "data": {
      "text/plain": [
       "-1e+93"
      ]
     },
     "execution_count": 11,
     "metadata": {},
     "output_type": "execute_result"
    }
   ],
   "source": [
    "# more complex expression\n",
    "#TODO:  write an expression that uses multiplication, division, subtraction and addition\n",
    "5 * 10 - 100 ** 50 /10000000"
   ]
  },
  {
   "cell_type": "markdown",
   "metadata": {},
   "source": [
    "<b>Expressions always involve values or functions and operators that evaluate to a new value</b>"
   ]
  },
  {
   "cell_type": "markdown",
   "metadata": {},
   "source": [
    "# Statements\n",
    "Statements are actions or commands that do something. Statements are like sentences that are made up of expressions.\n",
    "\n",
    "Examples of statements are:\n",
    "* variable assignment\n",
    "* printing \n",
    "* conditionals\n",
    "* loops"
   ]
  },
  {
   "cell_type": "code",
   "execution_count": 13,
   "metadata": {},
   "outputs": [
    {
     "data": {
      "text/plain": [
       "list"
      ]
     },
     "execution_count": 13,
     "metadata": {},
     "output_type": "execute_result"
    }
   ],
   "source": [
    "#TODO:  write variable assignment statement that creates a 5 element list\n",
    "var = [1,2,3,4]\n",
    "type(var)"
   ]
  },
  {
   "cell_type": "code",
   "execution_count": 16,
   "metadata": {},
   "outputs": [
    {
     "data": {
      "text/plain": [
       "'hello Class'"
      ]
     },
     "execution_count": 16,
     "metadata": {},
     "output_type": "execute_result"
    }
   ],
   "source": [
    "#TODO:  Write a print statement\n",
    "\"hello\" + \" Class\""
   ]
  },
  {
   "cell_type": "code",
   "execution_count": 17,
   "metadata": {},
   "outputs": [
    {
     "data": {
      "text/plain": [
       "'hello Class'"
      ]
     },
     "execution_count": 17,
     "metadata": {},
     "output_type": "execute_result"
    }
   ],
   "source": [
    "#TODO:  create a statement made from an expression\n",
    "message = \"hello\" + \" Class\"\n",
    "message"
   ]
  },
  {
   "cell_type": "markdown",
   "metadata": {},
   "source": [
    "# The boolean Data type\n",
    "Booleans are used to indicate truth and can only have the values: True or False\n",
    "\n",
    "They are useful when writing logical or conditional expressions, or evaluating the truth of an expression (you will see examples of this soon)."
   ]
  },
  {
   "cell_type": "code",
   "execution_count": 21,
   "metadata": {},
   "outputs": [
    {
     "data": {
      "text/plain": [
       "True"
      ]
     },
     "execution_count": 21,
     "metadata": {},
     "output_type": "execute_result"
    }
   ],
   "source": [
    "var = 123\n",
    "var is True"
   ]
  },
  {
   "cell_type": "code",
   "execution_count": 19,
   "metadata": {},
   "outputs": [
    {
     "data": {
      "text/plain": [
       "False"
      ]
     },
     "execution_count": 19,
     "metadata": {},
     "output_type": "execute_result"
    }
   ],
   "source": [
    "var = False\n",
    "var is True"
   ]
  },
  {
   "cell_type": "markdown",
   "metadata": {},
   "source": [
    "# Arithmetic Operators\n",
    "**Arithmetic operators are used to perform mathematical operations like addition, subtraction, multiplication, etc.**\n",
    "\n",
    "| Operator | Meaning                                                      | Example                  |\n",
    "| :------: | :----------------------------------------------------------- | :----------------------- |\n",
    "|    +     | Add two operands or unary plus                               | x + y+ 2                 |\n",
    "|    -     | Subtract right operand from the left or unary minus          | x - y- 2                 |\n",
    "|    *     | Multiply two operands                                        | x * y                    |\n",
    "|    /     | Divide left operand by the right one (always results into float) | x / y                |\n",
    "|    %     | Modulus - remainder of the division of left operand by the right | x % y (remainder of x/y) |\n",
    "|    //    | Floor division - division that results into whole number adjusted to the left in the number line | x // y  |\n",
    "|    **    | Exponent - left operand raised to the power of right         | x**y (x to the power y)  |\n",
    "\n"
   ]
  },
  {
   "cell_type": "code",
   "execution_count": 43,
   "metadata": {},
   "outputs": [
    {
     "data": {
      "text/plain": [
       "9765625"
      ]
     },
     "execution_count": 43,
     "metadata": {},
     "output_type": "execute_result"
    }
   ],
   "source": [
    "# arithmetic expressions \n",
    "#TODO SHow use cases for each operator\n",
    "5 ** 10"
   ]
  },
  {
   "cell_type": "markdown",
   "metadata": {},
   "source": [
    "# Using the Modulus operator to check if a number is even or odd\n",
    "In programming, there will be a time where you may want to check if a number is even or odd. The Modulus operator gives us an easy way to do this check.\n",
    "\n",
    "**Remeber: Modulus division gives us the remainder**\n",
    "--\n",
    "\n",
    "**So if I were to do the following:**\n",
    "\n",
    "\n",
    "$9/2$ I get 4.5. Pretty simple\n",
    "\n",
    "**But now, If Instead I did:**\n",
    "\n",
    "$9\\% 2$ I get 1.\n",
    "\n",
    "This is because `2` can be multiplied `4` whole times which gives us `8`, but we can't add another `2`, otherwise we get `10`. So the remainder is `1`.\n",
    "\n",
    "**If I were to do this with an even number:**\n",
    "\n",
    "$10 \\% 2$ I get 0. *This is the case for any even number*\n",
    "\n",
    "**So, if we want to check if a number is even or odd, all we have to do is mod the number by 2 and check if the remainder is 0 or not.**\n",
    "--"
   ]
  },
  {
   "cell_type": "code",
   "execution_count": 56,
   "metadata": {},
   "outputs": [
    {
     "data": {
      "text/plain": [
       "(0, 10)"
      ]
     },
     "execution_count": 56,
     "metadata": {},
     "output_type": "execute_result"
    }
   ],
   "source": [
    "from random import randint\n",
    "#TODO: Check if the values are even or odd\n",
    "var = randint(0, 10)\n",
    "var % 2, var"
   ]
  },
  {
   "cell_type": "markdown",
   "metadata": {},
   "source": [
    "# Assignment Operators\n",
    "Assignment operators are used in Python to assign values to variables.\n",
    "\n",
    "a = 5 is a simple assignment operator that assigns the value 5 on the right to the variable a on the left.\n",
    "\n",
    "There are also various compound operators in Python like a += 5 that adds to the variable and later assigns the same. It is equivalent to a = a + 5.\n",
    "| Operator | Example | Equivalent to |\n",
    "| :------- | :------ | :------------ |\n",
    "| =        | x = 5   | x = 5         |\n",
    "| +=       | x += 5  | x = x + 5     |\n",
    "| -=       | x -= 5  | x = x - 5     |\n",
    "| *=       | x *= 5  | x = x * 5     |\n",
    "| /=       | x /= 5  | x = x / 5     |\n",
    "| %=       | x %= 5  | x = x % 5     |\n",
    "| //=      | x //= 5 | x = x // 5    |\n",
    "| **=      | x **= 5 | x = x ** 5    |"
   ]
  },
  {
   "cell_type": "code",
   "execution_count": 64,
   "metadata": {},
   "outputs": [
    {
     "name": "stdout",
     "output_type": "stream",
     "text": [
      "x = 5\n",
      "x = 15\n",
      "x = 2\n",
      "x = 8\n",
      "x = 4.0\n",
      "x = 16.0\n"
     ]
    }
   ],
   "source": [
    "# Write a Simple assignment\n",
    "x = 5\n",
    "print(f\"x = {x}\")\n",
    "\n",
    "# Write Compound assignments\n",
    "\n",
    "x += 10\n",
    "print(f\"x = {x}\")\n",
    "\n",
    "x -= 13\n",
    "print(f\"x = {x}\")\n",
    "\n",
    "x *= 4\n",
    "print(f\"x = {x}\")\n",
    "\n",
    "x /= 2\n",
    "print(f\"x = {x}\")\n",
    "\n",
    "x **= 2\n",
    "print(f\"x = {x}\")\n"
   ]
  },
  {
   "cell_type": "markdown",
   "metadata": {},
   "source": [
    "# Comparison operators\n",
    "Comparison operators are used to compare values. It returns either True or False according to the condition.\n",
    "\n",
    "| Operator | Meaning                                                      | Example |\n",
    "| :------- | :----------------------------------------------------------- | :------ |\n",
    "| >        | Greater than - True if left operand is greater than the right | x > y   |\n",
    "| <        | Less than - True if left operand is less than the right      | x < y   |\n",
    "| ==       | Equal to - True if both operands are equal                   | x == y  |\n",
    "| !=       | Not equal to - True if operands are not equal                | x != y  |\n",
    "| >=       | Greater than or equal to - True if left operand is greater than or equal to the right | x >= y  |\n",
    "| <=       | Less than or equal to - True if left operand is less than or equal to the right | x <= y  |"
   ]
  },
  {
   "cell_type": "code",
   "execution_count": 80,
   "metadata": {},
   "outputs": [
    {
     "data": {
      "text/plain": [
       "True"
      ]
     },
     "execution_count": 80,
     "metadata": {},
     "output_type": "execute_result"
    }
   ],
   "source": [
    "# comparison expressions\n",
    "#TODO showcase each comparison operator\n",
    "\n"
   ]
  },
  {
   "cell_type": "markdown",
   "metadata": {},
   "source": [
    "# Logical operators\n",
    "Logical operators are used to evaluate the truth of an expression.\n",
    "\n",
    "| Operator | Meaning                                            | Example |\n",
    "| :------- | :------------------------------------------------- | :------ |\n",
    "| and      | True if both the operands are true                 | x and y |\n",
    "| or       | True if either of the operands is true             | x or y  |\n",
    "| not      | True if operand is false (complements the operand) | not x   |"
   ]
  },
  {
   "cell_type": "code",
   "execution_count": 96,
   "metadata": {},
   "outputs": [
    {
     "data": {
      "text/plain": [
       "True"
      ]
     },
     "execution_count": 96,
     "metadata": {},
     "output_type": "execute_result"
    }
   ],
   "source": [
    "# Logical Expressions\n",
    "\n",
    "# AND\n",
    "var = True\n",
    "var and True\n",
    "\n",
    "# OR\n",
    "False or False\n",
    "\n",
    "# NOT\n",
    "not False\n"
   ]
  },
  {
   "cell_type": "code",
   "execution_count": 102,
   "metadata": {},
   "outputs": [
    {
     "data": {
      "text/plain": [
       "False"
      ]
     },
     "execution_count": 102,
     "metadata": {},
     "output_type": "execute_result"
    }
   ],
   "source": [
    "# More Complex logical expressions\n",
    "\n",
    "# AND\n",
    "\n",
    "\n",
    "# OR\n",
    "(True or True) and (False or not True)\n"
   ]
  },
  {
   "cell_type": "markdown",
   "metadata": {},
   "source": [
    "# Membership Operators\n",
    "used to test whether a value or variable is found in a sequence (string, list, tuple, set and dictionary).\n",
    "\n",
    "**<em>In a dictionary we can only test for presence of key, not the value.</em>**\n",
    "| Operator | Meaning                                             | Example    |\n",
    "| :------- | :-------------------------------------------------- | :--------- |\n",
    "| in       | True if value/variable is found in the sequence     | 5 in x     |\n",
    "| not in   | True if value/variable is not found in the sequence | 5 not in x |"
   ]
  },
  {
   "cell_type": "code",
   "execution_count": 107,
   "metadata": {},
   "outputs": [
    {
     "data": {
      "text/plain": [
       "False"
      ]
     },
     "execution_count": 107,
     "metadata": {},
     "output_type": "execute_result"
    }
   ],
   "source": [
    "#TODO: check if 'world' is in the string 'hello world'\n",
    "var = \"Hello World\"\n",
    "\"world\" in var and \"hello\" in var"
   ]
  },
  {
   "cell_type": "code",
   "execution_count": 109,
   "metadata": {},
   "outputs": [
    {
     "data": {
      "text/plain": [
       "False"
      ]
     },
     "execution_count": 109,
     "metadata": {},
     "output_type": "execute_result"
    }
   ],
   "source": [
    "#TODO: check to see if the value 23 is in the list\n",
    "var = [23, 34, 1.43, 99]\n",
    "2 in var"
   ]
  },
  {
   "cell_type": "code",
   "execution_count": 111,
   "metadata": {},
   "outputs": [
    {
     "data": {
      "text/plain": [
       "True"
      ]
     },
     "execution_count": 111,
     "metadata": {},
     "output_type": "execute_result"
    }
   ],
   "source": [
    "#TODO: check to see if the value 11 is not in the list\n",
    "var = [12,23,34,45,56]\n",
    "11 not in var and 12 in var"
   ]
  },
  {
   "cell_type": "markdown",
   "metadata": {},
   "source": [
    "# Identity Operators\n",
    "**is** and **is not** are the identity operators in Python. They are used to check if two values (or variables) are located on the same part of the memory. \n",
    "\n",
    "***Two variables that are equal does not imply that they are identical.***\n",
    "\n",
    "| Operator | Meaning                                                      | Example       |\n",
    "| :------- | :----------------------------------------------------------- | :------------ |\n",
    "| is       | True if the operands are identical (refer to the same object) | x is True     |\n",
    "| is not   | True if the operands are not identical (do not refer to the same object) | x is not True |\n",
    "\n",
    "<em><b>The concept of objects will make more sense when we cover objects in Module 7</b></em>"
   ]
  },
  {
   "cell_type": "code",
   "execution_count": 122,
   "metadata": {},
   "outputs": [
    {
     "name": "stdout",
     "output_type": "stream",
     "text": [
      "1956784067144\n",
      "False\n",
      "1956783939464 1956783892680\n"
     ]
    }
   ],
   "source": [
    "# remember the id() function?\n",
    "# var = 25\n",
    "# print(id(var))\n",
    "# #TODO What is the memory address of 25\n",
    "# print(id(25))\n",
    "# print(var is not 25)\n",
    "\n",
    "# Two variables that are equal does not imply that they are identical.\n",
    "var2 = [1,2,3,4]\n",
    "var3 = [1,2,3,4]\n",
    "print(id([1,2,3,4]))\n",
    "print(var2 is var3)\n",
    "print(id(var2), id(var3))\n",
    "#TODO Is var2 and var3 identical?\n",
    "\n",
    "# creating identical variables\n",
    "var4 = [4,3,2,1]\n",
    "var5 = var4\n",
    "#TODO What is the momry address of the list [4,3,2,1]\n",
    "#TODO What is the memory address of var4 and var5\n",
    "#TODO Is var4 and var5 identical?\n"
   ]
  },
  {
   "cell_type": "markdown",
   "metadata": {},
   "source": [
    "## Why is this the case???\n",
    "\n",
    "In the first example, we have the literal value 25. When we assign 25 to var, nothing new happens, we are simply referencing the memory address where 25 is located with a variable. \n",
    "\n",
    "In the second example, we create a list of 4 elements. Lists aren't literal values, they're objects. Each time an object is created, it is assigned its own location in memory, even if the elements are the same. This is because we don't actually care about what the list is holding, we only care about the object itself. Since each list is created at different moments, they are different instances of list objects. Since theyre different objects, they are assigned different memory locations. So when we check to see if the two lists are identical, we see that this is false because they do not share memory locations.\n",
    "\n",
    "In the third example, we create the variable 'var4' and assign a 4 element list to it. We then create the variable 'var5' and assign it the value of 'var4'. What this basically does is make var5 and var4 point to the value at the same memory address, which is the 4 element list. No new object is created, it's just that two variable now reference the same memory location.\n",
    "\n",
    "<img src = \"objects.png\" width = 900 height = 500>\n"
   ]
  }
 ],
 "metadata": {
  "interpreter": {
   "hash": "fd61235da8d855c081cbd5d7c6398e4c179a40a950675235256f7f30499f1124"
  },
  "kernelspec": {
   "display_name": "Python 3.7.4 64-bit ('base': conda)",
   "name": "python3"
  },
  "language_info": {
   "codemirror_mode": {
    "name": "ipython",
    "version": 3
   },
   "file_extension": ".py",
   "mimetype": "text/x-python",
   "name": "python",
   "nbconvert_exporter": "python",
   "pygments_lexer": "ipython3",
   "version": "3.7.4"
  },
  "orig_nbformat": 4
 },
 "nbformat": 4,
 "nbformat_minor": 2
}

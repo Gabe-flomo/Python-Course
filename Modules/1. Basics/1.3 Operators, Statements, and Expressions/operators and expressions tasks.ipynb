{
 "cells": [
  {
   "cell_type": "markdown",
   "source": [
    "# TIME 30 Min"
   ],
   "metadata": {}
  },
  {
   "cell_type": "markdown",
   "source": [
    "# Expression Exercises"
   ],
   "metadata": {}
  },
  {
   "cell_type": "markdown",
   "source": [
    "## TASK 1\r\n",
    "write an expression that evaluates to 20"
   ],
   "metadata": {}
  },
  {
   "cell_type": "code",
   "execution_count": null,
   "source": [
    "#TODO:\r\n"
   ],
   "outputs": [],
   "metadata": {}
  },
  {
   "cell_type": "markdown",
   "source": [
    "## TASK 2\r\n",
    "write an expression that evaluates to -45"
   ],
   "metadata": {}
  },
  {
   "cell_type": "code",
   "execution_count": null,
   "source": [
    "#TODO:\r\n"
   ],
   "outputs": [],
   "metadata": {}
  },
  {
   "cell_type": "markdown",
   "source": [
    "## TASK 3 \r\n",
    "create a 5 element list and write an expression that evaluates to the length of the list squared"
   ],
   "metadata": {}
  },
  {
   "cell_type": "code",
   "execution_count": null,
   "source": [
    "#TODO:\r\n"
   ],
   "outputs": [],
   "metadata": {}
  },
  {
   "cell_type": "markdown",
   "source": [
    "# Statement Exercises"
   ],
   "metadata": {}
  },
  {
   "cell_type": "markdown",
   "source": [
    "## TASK 1\r\n",
    "Write a simple assignment statement that assigns 10 to var"
   ],
   "metadata": {}
  },
  {
   "cell_type": "code",
   "execution_count": null,
   "source": [
    "#TODO:\r\n"
   ],
   "outputs": [],
   "metadata": {}
  },
  {
   "cell_type": "markdown",
   "source": [
    "## TASK 2\r\n",
    "write an expression that evaluates to 200 and assign it to var"
   ],
   "metadata": {}
  },
  {
   "cell_type": "code",
   "execution_count": null,
   "source": [
    "#TODO:\r\n"
   ],
   "outputs": [],
   "metadata": {}
  },
  {
   "cell_type": "markdown",
   "source": [
    "## TASK 3\r\n",
    "write a statement that prints out your first and last name separated by semi-colons."
   ],
   "metadata": {}
  },
  {
   "cell_type": "code",
   "execution_count": null,
   "source": [
    "#TODO:\r\n"
   ],
   "outputs": [],
   "metadata": {}
  },
  {
   "cell_type": "markdown",
   "source": [
    "# Arithmetic operator exercises"
   ],
   "metadata": {}
  },
  {
   "cell_type": "markdown",
   "source": [
    "## TASK 1\r\n",
    "calculate the product of 6 and 7, then floor divide the result by 3 and assign the value to var. Then print out the result."
   ],
   "metadata": {}
  },
  {
   "cell_type": "code",
   "execution_count": null,
   "source": [
    "#TODO:\r\n"
   ],
   "outputs": [],
   "metadata": {}
  },
  {
   "cell_type": "markdown",
   "source": [
    "## TASK 2\r\n",
    "* Calculate 50 divided by 5 and assign the result to `var`.\r\n",
    "* Then find the remainder of 20 divided by 6 and assign the result to `remainder` \r\n",
    "* Calculate `var` to the power of `remainder` and print the result"
   ],
   "metadata": {}
  },
  {
   "cell_type": "code",
   "execution_count": null,
   "source": [
    "#TODO:\r\n"
   ],
   "outputs": [],
   "metadata": {}
  },
  {
   "cell_type": "markdown",
   "source": [
    "## TASK 3\r\n",
    "This is the formula for the pythagorean therom\r\n",
    "\r\n",
    "$a^{2}+b^{2}=c^{2}$\r\n",
    "\r\n",
    "using the variables below, solve for $c^{2}$"
   ],
   "metadata": {}
  },
  {
   "cell_type": "code",
   "execution_count": null,
   "source": [
    "a = 8\r\n",
    "b = 4\r\n",
    "#TODO: "
   ],
   "outputs": [],
   "metadata": {}
  },
  {
   "cell_type": "markdown",
   "source": [
    "# Comparison operators exercises"
   ],
   "metadata": {}
  },
  {
   "cell_type": "markdown",
   "source": [
    "## TASK 1\r\n",
    "check to see if x is greater than y"
   ],
   "metadata": {}
  },
  {
   "cell_type": "code",
   "execution_count": null,
   "source": [
    "x = 10\r\n",
    "y = 5\r\n",
    "#TODO:"
   ],
   "outputs": [],
   "metadata": {}
  },
  {
   "cell_type": "markdown",
   "source": [
    "## TASK 2\r\n",
    "check to see if x is less than y"
   ],
   "metadata": {}
  },
  {
   "cell_type": "code",
   "execution_count": null,
   "source": [
    "x = 10\r\n",
    "y = 5\r\n",
    "#TODO:\r\n"
   ],
   "outputs": [],
   "metadata": {}
  },
  {
   "cell_type": "markdown",
   "source": [
    "## TASK 3\r\n",
    "check to see if a is equal to b"
   ],
   "metadata": {}
  },
  {
   "cell_type": "code",
   "execution_count": null,
   "source": [
    "a = (True or False) and (True and True)\r\n",
    "b = False\r\n",
    "#TODO:\r\n"
   ],
   "outputs": [],
   "metadata": {}
  },
  {
   "cell_type": "markdown",
   "source": [
    "## TASK 4 \r\n",
    "check to see if a is greater than or equal to b"
   ],
   "metadata": {}
  },
  {
   "cell_type": "code",
   "execution_count": null,
   "source": [
    "a = len([1,2,3,4]) ** 2\r\n",
    "b = (10//3) * 5\r\n",
    "#TODO:\r\n"
   ],
   "outputs": [],
   "metadata": {}
  },
  {
   "cell_type": "markdown",
   "source": [
    "## TASK 5\r\n",
    "Check to see if a is not equal to b"
   ],
   "metadata": {}
  },
  {
   "cell_type": "code",
   "execution_count": null,
   "source": [
    "a = \"I am a\"\r\n",
    "b = \"I am b\"\r\n",
    "#TODO:\r\n"
   ],
   "outputs": [],
   "metadata": {}
  },
  {
   "cell_type": "markdown",
   "source": [
    "## TASK 6\r\n",
    "check to see if a is less than or equal to b"
   ],
   "metadata": {}
  },
  {
   "cell_type": "code",
   "execution_count": null,
   "source": [
    "a = 99\r\n",
    "b = len([x for x in range(100)]) - 1\r\n",
    "#TODO:\r\n"
   ],
   "outputs": [],
   "metadata": {}
  },
  {
   "cell_type": "markdown",
   "source": [
    "# Logic exercises"
   ],
   "metadata": {}
  },
  {
   "cell_type": "markdown",
   "source": [
    "## TASK 1\r\n",
    "Create and evaluate the truth of the following\r\n",
    "* `a` is True\r\n",
    "* `b` is False\r\n",
    "* Is `a` and `b` true?"
   ],
   "metadata": {}
  },
  {
   "cell_type": "code",
   "execution_count": null,
   "source": [
    "#TODO:\r\n"
   ],
   "outputs": [],
   "metadata": {}
  },
  {
   "cell_type": "markdown",
   "source": [
    "## TASK 2\r\n",
    "* assign the expression 5 is greater than 2, to `a`\r\n",
    "* assign the expression len([1,2,3,4]) is less than 10, to `b`\r\n",
    "* Is `a` or `b` true?"
   ],
   "metadata": {}
  },
  {
   "cell_type": "code",
   "execution_count": null,
   "source": [
    "#TODO:"
   ],
   "outputs": [],
   "metadata": {}
  },
  {
   "cell_type": "markdown",
   "source": [
    "## TASK 3 \r\n",
    "what are the values for `a`, `b`, `x`, and `y` if the expression `(a and b) and not (x or y)` is true?\r\n",
    "\r\n",
    "***There may be more than one solution***"
   ],
   "metadata": {}
  },
  {
   "cell_type": "code",
   "execution_count": null,
   "source": [
    "a = #TODO\r\n",
    "b = #TODO\r\n",
    "x = #TODO\r\n",
    "y = #TODO\r\n",
    "\r\n",
    "(a and b) and not (x or y)"
   ],
   "outputs": [],
   "metadata": {}
  },
  {
   "cell_type": "markdown",
   "source": [
    "## TASK 4\r\n",
    "What are the values for `x` and `y` if the expression    `not((x and not y) or (not x and not y))` evaluates to false.\r\n",
    "\r\n",
    "***There may be more than one solution***"
   ],
   "metadata": {}
  },
  {
   "cell_type": "code",
   "execution_count": null,
   "source": [
    "x = #TODO \r\n",
    "y = #TODO \r\n"
   ],
   "outputs": [],
   "metadata": {}
  },
  {
   "cell_type": "markdown",
   "source": [
    "# Membership exercises"
   ],
   "metadata": {}
  },
  {
   "cell_type": "markdown",
   "source": [
    "## TASK 1\r\n",
    "Check to see if 'burn' is present in the string"
   ],
   "metadata": {}
  },
  {
   "cell_type": "code",
   "execution_count": null,
   "source": [
    "string = \"Wasburn\"\r\n",
    "#TODO:"
   ],
   "outputs": [],
   "metadata": {}
  },
  {
   "cell_type": "markdown",
   "source": [
    "## TASK 2\r\n",
    "check to see if 'Grandma' is present in the tuple"
   ],
   "metadata": {}
  },
  {
   "cell_type": "code",
   "execution_count": null,
   "source": [
    "tpl = (\"Mom\", \"Dad\", \"Brother\", \"Brother\", \"Sister\", \"Pet\")\r\n",
    "#TODO\r\n"
   ],
   "outputs": [],
   "metadata": {}
  },
  {
   "cell_type": "markdown",
   "source": [
    "## TASK 3\r\n",
    "Is 10 squared present in the list?"
   ],
   "metadata": {}
  },
  {
   "cell_type": "code",
   "execution_count": null,
   "source": [
    "lst = [100 - 10, 99 + 6, 100 ** .5, 'Bruh']\r\n",
    "#TODO"
   ],
   "outputs": [],
   "metadata": {}
  },
  {
   "cell_type": "markdown",
   "source": [
    "## TASK 4\r\n",
    "Is the key 'awareness' not in the dictionary?"
   ],
   "metadata": {}
  },
  {
   "cell_type": "code",
   "execution_count": null,
   "source": [
    "dct = {'mind':\"Thinking\",\r\n",
    "       'body':\"Feeling\",\r\n",
    "       'world':\"Acting\"}\r\n",
    "#TODO"
   ],
   "outputs": [],
   "metadata": {}
  },
  {
   "cell_type": "markdown",
   "source": [
    "# Identity exercises"
   ],
   "metadata": {}
  },
  {
   "cell_type": "markdown",
   "source": [
    "## TASK 1\r\n",
    "are the two variables identical?"
   ],
   "metadata": {}
  },
  {
   "cell_type": "code",
   "execution_count": null,
   "source": [
    "var = 44\r\n",
    "var2 = 50 - 6\r\n",
    "#TODO"
   ],
   "outputs": [],
   "metadata": {}
  },
  {
   "cell_type": "markdown",
   "source": [
    "## TASK 2\r\n",
    "are the two variables identical"
   ],
   "metadata": {}
  },
  {
   "cell_type": "code",
   "execution_count": null,
   "source": [
    "var = len([1,2,3,4,5])\r\n",
    "var2 = len([54,23,54,12,69])\r\n",
    "#TODO"
   ],
   "outputs": [],
   "metadata": {}
  },
  {
   "cell_type": "markdown",
   "source": [
    "## TASK 3\r\n",
    "Are the two variables identical?"
   ],
   "metadata": {}
  },
  {
   "cell_type": "code",
   "execution_count": null,
   "source": [
    "var = [10, 12, 14, 16]\r\n",
    "var2 = [10, 12, 14, 16]\r\n",
    "#TODO"
   ],
   "outputs": [],
   "metadata": {}
  },
  {
   "cell_type": "markdown",
   "source": [
    "## TASK 4\r\n",
    "Are the two variables identical?"
   ],
   "metadata": {}
  },
  {
   "cell_type": "code",
   "execution_count": null,
   "source": [
    "var = {1: 111, 2:222, 3:333}\r\n",
    "var2 = var\r\n",
    "#TODO"
   ],
   "outputs": [],
   "metadata": {}
  },
  {
   "cell_type": "markdown",
   "source": [
    "## TASK 5 \r\n",
    "are the two variables not identical?"
   ],
   "metadata": {}
  },
  {
   "cell_type": "code",
   "execution_count": null,
   "source": [
    "var = 'Hello'\r\n",
    "var2 = 'hello'\r\n",
    "#TODO"
   ],
   "outputs": [],
   "metadata": {}
  }
 ],
 "metadata": {
  "orig_nbformat": 4,
  "language_info": {
   "name": "python",
   "version": "3.7.4",
   "mimetype": "text/x-python",
   "codemirror_mode": {
    "name": "ipython",
    "version": 3
   },
   "pygments_lexer": "ipython3",
   "nbconvert_exporter": "python",
   "file_extension": ".py"
  },
  "kernelspec": {
   "name": "python3",
   "display_name": "Python 3.7.4 64-bit ('base': conda)"
  },
  "interpreter": {
   "hash": "fd61235da8d855c081cbd5d7c6398e4c179a40a950675235256f7f30499f1124"
  }
 },
 "nbformat": 4,
 "nbformat_minor": 2
}
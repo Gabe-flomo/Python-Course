{
 "cells": [
  {
   "cell_type": "markdown",
   "source": [
    "# IF, ELSE, ELIF Statement Exercises\r\n",
    "Below are a series of tasks to complete that will require the use of conditional statements."
   ],
   "metadata": {}
  },
  {
   "cell_type": "code",
   "execution_count": null,
   "source": [
    "from helper_functions import * #MAKE SURE TO RUN THIS!\r\n",
    "from random import choice"
   ],
   "outputs": [],
   "metadata": {}
  },
  {
   "cell_type": "markdown",
   "source": [
    "## TASK 1 \r\n",
    "Write a conditional to test if `x` is greater than or equal to `y`. Print the result of the conditional."
   ],
   "metadata": {}
  },
  {
   "cell_type": "code",
   "execution_count": null,
   "source": [
    "x = generate_number()\r\n",
    "y = generate_number()\r\n",
    "\r\n",
    "#TODO: check to see if x is greater than y\r\n"
   ],
   "outputs": [],
   "metadata": {}
  },
  {
   "cell_type": "markdown",
   "source": [
    "## TASK 2\r\n",
    "write a conditional to see if x and y are equal. Print the result of the conditional"
   ],
   "metadata": {}
  },
  {
   "cell_type": "code",
   "execution_count": null,
   "source": [
    "x = generate_number((0, 5))\r\n",
    "y = generate_number((0, 5))\r\n",
    "\r\n",
    "#TODO: write a conditional to check if x and y are equal\r\n"
   ],
   "outputs": [],
   "metadata": {}
  },
  {
   "cell_type": "markdown",
   "source": [
    "## TASK 3\r\n",
    "Jasmine has a fruit store and wants to answer the following questions:\r\n",
    "> If I choose a random fruit, will it start with the letter `P`?"
   ],
   "metadata": {}
  },
  {
   "cell_type": "code",
   "execution_count": null,
   "source": [
    "fruit = random_fruit()\r\n",
    "#TODO: Write conditional statement to check if the fruits first character is the letter p. If it is print 'starts with p' otherwise\r\n",
    "# print the letter that the fruit starts with. (all letters are lowercase)"
   ],
   "outputs": [],
   "metadata": {}
  },
  {
   "cell_type": "markdown",
   "source": [
    "## TASK 4\r\n",
    "Write a conditional statement to see if the random number that gets generated is equal to the length of a randomly chosen fruit. \r\n",
    "* If they are equal print the fruit as well as the length. \r\n",
    "* If they are not equal, print the fruit, the length of the fruit, and the number that was generated"
   ],
   "metadata": {}
  },
  {
   "cell_type": "code",
   "execution_count": null,
   "source": [
    "fruit = random_fruit()\r\n",
    "number = generate_number((3, 11))\r\n",
    "#TODO: Write a conditional statement to see if the random number that is generated is equal to the length of a randomly chosen fruit."
   ],
   "outputs": [],
   "metadata": {}
  },
  {
   "cell_type": "markdown",
   "source": [
    "## TASK 5\r\n",
    "Use a ternary conditional assign the value `greater` or `smaller` to the variable `var` if the length of the random fruit is greater than 5 characters. Then print `var`"
   ],
   "metadata": {}
  },
  {
   "cell_type": "code",
   "execution_count": null,
   "source": [
    "fruit = random_fruit()\r\n",
    "#TODO"
   ],
   "outputs": [],
   "metadata": {}
  },
  {
   "cell_type": "markdown",
   "source": [
    "## TASK 6\r\n",
    "Below is a list of random characters and one of them will be chosen at random. Write a series of if and elif statements to print different things based on the sign chosen.\r\n",
    "- @: print `@your_name`\r\n",
    "- #: print `#itBeLikeThat`\r\n",
    "- $: print `$10,000`\r\n",
    "- !: print `WHY AM I YELLING!!!`"
   ],
   "metadata": {}
  },
  {
   "cell_type": "code",
   "execution_count": null,
   "source": [
    "sign = choice([\"@\", \"#\", \"$\", \"!\"])\r\n",
    "#TODO:\r\n"
   ],
   "outputs": [],
   "metadata": {}
  },
  {
   "cell_type": "code",
   "execution_count": null,
   "source": [],
   "outputs": [],
   "metadata": {}
  }
 ],
 "metadata": {
  "orig_nbformat": 4,
  "language_info": {
   "name": "python",
   "version": "3.7.4",
   "mimetype": "text/x-python",
   "codemirror_mode": {
    "name": "ipython",
    "version": 3
   },
   "pygments_lexer": "ipython3",
   "nbconvert_exporter": "python",
   "file_extension": ".py"
  },
  "kernelspec": {
   "name": "python3",
   "display_name": "Python 3.7.4 64-bit ('base': conda)"
  },
  "interpreter": {
   "hash": "fd61235da8d855c081cbd5d7c6398e4c179a40a950675235256f7f30499f1124"
  }
 },
 "nbformat": 4,
 "nbformat_minor": 2
}
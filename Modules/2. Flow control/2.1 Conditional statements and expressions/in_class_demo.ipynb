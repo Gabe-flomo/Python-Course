{
 "cells": [
  {
   "cell_type": "markdown",
   "source": [
    "# What is Flow Control\r\n",
    "So far, we have been writing simple programs that haven't had much structure. We only execute code in sequential a order and we dont really have control over when certain statements get executed or the ability to do things in iteration. In most cases, you aren't writing code simply to just evaluate values, or check the type of a variable, or perform some type of calculation. Most of the times we want to actually *do* something with your program. This is where *flow control* or *the flow of the program* comes in. \r\n",
    "\r\n",
    "**Flow control is what allows for our program to have a useful structure so that more complex tasks can be executed.**\r\n",
    "\r\n",
    "Some things that allow us to control the flow of our program are:\r\n",
    "* Condition statements (choice)\r\n",
    "* Loop statements (iteration)\r\n",
    "* Break statements (stopping iterations)\r\n",
    "* Continue statements (continuing iterations)\r\n",
    "\r\n",
    "**In this section, we will be looking at how to use conditional statements and expressions to control the flow of our program.**"
   ],
   "metadata": {}
  },
  {
   "cell_type": "markdown",
   "source": [
    "# `If` statements\r\n",
    "An if statement evaluates a condition to either `true` or `false`. If the condition evaluates to `true`, we enter the statement body and execute the code. If the condition evaluates to `false`, we move on. \r\n",
    "<div align = \"center\">\r\n",
    "    <img src = \"if-statement.jpg\" width = \"25%\" >\r\n",
    "</div>\r\n",
    "\r\n",
    "**To understand more how this works, we are going to do a quick activity**"
   ],
   "metadata": {}
  },
  {
   "cell_type": "markdown",
   "source": [
    "______\r\n",
    "\r\n",
    "<h1 style = \"font-size: 40px\" align = \"center\"> Activity </h1>\r\n",
    "\r\n",
    "______\r\n",
    "\r\n",
    "\r\n",
    "<div align = \"center\" style = \"color: black\">\r\n",
    "    <img src = \"hand.gif\" >\r\n",
    "</div>\r\n",
    "\r\n",
    "\r\n",
    "\r\n",
    "______\r\n",
    "\r\n",
    "<h1 style = \"font-size: 40px\" align = \"center\"> Activity </h1>\r\n",
    "\r\n",
    "______\r\n"
   ],
   "metadata": {}
  },
  {
   "cell_type": "markdown",
   "source": [
    "# Lets do the activity in python 👏🏾\r\n",
    "In the activity, you were tasked with doing certain actions if a condition was met. Now we will do the same thing using code 🤝🏾.\r\n",
    "\r\n",
    "*This activity will also introduce you to the concept of **indentation***"
   ],
   "metadata": {}
  },
  {
   "cell_type": "code",
   "execution_count": null,
   "source": [
    "from random import choice # used to choose a random element (imports will be covered in Module 5)\r\n",
    "\r\n",
    "objects = [\"🔵\", \"🟣\", \"🟠\"]\r\n",
    "object = choice(objects)\r\n",
    "\r\n",
    "# write 3 separate if statements to check which condition was met"
   ],
   "outputs": [],
   "metadata": {}
  },
  {
   "cell_type": "markdown",
   "source": [
    "**In Python, the body of the if statement is indicated by the indentation. The body starts with an indentation and the first unindented line marks the end.**"
   ],
   "metadata": {}
  },
  {
   "cell_type": "markdown",
   "source": [
    "# `Else`: What if the condition is False?\r\n",
    "The `else` statement is used in conjunction with an `if` statement to run a block of code if the condition is False. Indentation is used to separate the blocks."
   ],
   "metadata": {}
  },
  {
   "cell_type": "code",
   "execution_count": null,
   "source": [
    "objects = [\"🔵\", \"🟣\", \"🟠\", 'No object']\r\n",
    "object = choice(objects)\r\n",
    "\r\n",
    "# TODO: write an expression to check if the chosen object is in the list of object\r\n",
    "\r\n",
    "#TODO: write an if statement to check if the expression is True, otherwise use an else statement to display that the expression was false\r\n",
    "\r\n"
   ],
   "outputs": [],
   "metadata": {}
  },
  {
   "cell_type": "markdown",
   "source": [
    "# `Elif`: Testing for multiple expressions\r\n",
    "In the Example above we tested for a single expression and depending on the result we did one of two things. Either the object was found and we displayed the object, or the object was not found and we showed that it wasn't.\r\n",
    "\r\n",
    "Sometimes, we want to check if one of multiple expressions are True instead of just one (similar to the very first example). This is where `elif` comes in.\r\n",
    "\r\n",
    "The `elif` statement is short for else if. It allows us to check for multiple expressions. If the condition for `if` is False, it checks the condition of the next `elif` block and so on. If all the conditions are False, the body of else is executed.\r\n",
    "\r\n",
    "**In this example we are going to combine the first and second examples together using `elif`**"
   ],
   "metadata": {}
  },
  {
   "cell_type": "code",
   "execution_count": null,
   "source": [
    "objects = [\"🔵\", \"🟣\", \"🟠\", 'No object']\r\n",
    "object = choice(objects)\r\n",
    "\r\n",
    "#TODO: create if and elif statements to check if an object was chosen. If an object is not chosen, display that in the else block\r\n",
    "\r\n"
   ],
   "outputs": [],
   "metadata": {}
  },
  {
   "cell_type": "markdown",
   "source": [
    "**Note: When testing for multiple conditions, use elif instead of multiple if statements.**"
   ],
   "metadata": {}
  },
  {
   "cell_type": "markdown",
   "source": [
    "# Single line if statements (ternary conditional)\r\n",
    "When writing code there will be some cases when you want to assign a value to a variable if some condition is met. For example, assign the value of `child` to a variable if someones age is less than 18, or assign the value of `adult` if their age is or greater than 18. \r\n",
    "\r\n",
    "We can do this in a single line of code using `ternary conditionals`. Ternary conditionals are evaluated left to right and follow this structure:\r\n",
    "\r\n",
    "<p style = \"font-family: fira code\"><b>var</b> = <em style = \"color:black\">value_if_true </em> <b style = \"color:purple\">if </b> <em style = \"color:green\">expression </em> <b style = \"color:purple\">else </b> <em style = \"color:black\">value_if_false</em></p>\r\n",
    "\r\n",
    "\r\n",
    "Lets look at how to do this using `if` and `else` statments first, then we will convert it into a single line if statement."
   ],
   "metadata": {}
  },
  {
   "cell_type": "code",
   "execution_count": null,
   "source": [
    "#TODO: assign child if the age is less than 18, and adult if it is greater than 18.\r\n",
    "age = 18\r\n",
    "\r\n",
    "if age < 18:\r\n",
    "    child_or_adult = 'child'\r\n",
    "else:\r\n",
    "    child_or_adult = 'adult'\r\n",
    "\r\n",
    "print(child_or_adult)"
   ],
   "outputs": [],
   "metadata": {}
  },
  {
   "cell_type": "code",
   "execution_count": null,
   "source": [
    "#TODO: assign child if the age is less than 18, and adult if it is greater than 18, in a single line.\r\n",
    "age = 12\r\n"
   ],
   "outputs": [],
   "metadata": {}
  },
  {
   "cell_type": "markdown",
   "source": [
    "# Nested If statements\r\n",
    "We can have a `if...elif...else` statement inside another `if...elif...else` statement. This is called nesting in computer programming.\r\n",
    "\r\n",
    "Any number of these statements can be nested inside one another. Indentation is the only way to figure out the level of nesting. They can get confusing, so I suggest avoiding them unless necessary.\r\n"
   ],
   "metadata": {}
  },
  {
   "cell_type": "code",
   "execution_count": null,
   "source": [
    "#TODO: write a nested if statement to check if an inputted value is positive, negative or zero.\r\n",
    "# if the value is greater than or equal to zero, nest an if statement inside to see if the number is zero or positive and print the result\r\n",
    "# if the value is less than zero, print negative\r\n",
    "\r\n",
    "num = float(input(\"Enter a number\"))\r\n"
   ],
   "outputs": [],
   "metadata": {}
  },
  {
   "cell_type": "markdown",
   "source": [
    "# Writing Effective Algorithms with Pseudo-code\r\n",
    "Pseudo-code is basically code that a computer wont understand but a human will. Pseudo-code is an outline of an algorithm that you want to implement in code, without having to worry about the syntax. As we move on in this course we will be writing more and more complicated code and it will be useful to have an understanding of what it is you want to do before you do it. \r\n",
    "\r\n",
    "I will give you an example of how to do this by solving the following problem. \r\n",
    "\r\n",
    "**A list of 6 random numbers between 1 and 10 are generated and I want to figure out if any of them are equal to the length of a word given by the user.**\r\n",
    "\r\n",
    "Pseudo-code to solve this:\r\n",
    "1. I want to assign the random numbers to a variable\r\n",
    "2. I want to have the user input a word and save that in a variable\r\n",
    "3. I want to calculate the length of the word that the user inputs and save the value in a variable\r\n",
    "4. I want to check if the length of the word is *present* in the list of numbers\r\n",
    "5. If the length of the word is *present* in the list of numbers\r\n",
    "    - I want to print \"Is present\"\r\n",
    "6. If the length of the word is not *present* in the list of numbers\r\n",
    "    - I want to print \"Not present\"\r\n"
   ],
   "metadata": {}
  },
  {
   "cell_type": "code",
   "execution_count": null,
   "source": [
    "from random import randint\r\n",
    "\r\n",
    "def generate_list_of_numbers():\r\n",
    "    numbers = [randint(1, 10) for _ in range(6)]\r\n",
    "    return numbers\r\n",
    "\r\n",
    "print(generate_list_of_numbers())"
   ],
   "outputs": [],
   "metadata": {}
  },
  {
   "cell_type": "code",
   "execution_count": null,
   "source": [
    "#TODO: Code implementation\r\n",
    "numbers = generate_list_of_numbers()\r\n"
   ],
   "outputs": [],
   "metadata": {}
  }
 ],
 "metadata": {
  "orig_nbformat": 4,
  "language_info": {
   "name": "python",
   "version": "3.7.4",
   "mimetype": "text/x-python",
   "codemirror_mode": {
    "name": "ipython",
    "version": 3
   },
   "pygments_lexer": "ipython3",
   "nbconvert_exporter": "python",
   "file_extension": ".py"
  },
  "kernelspec": {
   "name": "python3",
   "display_name": "Python 3.7.4 64-bit ('base': conda)"
  },
  "interpreter": {
   "hash": "fd61235da8d855c081cbd5d7c6398e4c179a40a950675235256f7f30499f1124"
  }
 },
 "nbformat": 4,
 "nbformat_minor": 2
}
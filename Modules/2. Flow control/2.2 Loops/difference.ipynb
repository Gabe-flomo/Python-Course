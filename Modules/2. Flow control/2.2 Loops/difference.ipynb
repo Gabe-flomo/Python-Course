{
 "cells": [
  {
   "cell_type": "markdown",
   "metadata": {},
   "source": [
    "## This notebook is used to show the differences betwwen `[]`, `{}`, and `()`\n",
    "Each of these different symbols are used to mean different things based on different contexts. This guide will show you what those contexts are and how to use each symbol"
   ]
  },
  {
   "cell_type": "markdown",
   "metadata": {},
   "source": [
    "# Parentheses `()`\n",
    "----\n",
    "\n",
    "### Context: `Tuples`\n",
    "Parentheses in the context of tuples are used only for the creation of a tuple object, which looks like this: "
   ]
  },
  {
   "cell_type": "code",
   "execution_count": 9,
   "metadata": {},
   "outputs": [
    {
     "data": {
      "text/plain": [
       "(1, 2, 3, 4, 5)"
      ]
     },
     "execution_count": 9,
     "metadata": {},
     "output_type": "execute_result"
    }
   ],
   "source": [
    "var = (1, 2, 3, 4, 5)\n",
    "var"
   ]
  },
  {
   "cell_type": "markdown",
   "metadata": {},
   "source": [
    "\n",
    "### Context: `Functions`\n",
    "Parentheses in the context of functions are used to call the function and is also the place in which all function argument are placed. During the creation of a function, these arguments are called parameters, and they are also placed inside of parenthesis."
   ]
  },
  {
   "cell_type": "code",
   "execution_count": 8,
   "metadata": {},
   "outputs": [
    {
     "name": "stdout",
     "output_type": "stream",
     "text": [
      "6\n",
      "Hello world  My name is print function\n"
     ]
    }
   ],
   "source": [
    "# function creation\n",
    "def function(arg1, arg2, arg3):\n",
    "    #function body\n",
    "    return arg1 + arg2 + arg3\n",
    "\n",
    "\n",
    "# calling a funtion with Arguments\n",
    "var = function(1, 2, 3)\n",
    "print(var)\n",
    "\n",
    "#Built-in function example\n",
    "print(\"Hello world \", \"My name is print function\")\n"
   ]
  },
  {
   "cell_type": "markdown",
   "metadata": {},
   "source": [
    "### Context: `Math`\n",
    "Parentheses in neither the context of functions or tuples are usually used in mathematical expressions as a way to group certain parts together"
   ]
  },
  {
   "cell_type": "code",
   "execution_count": 7,
   "metadata": {},
   "outputs": [
    {
     "data": {
      "text/plain": [
       "11.111111111111112"
      ]
     },
     "execution_count": 7,
     "metadata": {},
     "output_type": "execute_result"
    }
   ],
   "source": [
    "var = ( (10 * 2) / 6 ) ** 2\n",
    "var"
   ]
  },
  {
   "cell_type": "markdown",
   "metadata": {},
   "source": [
    "# Brackets `{}`\n",
    "--------\n",
    "\n",
    "### Context: `Dictionaries`\n",
    "Brackets in the context of dictionaries are only for the creation of new dictionaries. Since dictionaries or a combination of key:value pairs, where the values can be almost anything."
   ]
  },
  {
   "cell_type": "code",
   "execution_count": 10,
   "metadata": {},
   "outputs": [
    {
     "name": "stdout",
     "output_type": "stream",
     "text": [
      "{'Hello': 'World'}\n"
     ]
    }
   ],
   "source": [
    "var = {1: 234, 2: 567, 3: \"stop this\"}\n",
    "var2 = {\n",
    "    \"Dictionary\": {\n",
    "        \"Hello\":\"World\"\n",
    "        },\n",
    "    \"List\": [1,2,3,4],\n",
    "    \"Tuple\": (4,3,2,1)    \n",
    "}\n",
    "\n",
    "\n",
    "print(var2[\"Dictionary\"])"
   ]
  },
  {
   "cell_type": "markdown",
   "metadata": {},
   "source": [
    "### Context: `Sets`\n",
    "Brackets in the context of sets are only used for the creation of sets. Sets in python are like lists with the only difference being all elements are unique. If you were to create a set out of an existing list, any of the duplicate items in a list will only appear once."
   ]
  },
  {
   "cell_type": "code",
   "execution_count": 1,
   "metadata": {},
   "outputs": [
    {
     "name": "stdout",
     "output_type": "stream",
     "text": [
      "The original list: [1, 2, 3, 3, 3, 4, 5, 6, 6, 6]\n",
      "List as a set: {1, 2, 3, 4, 5, 6}\n"
     ]
    }
   ],
   "source": [
    "var = {1,2,3,4,5} # this is a set\n",
    "lst = [1,2,3,3,3,4,5,6,6,6]\n",
    "list_to_set = set(lst) #converts the list into the set datatype\n",
    "\n",
    "print(f\"The original list: {lst}\")\n",
    "print(f\"List as a set: {list_to_set}\")"
   ]
  },
  {
   "cell_type": "markdown",
   "metadata": {},
   "source": [
    "### Context `Printing`\n",
    "Brackets in the context of print statements are used to let python know which parts of a string should be displayed as variables in an F-strings output. \n",
    "\n",
    "**Basically they're used as an identifier to python saying:**\n",
    "> \"Hey, this part of the string is actually a variable/value so when you get here, please please please print the value.\""
   ]
  },
  {
   "cell_type": "code",
   "execution_count": 5,
   "metadata": {},
   "outputs": [
    {
     "name": "stdout",
     "output_type": "stream",
     "text": [
      "Heres my list [1, 2, 3, 4]\n"
     ]
    }
   ],
   "source": [
    "var = [1,2,3,4]\n",
    "print(f\"Heres my list {var}\")"
   ]
  },
  {
   "cell_type": "markdown",
   "metadata": {},
   "source": [
    "# Square Brackets `[]`\n",
    "-------\n",
    "Square brackets are the brackets that you will probably use most often since it is used to mean ver different things within many different contexts. Hopefully this breakdown will make them easier to understand 😊.\n",
    "\n",
    "<br>\n",
    "\n",
    "### Context `Lists`\n",
    "The simplest case where you'll see brackets is during the creation of new list objects. They're simply used by python to indicate where a new list begins and where it should end."
   ]
  },
  {
   "cell_type": "code",
   "execution_count": 11,
   "metadata": {},
   "outputs": [
    {
     "data": {
      "text/plain": [
       "['I am a', 'List of strings']"
      ]
     },
     "execution_count": 11,
     "metadata": {},
     "output_type": "execute_result"
    }
   ],
   "source": [
    "var = [\"I am a\", \"List of strings\"]\n",
    "var"
   ]
  },
  {
   "cell_type": "markdown",
   "metadata": {},
   "source": [
    "### Context `Indexing (simple)`\n",
    "square brackets in the context of indexing is used to let python know that you want to index an element at a certain posotion in a sequence of items (i.e tuples, lists, dictionaries). The value within the square brackets indicates the position you're looking for.\n",
    "\n",
    "**This also translates to tuples**"
   ]
  },
  {
   "cell_type": "code",
   "execution_count": 12,
   "metadata": {},
   "outputs": [
    {
     "name": "stdout",
     "output_type": "stream",
     "text": [
      "First element: 1\n",
      "Last Element: 8\n"
     ]
    }
   ],
   "source": [
    "var = [1,2,3,4,5,6,7,8]\n",
    "print(f\"First element: {var[0]}\")\n",
    "print(f\"Last Element: {var[7]}\")"
   ]
  },
  {
   "cell_type": "markdown",
   "metadata": {},
   "source": [
    "### Context `indexing (intermediate)`\n",
    "Because using square brackets is the way to access elements in any type of sequence (i.e tuples, lists, dictionaries, strings), this can somewhat confusing when these datatypes are mixed together. To make a long story short, you're always going to use square brackets when indexing any type of sequence (except for sets) it's knowing what datatype is being returned that can be confusing. For this we will look at multiple examples of indexing from different types of mixed datatypes."
   ]
  },
  {
   "cell_type": "code",
   "execution_count": 28,
   "metadata": {},
   "outputs": [
    {
     "name": "stdout",
     "output_type": "stream",
     "text": [
      "Indexing the value 8: 8\n",
      "Indexing the value 3: 3\n"
     ]
    }
   ],
   "source": [
    "# Mixed data type list and list \n",
    "var = [\n",
    "    [1,2,3,4], \n",
    "    [5,6,7,8]\n",
    "]\n",
    "\n",
    "# here we have a 2d list AKA a Matrix. This matrix has 2 rows and 4 columns\n",
    "# The dimensionality of the matrix indicates how many indicies we need to get a single value. In this case, we need 2.\n",
    "\n",
    "print(f\"Indexing the value 8: {var[1][3]}\") # 1: gives us the 2nd row, 3: gives us the 4th column \n",
    "print(f\"Indexing the value 3: {var[0][2]}\") # 0: gives us the 1st row, 2: gives us the 3rd column\n",
    "\n",
    "# this Logic also works for the mixed data Types\n",
    "# list -> tuple\n",
    "# Tuple -> tuple \n",
    "# tuple -> list"
   ]
  },
  {
   "cell_type": "code",
   "execution_count": 31,
   "metadata": {},
   "outputs": [
    {
     "name": "stdout",
     "output_type": "stream",
     "text": [
      "Returning the value 30: 30\n",
      "Returning Star wars: Star wars\n"
     ]
    }
   ],
   "source": [
    "# Mixed data type Dictionary and list/tuple\n",
    "var = {\n",
    "    \"list\": [10, 20, 30, 40, 50],\n",
    "    \"tuple\": (\"This tuple has a dict inside it\", {\"key\":\"Star wars\"}) \n",
    "}\n",
    "\n",
    "# Since all sequences are indexed using square brackets, Everything in this variable can be returned using them.\n",
    "# however, depending on the object returned detrmines how we proceed with indexing\n",
    "\n",
    "print(f\"Returning the value 30: {var['list'][2]}\") # since first we index the dictionary, then the list\n",
    "print(f\"Returning Star wars: {var['tuple'][1]['key']}\") # since we need to index the dict with a key, index the tuple with a value, then index the returned dict with a key."
   ]
  },
  {
   "cell_type": "code",
   "execution_count": 32,
   "metadata": {},
   "outputs": [
    {
     "name": "stdout",
     "output_type": "stream",
     "text": [
      "Print key2s value: value2\n"
     ]
    }
   ],
   "source": [
    "# Mixed data type list of dictionaries\n",
    "var = [\n",
    "    {\"Key1\":\"value1\"},\n",
    "    {\"Key2\":\"value2\"},\n",
    "    {\"key3\":\"value3\"}\n",
    "]\n",
    "\n",
    "# in this case we have a list that contains only Dictionaries\n",
    "# to get any one of these dictionaries we will always need to index a position in the list First.\n",
    "# from there we can access the dict values the normal way\n",
    "\n",
    "print(f\"Print key2s value: {var[1]['Key2']}\")"
   ]
  },
  {
   "cell_type": "markdown",
   "metadata": {},
   "source": [
    "# Excercises\n",
    "------------"
   ]
  },
  {
   "cell_type": "code",
   "execution_count": null,
   "metadata": {},
   "outputs": [],
   "source": [
    "#TODO: print out the value 10 from the 2d list\n",
    "\n",
    "var = [\n",
    "    [1,2,6,7],\n",
    "    [11, 10, 9, 8]\n",
    "]"
   ]
  },
  {
   "cell_type": "code",
   "execution_count": null,
   "metadata": {},
   "outputs": [],
   "source": [
    "#TODO: print out the value 'you found me'\n",
    "var = {\"first\":\n",
    "        {\n",
    "            \"second\": [1,2,3,4, {\"last\": \"you found me\"}]\n",
    "        }\n",
    "    }"
   ]
  },
  {
   "cell_type": "code",
   "execution_count": null,
   "metadata": {},
   "outputs": [],
   "source": [
    "#TODO: print out the value \"Thank you\"\n",
    "var = [\n",
    "    [1,2,3,4],\n",
    "    [5,6,7,8],\n",
    "    [{\"Hello\":\"world\"}, \"No thank you\", {\"This one\":\"Thank you\"}]\n",
    "]"
   ]
  }
 ],
 "metadata": {
  "interpreter": {
   "hash": "fd61235da8d855c081cbd5d7c6398e4c179a40a950675235256f7f30499f1124"
  },
  "kernelspec": {
   "display_name": "Python 3.7.4 64-bit ('base': conda)",
   "name": "python3"
  },
  "language_info": {
   "codemirror_mode": {
    "name": "ipython",
    "version": 3
   },
   "file_extension": ".py",
   "mimetype": "text/x-python",
   "name": "python",
   "nbconvert_exporter": "python",
   "pygments_lexer": "ipython3",
   "version": "3.7.4"
  },
  "orig_nbformat": 4
 },
 "nbformat": 4,
 "nbformat_minor": 2
}

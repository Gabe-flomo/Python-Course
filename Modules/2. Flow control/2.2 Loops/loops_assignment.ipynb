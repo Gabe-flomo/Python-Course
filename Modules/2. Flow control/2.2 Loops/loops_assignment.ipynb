{
 "cells": [
  {
   "cell_type": "markdown",
   "metadata": {},
   "source": [
    "## TASK 1\n",
    "* create a 5 element list of strings \n",
    "* loop over each string and print out the string along with its length"
   ]
  },
  {
   "cell_type": "code",
   "execution_count": null,
   "metadata": {},
   "outputs": [],
   "source": [
    "#TODO"
   ]
  },
  {
   "cell_type": "markdown",
   "metadata": {},
   "source": [
    "## TASK 2\n",
    "- create a 6 element list or tuple\n",
    "- loop through a range equal to the length of the list or tuple\n",
    "- print out the current `value` along with the element in your list or tuple at that position"
   ]
  },
  {
   "cell_type": "code",
   "execution_count": 3,
   "metadata": {},
   "outputs": [],
   "source": [
    "#TODO"
   ]
  },
  {
   "cell_type": "markdown",
   "metadata": {},
   "source": [
    "## TASK 3\n",
    "- create an infinite while loop\n",
    "- ask the user to input their name \n",
    "- display the name\n",
    "- break the loop if the name is equal to `exit`"
   ]
  },
  {
   "cell_type": "code",
   "execution_count": null,
   "metadata": {},
   "outputs": [],
   "source": [
    "#TODO"
   ]
  },
  {
   "cell_type": "markdown",
   "metadata": {},
   "source": [
    "## TASK 4\n",
    "- use any type of loop you want to find the largest value in the list"
   ]
  },
  {
   "cell_type": "code",
   "execution_count": 5,
   "metadata": {},
   "outputs": [],
   "source": [
    "var = [20.542, .0432, 65.88, 69.689, .00053, 102.432, 66.32]\n",
    "#TODO: Find largest value"
   ]
  },
  {
   "cell_type": "markdown",
   "metadata": {},
   "source": [
    "## TASK 5\n",
    "- create a 10 element list of numbers\n",
    "- Use a for loop to loop through each `value`\n",
    "- convert the current `value` to a string and store it in the variable `string_number`\n",
    "- index the first value in the `string_number` and convert it back to an integer and assign it to `reconverted`\n",
    "- multiply `reconverted` and `value` and assign the result to the variable `product`\n",
    "- check to see if `product` is even or odd\n",
    "- if it's even print EVEN along with the `product`\n",
    "- if it's odd print ODD along with the `product`"
   ]
  },
  {
   "cell_type": "code",
   "execution_count": null,
   "metadata": {},
   "outputs": [],
   "source": [
    "#TODO"
   ]
  },
  {
   "cell_type": "markdown",
   "metadata": {},
   "source": [
    "## TASK 6\n",
    "- create an empty list called `divisible_by_5`\n",
    "- loop through the list of numbers\n",
    "- find all of the numbers divisible by 5 (a number is divisible by 5 if the remainder is 0)\n",
    "- If a number is divisible by 5, add it to the `divisible_by_5` list"
   ]
  },
  {
   "cell_type": "code",
   "execution_count": null,
   "metadata": {},
   "outputs": [],
   "source": [
    "var = [12, 15, 34, 55, 300, 62, 40, 23, 56, 99, 100, 52, 5125, 220, 903, 435]\n",
    "#TODO"
   ]
  }
 ],
 "metadata": {
  "interpreter": {
   "hash": "fd61235da8d855c081cbd5d7c6398e4c179a40a950675235256f7f30499f1124"
  },
  "kernelspec": {
   "display_name": "Python 3.7.4 64-bit ('base': conda)",
   "name": "python3"
  },
  "language_info": {
   "codemirror_mode": {
    "name": "ipython",
    "version": 3
   },
   "file_extension": ".py",
   "mimetype": "text/x-python",
   "name": "python",
   "nbconvert_exporter": "python",
   "pygments_lexer": "ipython3",
   "version": "3.7.4"
  },
  "orig_nbformat": 4
 },
 "nbformat": 4,
 "nbformat_minor": 2
}

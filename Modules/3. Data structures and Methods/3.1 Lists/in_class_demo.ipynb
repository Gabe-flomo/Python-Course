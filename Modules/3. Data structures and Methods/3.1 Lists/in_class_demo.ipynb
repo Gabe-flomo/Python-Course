{
 "cells": [
  {
   "cell_type": "markdown",
   "metadata": {},
   "source": [
    "# What Are Methods?\n",
    "In python Data structures like `lists`, `tuples`, `strings` and basically any other data type that isn't a literal value, are objects. Objects will be explained more thoroughly in ***Module 6*** but for now you can think of them as a collection of properties and functions.\n",
    "--\n",
    "\n",
    "<br>\n",
    "\n",
    "**For Example:** If we think of a car as an object, it has properties like `color`, `weight`, `make`, and `price` along with functionality such as `start()`, `stop()`, `drive()`, `brake()`, and so on.\n",
    "--\n",
    "<br>\n",
    "\n",
    "**Methods are functionality that is associated with objects**\n",
    "--\n",
    "\n",
    "\n",
    "------------------------"
   ]
  },
  {
   "cell_type": "markdown",
   "metadata": {},
   "source": [
    "# Slicing, Negative Indexing, and Comprehensions\n",
    "Although slicing, indexing, and comprehensions aren't methods, the functionality they provide is important enough for them to be talked about here.\n",
    "--\n",
    "\n",
    "<br>\n",
    "\n",
    "## **Negative Indexing**\n",
    "In python, we index values in a sequence from left to right, starting at 0. However, you can also index items in a sequence from right to left, starting at -1.\n",
    "\n",
    "<div style = \"text-align:center\">\n",
    "    <img src = \"images/indexing.png\" style = \"\">\n",
    "</div>\n"
   ]
  },
  {
   "cell_type": "code",
   "execution_count": null,
   "metadata": {},
   "outputs": [],
   "source": [
    "#TODO: Return elements in the list using negative indexing\n",
    "var = [\"purple\", \"yesterday\", 100, True, 78.642]"
   ]
  },
  {
   "cell_type": "code",
   "execution_count": null,
   "metadata": {},
   "outputs": [],
   "source": [
    "#TODO: Return characters in the string using negative indexing\n",
    "var = \"Washburn\""
   ]
  },
  {
   "cell_type": "markdown",
   "metadata": {},
   "source": [
    "# Slicing\n",
    "To access a range of items in a list, you need to slice a list. One way to do this is to use the simple slicing operator `:`.\n",
    "With this operator you can specify where to start the slicing, where to end and specify the step.\n",
    "--\n",
    "\n",
    "<div style = \"text-align:center\">\n",
    "    <img src = \"images/slice.png\" style = \"\">\n",
    "</div>\n"
   ]
  },
  {
   "cell_type": "code",
   "execution_count": null,
   "metadata": {},
   "outputs": [],
   "source": [
    "L = ['a', 'b', 'c', 'd', 'e', 'f', 'g', 'h', 'i']\n",
    "print(L[2:7])"
   ]
  },
  {
   "cell_type": "markdown",
   "metadata": {},
   "source": [
    "<div style = \"text-align:center\">\n",
    "    <img src = \"images/slice2.png\" style = \"\">\n",
    "</div>"
   ]
  },
  {
   "cell_type": "code",
   "execution_count": null,
   "metadata": {},
   "outputs": [],
   "source": [
    "#TODO: Slice the list to return the values 3 to 9\n",
    "var = [1,2,3,4,5,6,7,8,9,10,11,12,13,14,15]"
   ]
  },
  {
   "cell_type": "code",
   "execution_count": null,
   "metadata": {},
   "outputs": [],
   "source": [
    "#TODO: Slice everything from the beginning up to the 5th index\n",
    "var = [10, True, 11, False, 12, True, 13, False]"
   ]
  },
  {
   "cell_type": "code",
   "execution_count": null,
   "metadata": {},
   "outputs": [],
   "source": [
    "#TODO: Slice the string to return the substring 'burn'\n",
    "var = \"Washburn\""
   ]
  },
  {
   "cell_type": "markdown",
   "metadata": {},
   "source": [
    "# List Comprehensions\n",
    "\n",
    "Suppose you want to create a list of all integer square numbers from 2 to 4. You could build that list creating a `for loop` with a range of 2-5 and append the square of each value to a list.\n",
    "--"
   ]
  },
  {
   "cell_type": "code",
   "execution_count": 17,
   "metadata": {},
   "outputs": [
    {
     "data": {
      "text/plain": [
       "[4, 9, 16]"
      ]
     },
     "execution_count": 17,
     "metadata": {},
     "output_type": "execute_result"
    }
   ],
   "source": [
    "#TODO: write a for loop to add all squared calues from 2 to 4 to a list\n",
    "squares = []\n",
    "for i in range(2,5):\n",
    "    squares.append(i*i)\n",
    "squares"
   ]
  },
  {
   "cell_type": "markdown",
   "metadata": {},
   "source": [
    "However, this method uses more code than what is necessary for this task and we can simplify it using a list comprehension instead.\n",
    "--\n",
    "\n",
    "**List comprehensions are a way to build a new list by applying an expression to each item in an iterable.**\n",
    "--\n",
    "\n",
    "<div style = \"text-align:center\">\n",
    "    <img src = \"images/comprehension.png\" style = \"\">\n",
    "</div>"
   ]
  },
  {
   "cell_type": "code",
   "execution_count": 18,
   "metadata": {},
   "outputs": [
    {
     "data": {
      "text/plain": [
       "[4, 9, 16]"
      ]
     },
     "execution_count": 18,
     "metadata": {},
     "output_type": "execute_result"
    }
   ],
   "source": [
    "#TODO: Recreate the code from above using a list comprehension\n",
    "squares = [i*i for i in range(2,5)]"
   ]
  },
  {
   "cell_type": "code",
   "execution_count": 21,
   "metadata": {},
   "outputs": [
    {
     "name": "stdout",
     "output_type": "stream",
     "text": [
      "[1, 2, 3, 4, 5, 6, 7, 8, 9, 10, 11, 12, 13, 14, 15, 16, 17, 18, 19, 20, 21, 22, 23, 24, 25, 26, 27, 28, 29, 30, 31, 32, 33, 34, 35, 36, 37, 38, 39, 40, 41, 42, 43, 44, 45, 46, 47, 48, 49, 50, 51, 52, 53, 54, 55, 56, 57, 58, 59, 60, 61, 62, 63, 64, 65, 66, 67, 68, 69, 70, 71, 72, 73, 74, 75, 76, 77, 78, 79, 80, 81, 82, 83, 84, 85, 86, 87, 88, 89, 90, 91, 92, 93, 94, 95, 96, 97, 98, 99, 100]\n"
     ]
    }
   ],
   "source": [
    "#TODO: Use a list comprehension to create a list of values from 1 to 100\n",
    "var = [x for x in range(1, 101)]\n"
   ]
  },
  {
   "cell_type": "code",
   "execution_count": 24,
   "metadata": {},
   "outputs": [
    {
     "data": {
      "text/plain": [
       "['Ge', 'Fo', 'Nn', 'An', 'Ne']"
      ]
     },
     "execution_count": 24,
     "metadata": {},
     "output_type": "execute_result"
    }
   ],
   "source": [
    "names = [\"Gabe\", \"Flomo\", \"Nathan\", \"Aaron\", \"Nene\"]\n",
    "#TODO: Use a list comprehension to get the first and last characters of the name\n",
    "first_and_last = [f\"{name[0]}{name[-1]}\" for name in names]\n",
    "first_and_last"
   ]
  },
  {
   "cell_type": "code",
   "execution_count": null,
   "metadata": {},
   "outputs": [],
   "source": []
  }
 ],
 "metadata": {
  "interpreter": {
   "hash": "fd61235da8d855c081cbd5d7c6398e4c179a40a950675235256f7f30499f1124"
  },
  "kernelspec": {
   "display_name": "Python 3.7.4 64-bit ('base': conda)",
   "name": "python3"
  },
  "language_info": {
   "codemirror_mode": {
    "name": "ipython",
    "version": 3
   },
   "file_extension": ".py",
   "mimetype": "text/x-python",
   "name": "python",
   "nbconvert_exporter": "python",
   "pygments_lexer": "ipython3",
   "version": "3.7.4"
  },
  "orig_nbformat": 4
 },
 "nbformat": 4,
 "nbformat_minor": 2
}

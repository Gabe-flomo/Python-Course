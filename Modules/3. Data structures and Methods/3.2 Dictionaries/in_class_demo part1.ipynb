{
 "cells": [
  {
   "cell_type": "markdown",
   "metadata": {},
   "source": [
    "# Dictionaries\n",
    "\n",
    "You can think of a dictionary as a mapping between a set of keys and a set of values. Each key maps to a value. The association of a key and a value is called a **key:value** pair or sometimes an item.\n",
    "--\n",
    "\n",
    "**As an example, we’ll build a dictionary that stores employee record.**\n",
    "--\n",
    "\n",
    "<img src = \"imgs/dict.png\">\n"
   ]
  },
  {
   "cell_type": "markdown",
   "metadata": {},
   "source": [
    "# Creating Dictionaries\n",
    "You can create a dictionary by placing a comma-separated list of `key:value` pairs in curly braces `{}`. Each key is separated from its associated value by a colon `:`\n",
    "--\n",
    "\n",
    "```python\n",
    "dictionary = {'key': 'value',\n",
    "              'key2': 'value2'}\n",
    "```\n",
    "\n",
    ">Think about a dictionary in python as being like an actual dictionary, or phone book. All of the words in a dictionary are unique yet two unique words may share similar definitions"
   ]
  },
  {
   "cell_type": "code",
   "execution_count": null,
   "metadata": {},
   "outputs": [],
   "source": [
    "#TODO: Build the dictionary that stores employee records\n",
    "\n",
    "nary = {'name': 'Gabe',\n",
    "     'age': 22,\n",
    "     'job': 'Dev',\n",
    "     'city': 'Minneapolis',\n",
    "     'email': 'Gabe@lituation.com'}\n",
    "\n",
    "nary\n"
   ]
  },
  {
   "cell_type": "markdown",
   "metadata": {},
   "source": [
    "# Properties of a Dictionary\n",
    "----------\n",
    "\n",
    "## **Keys must be unique:**\n",
    "A key can appear in a dictionary only once.\n",
    "---\n",
    "\n",
    "**if you specify a key more than once during the creation of a dictionary, the last value for that key becomes the associated value.**\n"
   ]
  },
  {
   "cell_type": "code",
   "execution_count": null,
   "metadata": {},
   "outputs": [],
   "source": [
    "#TODO: Create a dictionary with some of the keys being identical\n",
    "var = {\"name\": \"Gabe\", \n",
    "        \"height\": \"165 cm\",\n",
    "        \"name\":\"Me\"}\n",
    "\n",
    "var"
   ]
  },
  {
   "cell_type": "markdown",
   "metadata": {},
   "source": [
    "## **Keys must be immutable:**\n",
    "> *Remember, immutable types can't change.* \n",
    "\n",
    "You can create a key in a dictionary using any unchanging data type – such as *numbers, strings, booleans or tuples.*\n",
    "--"
   ]
  },
  {
   "cell_type": "code",
   "execution_count": null,
   "metadata": {},
   "outputs": [],
   "source": [
    "#TODO Create a dictionary with the key data types -> number, string, tuple\n",
    "various = {\n",
    "    \"String\": \"I am a string key\",\n",
    "    10: \"I am a number key\",\n",
    "    (2, 5): \"I am a tuple key\"\n",
    "}\n",
    "\n",
    "various"
   ]
  },
  {
   "cell_type": "code",
   "execution_count": null,
   "metadata": {},
   "outputs": [],
   "source": [
    "#TODO Show what happens when a key is created with a mutable type, such as a list\n",
    "wont_work = {\n",
    "    [1,2]: \"Error 😭\"\n",
    "}\n"
   ]
  },
  {
   "cell_type": "markdown",
   "metadata": {},
   "source": [
    "## **Value can be of any type:**\n",
    "There are no restrictions on dictionary values. A dictionary value can be any type of object and can appear in a dictionary multiple times.\n",
    "--"
   ]
  },
  {
   "cell_type": "code",
   "execution_count": null,
   "metadata": {},
   "outputs": [],
   "source": [
    "#TODO Create dictionary values of types -> string, list, tuple\n",
    "various = {\n",
    "    \"String\": \"this is a string\",\n",
    "    \"List\": [1,2,3,4,5],\n",
    "    \"Bool\": True,\n",
    "    \"Tuple\": (10, 50, 60, 70)    \n",
    "}\n",
    "\n",
    "various"
   ]
  },
  {
   "cell_type": "code",
   "execution_count": null,
   "metadata": {},
   "outputs": [],
   "source": [
    "#TODO Create a dictionary with all identical values\n",
    "identical = {\n",
    "    1: True,\n",
    "    2: True,\n",
    "    3: True\n",
    "}\n",
    "\n",
    "identical"
   ]
  },
  {
   "cell_type": "markdown",
   "metadata": {},
   "source": [
    "# Accessing Dictionary Items\n",
    "-----\n",
    "Unlike lists or tuples, the items of a dictionary are not indexed with integer indices. Instead, you use the keys to access the corresponding values.\n",
    "--\n",
    "\n",
    "***You can fetch a value from a dictionary by referring to its key in square brackets [].***\n",
    "\n",
    "```python\n",
    "D = {'name': 'Bob',\n",
    "     'age': 25,\n",
    "     'job': 'Dev'}\n",
    "\n",
    "print(D['name'])\n",
    "# Prints Bob\n",
    "```"
   ]
  },
  {
   "cell_type": "code",
   "execution_count": 1,
   "metadata": {},
   "outputs": [
    {
     "name": "stdout",
     "output_type": "stream",
     "text": [
      "Gabe 22\n"
     ]
    }
   ],
   "source": [
    "#TODO print the name and age from the dictionary\n",
    "var = {'name': 'Gabe',\n",
    "       'age': 22,\n",
    "       'job': 'Dev',\n",
    "       'city': 'Minneapolis',\n",
    "       'email': 'Gabe@lituation.com'}\n",
    "\n",
    "print(var['name'], var['age'])\n"
   ]
  },
  {
   "cell_type": "code",
   "execution_count": null,
   "metadata": {},
   "outputs": [],
   "source": [
    "#TODO print the first and last dictionary values\n",
    "var = {\n",
    "    101: \"Intro to python\",\n",
    "    \"location\": \"Washburn\",\n",
    "    \"Currently teaching\": True,\n",
    "    (3.15, 5.30): \"time\"\n",
    "}\n",
    "\n",
    "print(var[101], var[(3.15, 5.30)])"
   ]
  },
  {
   "cell_type": "markdown",
   "metadata": {},
   "source": [
    "If you refer to a key that is not in the dictionary, you’ll get an error. To avoid such exception, you can use the special dictionary `get()` method. This method returns the value for key if key is in the dictionary, else None, so that this method never raises an error.\n",
    "--\n",
    "\n"
   ]
  },
  {
   "cell_type": "code",
   "execution_count": null,
   "metadata": {},
   "outputs": [],
   "source": [
    "#TODO Try an access a key that is not in the dictionary\n",
    "var = {\n",
    "    \"Snapchat\": \"Photo messaging\",\n",
    "    \"Instagram\": \"Photo and video\",\n",
    "    \"Twitter\": \"MicroBlogging\"\n",
    "}\n",
    "\n",
    "print(var['Facebook'])"
   ]
  },
  {
   "cell_type": "code",
   "execution_count": null,
   "metadata": {},
   "outputs": [],
   "source": [
    "#TODO Try an access a key that is not in the dictionary using the get method\n",
    "print(var.get(\"Facebook\"))"
   ]
  },
  {
   "cell_type": "code",
   "execution_count": null,
   "metadata": {},
   "outputs": [],
   "source": [
    "#TODO: Set a default value for when a key is not found\n",
    "print(var.get(\"Facebook\", \"Key not found\"))"
   ]
  },
  {
   "cell_type": "markdown",
   "metadata": {},
   "source": [
    "# Adding/Updating dictionary values\n",
    "-----\n",
    "Adding or updating dictionary values is easy. Just refer to the item by its key and assign a value. If the key is already present in the dictionary, its value is replaced by the new one.\n",
    "--\n",
    "\n"
   ]
  },
  {
   "cell_type": "code",
   "execution_count": null,
   "metadata": {},
   "outputs": [],
   "source": [
    "#TODO Update the snapchat value to \"Sneaky Media\"\n",
    "print(f\"Value before edit: {var['Snapchat']}\")\n",
    "\n",
    "var[\"Snapchat\"] = \"Sneaky Media\"\n",
    "\n",
    "print(f\"Value after edit: {var['Snapchat']}\")\n"
   ]
  },
  {
   "cell_type": "code",
   "execution_count": null,
   "metadata": {},
   "outputs": [],
   "source": []
  }
 ],
 "metadata": {
  "interpreter": {
   "hash": "fd61235da8d855c081cbd5d7c6398e4c179a40a950675235256f7f30499f1124"
  },
  "kernelspec": {
   "display_name": "Python 3.7.4 64-bit ('base': conda)",
   "name": "python3"
  },
  "language_info": {
   "codemirror_mode": {
    "name": "ipython",
    "version": 3
   },
   "file_extension": ".py",
   "mimetype": "text/x-python",
   "name": "python",
   "nbconvert_exporter": "python",
   "pygments_lexer": "ipython3",
   "version": "3.7.4"
  },
  "orig_nbformat": 4
 },
 "nbformat": 4,
 "nbformat_minor": 2
}

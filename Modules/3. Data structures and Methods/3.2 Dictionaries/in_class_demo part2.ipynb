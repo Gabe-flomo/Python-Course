{
 "cells": [
  {
   "cell_type": "markdown",
   "metadata": {},
   "source": [
    "# Other ways to create dictionaries\n",
    "Like with many other concepts in python, there are multiple ways to create dictionaries. In this section we will look at the most useful alternatives to creating this data structure.\n",
    "\n",
    "# The `dict()` constructor\n",
    "Since dictionaries are a collection of items, or `key:value` pairs, we can create a list containing 2 element tuples that can be converted into items in a dictionary.\n",
    "--\n",
    "\n",
    "```python \n",
    "items = [\n",
    "    ('name', 'Gabe'),\n",
    "    ('age', 22),\n",
    "    ('job', 'instructor')\n",
    "]\n",
    "```\n",
    "\n",
    "Now that we have our list of items, all we need to do is call the `dict()` constructor and give it our list of items and it will convert it to a dictionary for us.\n",
    "--\n",
    "\n",
    "```python\n",
    "dictionary = dict(items)\n",
    "print(dictionary) -> {'name': 'Gabe', 'age', 22, 'job', 'instructor'}\n",
    "\n",
    "```"
   ]
  },
  {
   "cell_type": "code",
   "execution_count": 4,
   "metadata": {},
   "outputs": [
    {
     "data": {
      "text/plain": [
       "{'Gabe': 'Engineering', 'Matt': 'HR', 'Alexis': 'Design'}"
      ]
     },
     "execution_count": 4,
     "metadata": {},
     "output_type": "execute_result"
    }
   ],
   "source": [
    "#TODO create a list of tuples and convert it inot a dictionary\n",
    "emp = [\n",
    "    (\"Gabe\", \"Engineering\"),\n",
    "    (\"Matt\", \"HR\"),\n",
    "    (\"Alexis\", \"Design\")\n",
    "]\n",
    "\n",
    "emp = dict(emp)\n",
    "emp\n"
   ]
  },
  {
   "cell_type": "code",
   "execution_count": 2,
   "metadata": {},
   "outputs": [
    {
     "name": "stdout",
     "output_type": "stream",
     "text": [
      "[('gabe', 'IT'), ('bill', 'HR'), ('sean', 'Janitor')]\n"
     ]
    },
    {
     "data": {
      "text/plain": [
       "{'gabe': 'IT', 'bill': 'HR', 'sean': 'Janitor'}"
      ]
     },
     "execution_count": 2,
     "metadata": {},
     "output_type": "execute_result"
    }
   ],
   "source": [
    "#TODO Lets use a for loop to create an employee list of tuples, then convert it into a dictionary\n",
    "employees_list = []\n",
    "for _ in range(3):\n",
    "    name = input(\"Enter the employees name: \")\n",
    "    department = input(\"Enter the employees department: \")\n",
    "    tup = (name, department)\n",
    "    employees_list.append(tup)\n",
    "\n",
    "print(employees_list)\n",
    "employees = dict(employees_list)\n",
    "employees"
   ]
  },
  {
   "cell_type": "markdown",
   "metadata": {},
   "source": [
    "# The `.fromkeys()` method\n",
    "The `.fromkeys()` method is a way to create a dictionary from another iterable object. Given a sequence, like a list or tuple, the `.fromkeys()` method will create a dictionary where the keys of the dictionary are generated from the elements of the sequence.\n",
    "--\n",
    "\n",
    "```python \n",
    "var = [\"Name\", \"age\", \"title\"]\n",
    "dictionary = dict.fromkeys(var) -> {\"Name\": None, \"age\": None, \"title\": None}\n",
    "```\n",
    "\n",
    "When the dictionary gets created, all the values are set to `None` by default. `None` in python basically means *no type* or *not a value* which isn't very useful. To resolve this issue, the `.fromkeys()` method can take a second argument that will specify a default value for each of keys in our dictionary.\n",
    "--\n",
    "\n",
    "```python \n",
    "var = [\"Name\", \"age\", \"title\"]\n",
    "default = 'unknown'\n",
    "dictionary = dict.fromkeys(var, default) -> {\"Name\": 'unknown', \"age\": 'unknown', \"title\": 'unknown'}\n",
    "```"
   ]
  },
  {
   "cell_type": "code",
   "execution_count": 5,
   "metadata": {},
   "outputs": [
    {
     "data": {
      "text/plain": [
       "{'python': 'general_purpose',\n",
       " 'c++': 'general_purpose',\n",
       " 'javascript': 'general_purpose'}"
      ]
     },
     "execution_count": 5,
     "metadata": {},
     "output_type": "execute_result"
    }
   ],
   "source": [
    "#TODO create a list of programming languages then create a dictionary and  set the default value to 'general_purpose'\n",
    "languages = ['python', 'c++', 'javascript']\n",
    "default = 'general_purpose'\n",
    "gppl = dict.fromkeys(languages, default)\n",
    "gppl\n"
   ]
  },
  {
   "cell_type": "markdown",
   "metadata": {},
   "source": [
    "# Accessing all keys, values, and item pairs\n",
    "When working with dictionaries, there will be times when you want to access all the keys, values, or items in the dictionary. Say we have a dictionary of social media apps where the app name is the key and the app type or category are the values."
   ]
  },
  {
   "cell_type": "markdown",
   "metadata": {},
   "source": [
    "# Nested Data types"
   ]
  },
  {
   "cell_type": "markdown",
   "metadata": {},
   "source": [
    "# Other Useful Methods"
   ]
  }
 ],
 "metadata": {
  "interpreter": {
   "hash": "fd61235da8d855c081cbd5d7c6398e4c179a40a950675235256f7f30499f1124"
  },
  "kernelspec": {
   "display_name": "Python 3.7.4 64-bit ('base': conda)",
   "name": "python3"
  },
  "language_info": {
   "codemirror_mode": {
    "name": "ipython",
    "version": 3
   },
   "file_extension": ".py",
   "mimetype": "text/x-python",
   "name": "python",
   "nbconvert_exporter": "python",
   "pygments_lexer": "ipython3",
   "version": "3.7.4"
  },
  "orig_nbformat": 4
 },
 "nbformat": 4,
 "nbformat_minor": 2
}

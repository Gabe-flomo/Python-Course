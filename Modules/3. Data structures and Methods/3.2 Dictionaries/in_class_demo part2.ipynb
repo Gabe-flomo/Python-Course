{
  "nbformat": 4,
  "nbformat_minor": 0,
  "metadata": {
    "interpreter": {
      "hash": "fd61235da8d855c081cbd5d7c6398e4c179a40a950675235256f7f30499f1124"
    },
    "kernelspec": {
      "display_name": "Python 3.7.4 64-bit ('base': conda)",
      "name": "python3"
    },
    "language_info": {
      "codemirror_mode": {
        "name": "ipython",
        "version": 3
      },
      "file_extension": ".py",
      "mimetype": "text/x-python",
      "name": "python",
      "nbconvert_exporter": "python",
      "pygments_lexer": "ipython3",
      "version": "3.7.4"
    },
    "orig_nbformat": 4,
    "colab": {
      "name": "in_class_demo part2.ipynb",
      "provenance": [],
      "include_colab_link": true
    }
  },
  "cells": [
    {
      "cell_type": "markdown",
      "metadata": {
        "id": "view-in-github",
        "colab_type": "text"
      },
      "source": [
        "<a href=\"https://colab.research.google.com/github/Gabe-flomo/Python-Course/blob/main/Modules/3.%20Data%20structures%20and%20Methods/3.2%20Dictionaries/in_class_demo%20part2.ipynb\" target=\"_parent\"><img src=\"https://colab.research.google.com/assets/colab-badge.svg\" alt=\"Open In Colab\"/></a>"
      ]
    },
    {
      "cell_type": "markdown",
      "metadata": {
        "id": "1oyFusbNe50D"
      },
      "source": [
        "# Other ways to create dictionaries\n",
        "Like with many other concepts in python, there are multiple ways to create dictionaries. In this section we will look at the most useful alternatives to creating this data structure.\n",
        "\n",
        "# The `dict()` constructor\n",
        "Since dictionaries are a collection of items, or `key:value` pairs, we can create a list containing 2 element tuples that can be converted into items in a dictionary.\n",
        "--\n",
        "\n",
        "```python \n",
        "items = [\n",
        "    ('name', 'Gabe'),\n",
        "    ('age', 22),\n",
        "    ('job', 'instructor')\n",
        "]\n",
        "```\n",
        "\n",
        "Now that we have our list of items, all we need to do is call the `dict()` constructor and give it our list of items and it will convert it to a dictionary for us.\n",
        "--\n",
        "\n",
        "```python\n",
        "dictionary = dict(items)\n",
        "print(dictionary) -> {'name': 'Gabe', 'age', 22, 'job', 'instructor'}\n",
        "\n",
        "```"
      ]
    },
    {
      "cell_type": "code",
      "metadata": {
        "id": "8yMNSUYge50F",
        "outputId": "18843870-4691-420d-8bda-01de6749986b"
      },
      "source": [
        "#TODO create a list of tuples and convert it inot a dictionary\n",
        "emp = [\n",
        "    (\"Gabe\", \"Engineering\"),\n",
        "    (\"Matt\", \"HR\"),\n",
        "    (\"Alexis\", \"Design\")\n",
        "]\n",
        "\n",
        "emp = dict(emp)\n",
        "emp\n"
      ],
      "execution_count": null,
      "outputs": [
        {
          "data": {
            "text/plain": [
              "{'Gabe': 'Engineering', 'Matt': 'HR', 'Alexis': 'Design'}"
            ]
          },
          "execution_count": 4,
          "metadata": {},
          "output_type": "execute_result"
        }
      ]
    },
    {
      "cell_type": "code",
      "metadata": {
        "id": "VT3MAfBMe50G",
        "outputId": "5a830cd0-cae7-4576-8920-63e9cc5bde7e"
      },
      "source": [
        "#TODO Lets use a for loop to create an employee list of tuples, then convert it into a dictionary\n",
        "# create an empty list\n",
        "employees_list = []\n",
        "# create a for loop that iterates 3 times\n",
        "for _ in range(3):\n",
        "    # get the employee name\n",
        "    name = input(\"Enter the employees name: \")\n",
        "    # get the employee department\n",
        "    department = input(\"Enter the employees department: \")\n",
        "    # create a tuple with the name and department\n",
        "    tup = (name, department)\n",
        "    # add the employee tuple to the list of employees\n",
        "    employees_list.append(tup)\n",
        "\n",
        "print(employees_list)\n",
        "# create a dictionary from the list of employee tuples\n",
        "employees = dict(employees_list)\n",
        "employees"
      ],
      "execution_count": null,
      "outputs": [
        {
          "name": "stdout",
          "output_type": "stream",
          "text": [
            "[('gabe', 'IT'), ('bill', 'HR'), ('sean', 'Janitor')]\n"
          ]
        },
        {
          "data": {
            "text/plain": [
              "{'gabe': 'IT', 'bill': 'HR', 'sean': 'Janitor'}"
            ]
          },
          "execution_count": 2,
          "metadata": {},
          "output_type": "execute_result"
        }
      ]
    },
    {
      "cell_type": "markdown",
      "metadata": {
        "id": "HSPmyTA2e50H"
      },
      "source": [
        "# The `.fromkeys()` method\n",
        "The `.fromkeys()` method is a way to create a dictionary from another iterable object. Given a sequence, like a list or tuple, the `.fromkeys()` method will create a dictionary where the keys of the dictionary are generated from the elements of the sequence.\n",
        "--\n",
        "\n",
        "```python \n",
        "var = [\"Name\", \"age\", \"title\"]\n",
        "dictionary = dict.fromkeys(var) -> {\"Name\": None, \"age\": None, \"title\": None}\n",
        "```\n",
        "\n",
        "When the dictionary gets created, all the values are set to `None` by default. `None` in python basically means *no type* or *not a value* which isn't very useful. To resolve this issue, the `.fromkeys()` method can take a second argument that will specify a default value for each of keys in our dictionary.\n",
        "--\n",
        "\n",
        "```python \n",
        "var = [\"Name\", \"age\", \"title\"]\n",
        "default = 'unknown'\n",
        "dictionary = dict.fromkeys(var, default) -> {\"Name\": 'unknown', \"age\": 'unknown', \"title\": 'unknown'}\n",
        "```"
      ]
    },
    {
      "cell_type": "code",
      "metadata": {
        "id": "oERJbR-6e50H",
        "outputId": "9e01b7b8-fb5c-4d1e-df31-75a0e5fb5d04"
      },
      "source": [
        "#TODO create a list of programming languages then create a dictionary and  set the default value to 'general_purpose'\n",
        "languages = ['python', 'c++', 'javascript']\n",
        "default = 'general_purpose'\n",
        "gppl = dict.fromkeys(languages, default)\n",
        "gppl\n"
      ],
      "execution_count": null,
      "outputs": [
        {
          "data": {
            "text/plain": [
              "{'python': 'general_purpose',\n",
              " 'c++': 'general_purpose',\n",
              " 'javascript': 'general_purpose'}"
            ]
          },
          "execution_count": 5,
          "metadata": {},
          "output_type": "execute_result"
        }
      ]
    },
    {
      "cell_type": "markdown",
      "metadata": {
        "id": "hfhtVnpke50H"
      },
      "source": [
        "# Accessing all keys, values, and item pairs\n",
        "Say we have a dictionary of social media apps where the app name is the key and the app type or category are the values.\n",
        "--\n",
        "```\n",
        "{\n",
        "    'Snapchat': 'social networking',\n",
        "    'discord': 'social networking',\n",
        "    'twitter': 'microblogging',\n",
        "    'instagram': 'media sharing',\n",
        "    'vsco': 'media sharing'\n",
        "}\n",
        "```\n",
        "Given this information, we want to create a new dictionary where the app category is the key and the apps that fall under that category are our values. We are going to look at a few ways to do this using the `.keys(), .values(), and .items()` dictionary methods.\n",
        "--\n",
        "-----\n",
        "# *.keys()*\n",
        "The `keys()` method returns an iterable object containing all the keys in a dictionary.\n",
        "--"
      ]
    },
    {
      "cell_type": "code",
      "metadata": {
        "id": "YO6l4pcme50I",
        "outputId": "4b2bfb6f-7171-4df2-ef2c-2d2d2015921f"
      },
      "source": [
        "data = {\n",
        "    'Snapchat': 'social networking',\n",
        "    'discord': 'social networking',\n",
        "    'twitter': 'microblogging',\n",
        "    'instagram': 'media sharing',\n",
        "    'vsco': 'media sharing'\n",
        "}\n",
        "\n",
        "#TODO get all the keys from the dict and show its type\n",
        "keys = data.keys()\n",
        "keys, type(keys)"
      ],
      "execution_count": null,
      "outputs": [
        {
          "data": {
            "text/plain": [
              "(dict_keys(['Snapchat', 'discord', 'twitter', 'instagram', 'vsco']), dict_keys)"
            ]
          },
          "execution_count": 2,
          "metadata": {},
          "output_type": "execute_result"
        }
      ]
    },
    {
      "cell_type": "code",
      "metadata": {
        "id": "WycNhhX2e50I",
        "outputId": "5efde594-05cb-4061-f897-c29083f6ee8f"
      },
      "source": [
        "#TODO cast the keys to a list\n",
        "keys = list(data.keys())\n",
        "keys, type(keys)"
      ],
      "execution_count": null,
      "outputs": [
        {
          "data": {
            "text/plain": [
              "(['Snapchat', 'discord', 'twitter', 'instagram', 'vsco'], list)"
            ]
          },
          "execution_count": 7,
          "metadata": {},
          "output_type": "execute_result"
        }
      ]
    },
    {
      "cell_type": "markdown",
      "metadata": {
        "id": "sMtPIKmse50J"
      },
      "source": [
        "-------\n",
        "# *.values()*\n",
        "The `values()` method returns all the values in a dictionary.\n",
        "--"
      ]
    },
    {
      "cell_type": "code",
      "metadata": {
        "id": "Cs9dnvPpe50J",
        "outputId": "71ad22f0-16c1-4517-c4a0-6128eb281551"
      },
      "source": [
        "#TODO get all of the dictionary values and show its type\n",
        "values = data.values()\n",
        "values, type(values)"
      ],
      "execution_count": null,
      "outputs": [
        {
          "data": {
            "text/plain": [
              "(dict_values(['social networking', 'social networking', 'microblogging', 'media sharing', 'media sharing']),\n",
              " dict_values)"
            ]
          },
          "execution_count": 8,
          "metadata": {},
          "output_type": "execute_result"
        }
      ]
    },
    {
      "cell_type": "code",
      "metadata": {
        "id": "eERSlKede50J",
        "outputId": "690476dc-53a9-4d0a-f14f-cfc653197b93"
      },
      "source": [
        "#TODO We can convert the values into a list by casting it as well\n",
        "values = list(data.values())\n",
        "values, type(values)"
      ],
      "execution_count": null,
      "outputs": [
        {
          "data": {
            "text/plain": [
              "(['social networking',\n",
              "  'social networking',\n",
              "  'microblogging',\n",
              "  'media sharing',\n",
              "  'media sharing'],\n",
              " list)"
            ]
          },
          "execution_count": 9,
          "metadata": {},
          "output_type": "execute_result"
        }
      ]
    },
    {
      "cell_type": "markdown",
      "metadata": {
        "id": "mUQkz3fae50K"
      },
      "source": [
        "-----\n",
        "# *.items()*\n",
        "This method returns all the keys and values of the dictionary at the same time.\n",
        "--"
      ]
    },
    {
      "cell_type": "code",
      "metadata": {
        "id": "Vh3MUQYje50K",
        "outputId": "a867c345-cd05-4d6e-d227-ca901dcdc4c1"
      },
      "source": [
        "items = data.items()\n",
        "items, type(items)"
      ],
      "execution_count": null,
      "outputs": [
        {
          "data": {
            "text/plain": [
              "(dict_items([('Snapchat', 'social networking'), ('discord', 'social networking'), ('twitter', 'microblogging'), ('instagram', 'media sharing'), ('vsco', 'media sharing')]),\n",
              " dict_items)"
            ]
          },
          "execution_count": 12,
          "metadata": {},
          "output_type": "execute_result"
        }
      ]
    },
    {
      "cell_type": "markdown",
      "metadata": {
        "id": "X0Xk-np8e50K"
      },
      "source": [
        "Notice how the items get returned as a list of tuples, this goes back to the dictionary constructor where we could intialize a dictionary simply by giving it a list of tuples, or in other words, a list of items. We can convert this list of items from the type `dict_items` to a `list` by using the same casting technique.\n",
        "--"
      ]
    },
    {
      "cell_type": "code",
      "metadata": {
        "id": "QeheSvKWe50K",
        "outputId": "952df434-7dbc-47cf-ccdb-84645ce95165"
      },
      "source": [
        "items = list(data.items())\n",
        "items, type(items)"
      ],
      "execution_count": null,
      "outputs": [
        {
          "data": {
            "text/plain": [
              "([('Snapchat', 'social networking'),\n",
              "  ('discord', 'social networking'),\n",
              "  ('twitter', 'microblogging'),\n",
              "  ('instagram', 'media sharing'),\n",
              "  ('vsco', 'media sharing')],\n",
              " list)"
            ]
          },
          "execution_count": 3,
          "metadata": {},
          "output_type": "execute_result"
        }
      ]
    },
    {
      "cell_type": "markdown",
      "metadata": {
        "id": "ldYjXp0We50L"
      },
      "source": [
        "----\n",
        "# Mini Project: Clustering app names by category\n",
        "In this mini project, you will see how to utilize the `keys()` and `values()` methods to cluster app names by type, then you will see a simpler way to do it using the `items()` method."
      ]
    },
    {
      "cell_type": "markdown",
      "metadata": {
        "id": "m0WOIE_xe50L"
      },
      "source": [
        "# Nested Data types"
      ]
    },
    {
      "cell_type": "markdown",
      "metadata": {
        "id": "TYuQ2Vwje50L"
      },
      "source": [
        "# Other Useful Methods"
      ]
    }
  ]
}
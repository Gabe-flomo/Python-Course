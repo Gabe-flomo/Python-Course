{
  "cells": [
    {
      "cell_type": "markdown",
      "metadata": {
        "id": "view-in-github",
        "colab_type": "text"
      },
      "source": [
        "<a href=\"https://colab.research.google.com/github/Gabe-flomo/Python-Course/blob/main/Modules/3.%20Data%20structures%20and%20Methods/3.2%20Dictionaries/in_class_demo%20part2.ipynb\" target=\"_parent\"><img src=\"https://colab.research.google.com/assets/colab-badge.svg\" alt=\"Open In Colab\"/></a>"
      ]
    },
    {
      "cell_type": "markdown",
      "metadata": {
        "id": "1oyFusbNe50D"
      },
      "source": [
        "# Other ways to create dictionaries\n",
        "Like with many other concepts in python, there are multiple ways to create dictionaries. In this section we will look at the most useful alternatives to creating this data structure.\n",
        "\n",
        "# The `dict()` constructor\n",
        "Since dictionaries are a collection of items, or `key:value` pairs, we can create a list containing 2 element tuples that can be converted into items in a dictionary.\n",
        "--\n",
        "\n",
        "```python \n",
        "items = [\n",
        "    ('name', 'Gabe'),\n",
        "    ('age', 22),\n",
        "    ('job', 'instructor')\n",
        "]\n",
        "```\n",
        "\n",
        "Now that we have our list of items, all we need to do is call the `dict()` constructor and give it our list of items and it will convert it to a dictionary for us.\n",
        "--\n",
        "\n",
        "```python\n",
        "dictionary = dict(items)\n",
        "print(dictionary) -> {'name': 'Gabe', 'age', 22, 'job', 'instructor'}\n",
        "\n",
        "```"
      ]
    },
    {
      "cell_type": "code",
      "execution_count": null,
      "metadata": {
        "id": "8yMNSUYge50F"
      },
      "outputs": [],
      "source": [
        "#TODO create a list of tuples and convert it inot a dictionary\n",
        "emp = [\n",
        "    (),\n",
        "    (),\n",
        "    ()\n",
        "]\n",
        "\n",
        "\n"
      ]
    },
    {
      "cell_type": "code",
      "execution_count": null,
      "metadata": {
        "id": "VT3MAfBMe50G"
      },
      "outputs": [],
      "source": [
        "#TODO Lets use a for loop to create an employee list of tuples, then convert it into a dictionary\n",
        "# create an empty list\n",
        "employees_list = []\n",
        "# create a for loop that iterates 3 times\n",
        "for _ in range(3):\n",
        "    # get the employee name\n",
        "    # get the employee department\n",
        "    # create a tuple with the name and department\n",
        "    # add the employee tuple to the list of employees\n",
        "\n",
        "# create a dictionary from the list of employee tuples\n"
      ]
    },
    {
      "cell_type": "markdown",
      "metadata": {
        "id": "HSPmyTA2e50H"
      },
      "source": [
        "# The `.fromkeys()` method\n",
        "The `.fromkeys()` method is a way to create a dictionary from another iterable object. Given a sequence, like a list or tuple, the `.fromkeys()` method will create a dictionary where the keys of the dictionary are generated from the elements of the sequence.\n",
        "--\n",
        "\n",
        "```python \n",
        "var = [\"Name\", \"age\", \"title\"]\n",
        "dictionary = dict.fromkeys(var) -> {\"Name\": None, \"age\": None, \"title\": None}\n",
        "```\n",
        "\n",
        "When the dictionary gets created, all the values are set to `None` by default. `None` in python basically means *no type* or *not a value* which isn't very useful. To resolve this issue, the `.fromkeys()` method can take a second argument that will specify a default value for each of keys in our dictionary.\n",
        "--\n",
        "\n",
        "```python \n",
        "var = [\"Name\", \"age\", \"title\"]\n",
        "default = 'unknown'\n",
        "dictionary = dict.fromkeys(var, default) -> {\"Name\": 'unknown', \"age\": 'unknown', \"title\": 'unknown'}\n",
        "```"
      ]
    },
    {
      "cell_type": "code",
      "execution_count": null,
      "metadata": {
        "id": "oERJbR-6e50H"
      },
      "outputs": [],
      "source": [
        "#TODO create a list of programming languages then create a dictionary and  set the default value to 'general_purpose'\n",
        "\n"
      ]
    },
    {
      "cell_type": "markdown",
      "metadata": {
        "id": "hfhtVnpke50H"
      },
      "source": [
        "# Accessing all keys, values, and item pairs\n",
        "Say we have a dictionary of social media apps where the app name is the key and the app type or category are the values.\n",
        "--\n",
        "```python\n",
        "{\n",
        "    'Snapchat': 'social networking',\n",
        "    'discord': 'social networking',\n",
        "    'twitter': 'microblogging',\n",
        "    'instagram': 'media sharing',\n",
        "    'vsco': 'media sharing'\n",
        "}\n",
        "```\n",
        "Given this information, we want to create a new dictionary where the app category is the key and the apps that fall under that category are our values. We are going to look at a few ways to do this using the `.keys(), .values(), and .items()` dictionary methods.\n",
        "--\n",
        "-----\n",
        "# *.keys()*\n",
        "The `keys()` method returns an iterable object containing all the keys in a dictionary.\n",
        "--"
      ]
    },
    {
      "cell_type": "code",
      "execution_count": null,
      "metadata": {
        "id": "YO6l4pcme50I"
      },
      "outputs": [],
      "source": [
        "data = {\n",
        "    'Snapchat': 'social networking',\n",
        "    'discord': 'social networking',\n",
        "    'twitter': 'microblogging',\n",
        "    'instagram': 'media sharing',\n",
        "    'vsco': 'media sharing'\n",
        "}\n",
        "\n",
        "#TODO get all the keys from the dict and show its type\n"
      ]
    },
    {
      "cell_type": "code",
      "execution_count": null,
      "metadata": {
        "id": "WycNhhX2e50I"
      },
      "outputs": [],
      "source": [
        "#TODO cast the keys to a list\n"
      ]
    },
    {
      "cell_type": "markdown",
      "metadata": {
        "id": "sMtPIKmse50J"
      },
      "source": [
        "-------\n",
        "# *.values()*\n",
        "The `values()` method returns all the values in a dictionary.\n",
        "--"
      ]
    },
    {
      "cell_type": "code",
      "execution_count": null,
      "metadata": {
        "id": "Cs9dnvPpe50J"
      },
      "outputs": [],
      "source": [
        "#TODO get all of the dictionary values and show its type\n"
      ]
    },
    {
      "cell_type": "code",
      "execution_count": null,
      "metadata": {
        "id": "eERSlKede50J"
      },
      "outputs": [],
      "source": [
        "#TODO We can convert the values into a list by casting it as well\n"
      ]
    },
    {
      "cell_type": "markdown",
      "metadata": {
        "id": "mUQkz3fae50K"
      },
      "source": [
        "-----\n",
        "# *.items()*\n",
        "This method returns all the keys and values of the dictionary at the same time.\n",
        "--"
      ]
    },
    {
      "cell_type": "code",
      "execution_count": null,
      "metadata": {
        "id": "Vh3MUQYje50K"
      },
      "outputs": [],
      "source": [
        ""
      ]
    },
    {
      "cell_type": "markdown",
      "metadata": {
        "id": "X0Xk-np8e50K"
      },
      "source": [
        "Notice how the items get returned as a list of tuples, this goes back to the dictionary constructor where we could intialize a dictionary simply by giving it a list of tuples, or in other words, a list of items. We can convert this list of items from the type `dict_items` to a `list` by using the same casting technique.\n",
        "--"
      ]
    },
    {
      "cell_type": "code",
      "execution_count": null,
      "metadata": {
        "id": "QeheSvKWe50K"
      },
      "outputs": [],
      "source": [
        ""
      ]
    },
    {
      "cell_type": "markdown",
      "metadata": {
        "id": "ZjbCCdoQ_Dxx"
      },
      "source": [
        "# Looping through keys, values and items\n",
        "Since the each of these methods are used to convert the dictionary into some kind of iterable, we are able to loop through them as if they were lists."
      ]
    },
    {
      "cell_type": "code",
      "execution_count": null,
      "metadata": {
        "id": "ehX4k-Xx_Dxx"
      },
      "outputs": [],
      "source": [
        "data = {\n",
        "    'Snapchat': 'social networking',\n",
        "    'discord': 'social networking',\n",
        "    'twitter': 'microblogging',\n",
        "    'instagram': 'media sharing',\n",
        "    'vsco': 'media sharing'\n",
        "}"
      ]
    },
    {
      "cell_type": "code",
      "execution_count": null,
      "metadata": {
        "id": "wxxAfEU2_Dxx"
      },
      "outputs": [],
      "source": [
        "#TODO Loop through dictionary keys\n"
      ]
    },
    {
      "cell_type": "code",
      "execution_count": null,
      "metadata": {
        "id": "fsvZBaEZ_Dxx"
      },
      "outputs": [],
      "source": [
        "#TODO loop through dictionary values\n"
      ]
    },
    {
      "cell_type": "code",
      "execution_count": null,
      "metadata": {
        "id": "4XkHTXbZ_Dxx"
      },
      "outputs": [],
      "source": [
        "#TODO loop through dictionary items\n"
      ]
    },
    {
      "cell_type": "code",
      "execution_count": null,
      "metadata": {
        "id": "sYV4_13g_Dxx"
      },
      "outputs": [],
      "source": [
        "#TODO loop through dictionary items by unpacking the pairs\n"
      ]
    },
    {
      "cell_type": "markdown",
      "metadata": {
        "id": "m0WOIE_xe50L"
      },
      "source": [
        "# Nested Data structures\n",
        "A nested data structure is basically a data structure that has another data structure as one of its elements. You've already seen something this when working with a `list of tuples` or a `list of lists` and you can also do this with dictionaries. All you have to do is add the data structure as one of the values to your dictionary and you're set."
      ]
    },
    {
      "cell_type": "code",
      "execution_count": null,
      "metadata": {
        "id": "2quxAH6b_Dxy"
      },
      "outputs": [],
      "source": [
        "#TODO create a dictionary with a list as its values\n",
        "var = {\n",
        "    'integers':\n",
        "    'floats': \n",
        "}\n"
      ]
    },
    {
      "cell_type": "markdown",
      "metadata": {
        "id": "S8u4Npx9_Dxy"
      },
      "source": [
        "# Question: If I want to return the number 3.3 from my dictionary how should I do it?"
      ]
    },
    {
      "cell_type": "code",
      "execution_count": null,
      "metadata": {
        "id": "JYRWAv0z_Dxy"
      },
      "outputs": [],
      "source": [
        "#TODO return the value 3.3\n"
      ]
    },
    {
      "cell_type": "markdown",
      "metadata": {
        "id": "u5xzBQFm_Dxy"
      },
      "source": [
        "## Dictionary inside of a dictionary\n",
        "Noy only can you nest list/tuples or any other data structure inside of dictionaries, but you can also nest a dictionary inside of itself."
      ]
    },
    {
      "cell_type": "code",
      "execution_count": null,
      "metadata": {
        "id": "aMOAfBPc_Dxy"
      },
      "outputs": [],
      "source": [
        "#TODO create a nested dictionary dict1 and dict2 with lists and bools as values\n"
      ]
    },
    {
      "cell_type": "markdown",
      "metadata": {
        "id": "QaD2gJMT_Dxy"
      },
      "source": [
        "# Question: If I wanted to access the list in dict2, how would I do it?"
      ]
    },
    {
      "cell_type": "code",
      "execution_count": null,
      "metadata": {
        "id": "9d62tVUs_Dxy"
      },
      "outputs": [],
      "source": [
        "#TODO access the list in dict2\n"
      ]
    },
    {
      "cell_type": "markdown",
      "metadata": {
        "id": "QTQFl35U_Dxy"
      },
      "source": [
        "# Adding values to a list nested in a dictionary\n",
        "When we nest other data structures inside of dictionaries, we can still treat them like the original object. This means that if we have a list nested inside of a dictionary, we can still do things like appending or slicing"
      ]
    },
    {
      "cell_type": "code",
      "source": [
        "#TODO create a dictionary with a list nested inside of it and append new values to the list."
      ],
      "metadata": {
        "id": "x3psTi32_N-T"
      },
      "execution_count": null,
      "outputs": []
    },
    {
      "cell_type": "markdown",
      "metadata": {
        "id": "ldYjXp0We50L"
      },
      "source": [
        "----\n",
        "# Mini Project: Clustering app names by category\n",
        "Utilize either the `keys()`, `values()`, or `items()` methods along with nested data types to group the resturaunts by category.\n",
        "\n",
        "### Expected output\n",
        "```python\n",
        "resturaunts = {\n",
        "    'mcdonalds': 'fast food',\n",
        "    'wakame': 'sushi',\n",
        "    'wendys': 'fast food',\n",
        "    'caribou': 'cafe',\n",
        "    'starbucks': 'cafe',\n",
        "    'burger king': 'fast food',\n",
        "    'bagu': 'sushi',\n",
        "    'popeyes': 'fast food',\n",
        "    'dunkin doughnuts': 'cafe',\n",
        "    'kyoto sushi': 'sushi'\n",
        "}\n",
        "\n",
        "categories = {\n",
        "    'fast food': ['mcdonalds', 'wendys', 'burger king', 'popeyes'],\n",
        "    'cafe': ['caribou', 'starbucks', 'dunkin doughnuts'],\n",
        "    'sushi': ['wakame', 'kyoto sushi', 'bagu sushi'],\n",
        "}\n",
        "```"
      ]
    },
    {
      "cell_type": "code",
      "execution_count": null,
      "metadata": {
        "id": "1ZO8v_Q0_Dxy"
      },
      "outputs": [],
      "source": [
        "resturaunts = {\n",
        "    'mcdonalds': 'fast food',\n",
        "    'wakame': 'sushi',\n",
        "    'wendys': 'fast food',\n",
        "    'caribou': 'cafe',\n",
        "    'starbucks': 'cafe',\n",
        "    'burger king': 'fast food',\n",
        "    'bagu': 'sushi',\n",
        "    'popeyes': 'fast food',\n",
        "    'dunkin doughnuts': 'cafe',\n",
        "    'kyoto sushi': 'sushi'\n",
        "}\n",
        "\n",
        "#TODO group by catagory\n",
        "categories = {}"
      ]
    },
    {
      "cell_type": "markdown",
      "metadata": {
        "id": "TYuQ2Vwje50L"
      },
      "source": [
        "# Other Methods\n",
        "In this section we will look at some of the remaining dictionary methods that'll be useful for current and future projects.\n",
        "\n",
        "* `.pop()`, `.popitem()`, and `.clear()`\n",
        "* `.update()`\n",
        "* `setdefault()`\n",
        "\n",
        "\n",
        "## Removing items from dictionaries\n",
        "There are 3 methods that can be used to remove items from dictionaries. `pop(key)` removes and returns the item with the specified key, `popitem()` returns and removes the last added item, and `clear()` deletes all items in the dictionary."
      ]
    },
    {
      "cell_type": "code",
      "execution_count": null,
      "metadata": {
        "id": "Zxj60dVw_Dxz"
      },
      "outputs": [],
      "source": [
        "#TODO remove all items where the key starts with the letter F\n",
        "var = {\n",
        "    'filler': None,\n",
        "    'bunjee': None,\n",
        "    'fast': None,\n",
        "    'furious': None,\n",
        "    'great': None,\n",
        "    'fax': None\n",
        "}"
      ]
    },
    {
      "cell_type": "code",
      "execution_count": null,
      "metadata": {
        "id": "cMXvFYsm_Dxz"
      },
      "outputs": [],
      "source": [
        "#TODO create a dictionary of integer keys and float values. Remove the last item\n",
        "var = {\n",
        "    1: 1.11,\n",
        "    2: 2.22,\n",
        "    3: 3.33,\n",
        "    4: 4.44\n",
        "}"
      ]
    },
    {
      "cell_type": "code",
      "execution_count": null,
      "metadata": {
        "id": "f3uDc-Gs_Dxz"
      },
      "outputs": [],
      "source": [
        "#TODO delete all items from the dictionary\n",
        "var = {\n",
        "    \"I\": \"am\",\n",
        "    \"A\": \"Dictionary\",\n",
        "    'And': \"I\", \n",
        "    \"Want\": \"to\",\n",
        "    \"Be\": \"Deleted 🥲\"\n",
        "}"
      ]
    },
    {
      "cell_type": "markdown",
      "metadata": {
        "id": "CtczPr_k_Dxz"
      },
      "source": [
        "# Combining dictionaries\n",
        "The `update()` method inserts the specified items to the dictionary.\n",
        "The specified items can be a dictionary, or an iterable object with key value pairs.\n",
        "\n",
        "```python\n",
        "dict.update(items)\n",
        "```"
      ]
    },
    {
      "cell_type": "code",
      "execution_count": null,
      "metadata": {
        "id": "Kzm13u5Q_Dxz"
      },
      "outputs": [],
      "source": [
        "#TODO update the float dictionary to also hold integers by combining the integers and float dictionaries\n",
        "integers = {\n",
        "    'one': 1,\n",
        "    'one-hundred': 100,\n",
        "    'ninety-nine-thousand': 99000\n",
        "}\n",
        "\n",
        "floats = {\n",
        "    'one and a half': 1.5,\n",
        "    'two and three quarters': 2.75,\n",
        "    'pie': 3.1459\n",
        "}\n",
        "\n"
      ]
    },
    {
      "cell_type": "code",
      "execution_count": null,
      "metadata": {
        "id": "dry6LrU-_Dxz"
      },
      "outputs": [],
      "source": [
        "#TODO update the dictionary with a list of item tuples\n",
        "var = {\n",
        "    'Iron man':'Marvel',\n",
        "    'spider man': 'Marvel',\n",
        "    'batman': 'DC'\n",
        "}\n",
        "\n",
        "items = [\n",
        "    ('wonder woman', 'DC'),\n",
        "    (\"venom\", \"marvel\"),\n",
        "    (\"joker\", \"DC\")\n",
        "]\n",
        "\n"
      ]
    },
    {
      "cell_type": "markdown",
      "metadata": {
        "id": "8bl6pRa6_Dxz"
      },
      "source": [
        "# Default values\n",
        "The `setdefault()` method returns the value of the item with the specified key.\n",
        "If the key does not exist, insert the key, with the specified value. If the key does exist, the original value will be returned.\n",
        "\n",
        "***This methog is similar to `.get()` except that this method will actuall create a new `key : value` pair if the key doesn't exist.\n",
        "\n",
        "```python\n",
        "dict.setdefault(key, value)\n",
        "```"
      ]
    },
    {
      "cell_type": "code",
      "execution_count": null,
      "metadata": {
        "id": "ognXrWqF_Dxz"
      },
      "outputs": [],
      "source": [
        "var = {\n",
        "    'uber': 'car',\n",
        "    'air uber': \"plane\"\n",
        "}\n",
        "\n",
        "# use setdefault to return the value for uber\n",
        "\n",
        "# use setdefault to return the value for air uber\n",
        "\n",
        "# use setdefault to return the value for space uber, if the key is not present set the value to rocketship\n"
      ]
    },
    {
      "cell_type": "markdown",
      "metadata": {
        "id": "-hwXCd4X_Dxz"
      },
      "source": [
        "## Using setdefault to simplify our resturaunt grouping\n",
        "In the original project, if we wanted to add a new key and value, we had to check if the key existed in the dictionary already. If it didn't exist, we would create the key and set its value as a list. \n",
        "\n",
        "We can simplify this with the `setdefault()` method to check and create the `key : value` pair for us."
      ]
    },
    {
      "cell_type": "code",
      "execution_count": null,
      "metadata": {
        "id": "yqy-ysFO_Dxz",
        "outputId": "aae72121-a112-4509-d5c6-def27d80c980"
      },
      "outputs": [
        {
          "data": {
            "text/plain": [
              "{'fast food': ['mcdonalds', 'wendys', 'burger king', 'popeyes'],\n",
              " 'sushi': ['wakame', 'bagu', 'kyoto sushi'],\n",
              " 'cafe': ['caribou', 'starbucks', 'dunkin doughnuts']}"
            ]
          },
          "execution_count": 34,
          "metadata": {},
          "output_type": "execute_result"
        }
      ],
      "source": [
        "categories2 = {}\n"
      ]
    }
  ],
  "metadata": {
    "colab": {
      "name": "in_class_demo part2.ipynb",
      "provenance": [],
      "include_colab_link": true
    },
    "interpreter": {
      "hash": "fd61235da8d855c081cbd5d7c6398e4c179a40a950675235256f7f30499f1124"
    },
    "kernelspec": {
      "display_name": "Python 3.7.4 64-bit ('base': conda)",
      "name": "python3"
    },
    "language_info": {
      "codemirror_mode": {
        "name": "ipython",
        "version": 3
      },
      "file_extension": ".py",
      "mimetype": "text/x-python",
      "name": "python",
      "nbconvert_exporter": "python",
      "pygments_lexer": "ipython3",
      "version": "3.9.7"
    },
    "orig_nbformat": 4
  },
  "nbformat": 4,
  "nbformat_minor": 0
}
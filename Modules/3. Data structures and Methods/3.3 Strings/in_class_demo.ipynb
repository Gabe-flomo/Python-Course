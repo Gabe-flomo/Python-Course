{
 "cells": [
  {
   "cell_type": "markdown",
   "metadata": {},
   "source": [
    "# Strings\n",
    "Pythons method for representing text is with the string data type. \n",
    "\n",
    "So far, we've covered:\n",
    "- Single and double quoted strings\n",
    "- f-strings\n",
    "- string indexing/slicing\n",
    "- string concatenation\n",
    "\n",
    "In this section we will cover:\n",
    "- multiline strings (AKA docstrings)\n",
    "- string replacement\n",
    "- String splitting/joining\n",
    "- string case conversion\n",
    "- `count()`, `isnumeric()`, `startswith()`, `endswith()`\n",
    "--------\n",
    "\n",
    "# Multiline strings\n",
    "A multiline string is exactly what is sounds like... a string that can span multiple lines. Use triple quotes to create a multiline string."
   ]
  },
  {
   "cell_type": "code",
   "execution_count": null,
   "metadata": {},
   "outputs": [],
   "source": [
    "#TODO Create a multiline string on a single line\n",
    "var = \"\"\"Hello 👋🏾 I am a multiline string\"\"\"\n"
   ]
  },
  {
   "cell_type": "code",
   "execution_count": null,
   "metadata": {},
   "outputs": [],
   "source": [
    "#TODO Create a multiline string over multiple lines\n",
    "var = '''\n",
    "This is a story about a snake.\n",
    "His name is python.\n",
    "He likes to code, so he made a language named after himself.\n",
    "'''\n",
    "\n",
    "print(var)"
   ]
  },
  {
   "cell_type": "markdown",
   "metadata": {},
   "source": [
    "----\n",
    "# String replacement\n",
    "Since strings are immutable data types, you aren't able to change it's characters once its been created. However, there are string methods that allow you to alter strings as much as you'd like. \n",
    "\n",
    "The replace method replaces target text inside of a string with substitute text you wanna replace it with."
   ]
  },
  {
   "cell_type": "code",
   "execution_count": null,
   "metadata": {},
   "outputs": [],
   "source": [
    "#TODO replace world with universe in the string\n",
    "var = \"Hello world\"\n",
    "print(var)\n",
    "var = print(var.replace(\"world\", 'universe'))"
   ]
  },
  {
   "cell_type": "code",
   "execution_count": null,
   "metadata": {},
   "outputs": [],
   "source": [
    "#TODO replace the placeholder with the names in the list\n",
    "names = ['gabe', 'nathan', 'nene', 'aaron']\n",
    "string = \"My name is placeholder\"\n",
    "\n",
    "for name in names:\n",
    "    print(string.replace('placeholder', name))"
   ]
  },
  {
   "cell_type": "markdown",
   "metadata": {},
   "source": [
    "------\n",
    "# Splitting Strings \n",
    "Consider the following string:\n",
    "\n",
    "```python\n",
    "var = \"Gabe, Nathan, Nene, Aaron\"\n",
    "```\n",
    "\n",
    "Say instead of being a long string seperated by commas, we want to just convert it into a list. At first, you may think that we can just cast the string to a list, but this is what the result of that looks like.\n",
    "\n",
    "```python\n",
    "['G', 'a', 'b', 'e', ',', ' ', 'N', 'a', 't', 'h', 'a', 'n', ',', ' ', 'N', 'e', 'n', 'e', ',', ' ', 'A', 'a', 'r', 'o', 'n']\n",
    "\n",
    "```\n",
    "\n",
    "*Which is not what we want*\n",
    "\n",
    "**The `split` method allows us to convert a string into a list around a specific delimeter, which would look like this.**\n",
    "\n",
    "```python\n",
    "var = \"Gabe, Nathan, Nene, Aaron\"\n",
    "print(var.split(\",\"))\n",
    "\n",
    "#output\n",
    "['Gabe', 'Nathan', 'Nene', 'Aaron']\n",
    "```\n",
    "\n",
    "\n",
    "*A delimeter is just something that marks the begining or end of a string*"
   ]
  },
  {
   "cell_type": "code",
   "execution_count": null,
   "metadata": {},
   "outputs": [],
   "source": [
    "#TODO split a string using the default delimeter\n",
    "var = \"Hello world 👋🏾\"\n",
    "var.split()"
   ]
  },
  {
   "cell_type": "code",
   "execution_count": null,
   "metadata": {},
   "outputs": [],
   "source": [
    "#TODO split a string by a custom delimeter\n",
    "var = \"I-am-a-hyphenated-string\"\n",
    "var.split(\"-\")"
   ]
  },
  {
   "cell_type": "markdown",
   "metadata": {},
   "source": [
    "-----\n",
    "# Joining Strings\n",
    "Consider the following the list:\n",
    "\n",
    "```python\n",
    "var = ['The', 'cat', 'in', 'the', 'hat']\n",
    "```\n",
    "Say that we wanted to convert this list into a single string because it would make more sense to treat it as such. We can do this using the `join` method.\n",
    "\n",
    "**The join method allows us to convert a list into a string seperated by a delimeter**\n",
    "\n",
    "```python\n",
    "var = ['The', 'cat', 'in', 'the', 'hat']\n",
    "var = \" \".join(var)\n",
    "print(var)\n",
    "\n",
    "# output\n",
    "\"The cat in the hat\"\n",
    "```"
   ]
  },
  {
   "cell_type": "code",
   "execution_count": null,
   "metadata": {},
   "outputs": [],
   "source": [
    "#TODO join the list using a space\n",
    "var = ['Gabe', 'Nathan', 'Nene', 'Aaron']\n",
    "var = \" \".join(var)\n",
    "var"
   ]
  },
  {
   "cell_type": "code",
   "execution_count": null,
   "metadata": {},
   "outputs": [],
   "source": [
    "#TODO join the list using a comma\n",
    "var = ['Gabe', 'Nathan', 'Nene', 'Aaron']\n",
    "var = \", \".join(var)\n",
    "var"
   ]
  },
  {
   "cell_type": "markdown",
   "metadata": {},
   "source": [
    "----\n",
    "# Case conversion \n",
    "Case conversion is the process of changing the *capitilization* of a string. Python has 5 [conversion methods](https://www.learnbyexample.org/python-string/#string-case-conversion) and theres 3 of them that will become more relevant. \n",
    "\n",
    "- `lower`\n",
    "- `upper`\n",
    "- `title`\n",
    "\n",
    "\n",
    "## Make everything small 🤏🏾\n",
    "```python\n",
    "var = \"I \n",
    "\n",
    "\n"
   ]
  },
  {
   "cell_type": "code",
   "execution_count": null,
   "metadata": {},
   "outputs": [],
   "source": []
  }
 ],
 "metadata": {
  "interpreter": {
   "hash": "fd61235da8d855c081cbd5d7c6398e4c179a40a950675235256f7f30499f1124"
  },
  "kernelspec": {
   "display_name": "Python 3.7.4 64-bit ('base': conda)",
   "name": "python3"
  },
  "language_info": {
   "codemirror_mode": {
    "name": "ipython",
    "version": 3
   },
   "file_extension": ".py",
   "mimetype": "text/x-python",
   "name": "python",
   "nbconvert_exporter": "python",
   "pygments_lexer": "ipython3",
   "version": "3.9.7"
  },
  "orig_nbformat": 4
 },
 "nbformat": 4,
 "nbformat_minor": 2
}

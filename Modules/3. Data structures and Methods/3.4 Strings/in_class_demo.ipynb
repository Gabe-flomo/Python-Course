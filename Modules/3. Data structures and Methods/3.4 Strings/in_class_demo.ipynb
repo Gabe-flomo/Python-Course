{
 "cells": [
  {
   "cell_type": "markdown",
   "source": [
    "## You can also index characters in reverse by using negative index values.\r\n",
    "\r\n",
    "<img src = \"strings reverse.png\" width=\"700\" height = 400>"
   ],
   "metadata": {}
  },
  {
   "cell_type": "code",
   "execution_count": null,
   "source": [
    "# return the last character in the string\r\n",
    "print(f\"Last character using negative indexing: {word[-1]}\")\r\n",
    "print(f\"Last character using positive indexing: {word[5]}\")"
   ],
   "outputs": [],
   "metadata": {}
  },
  {
   "cell_type": "markdown",
   "source": [
    "## Why use negative indexing? \r\n",
    "negative indexing is useful because you dont need to know the length of the string in order to return the last characters. \r\n",
    "\r\n",
    "For example, say you have a variable named 'message' with the value \"hello\", then sometime later in the program you change the value to \"goodbye\". Both strings are referenced using the same variable, however, each string has a different length which will lead to accessing incorrect values."
   ],
   "metadata": {}
  },
  {
   "cell_type": "code",
   "execution_count": null,
   "source": [
    "# positive indexing for strings with different lengths\r\n",
    "message = \"hello\"\r\n",
    "print(message[4])\r\n",
    "message = \"goodbye\"\r\n",
    "print(message[4])\r\n"
   ],
   "outputs": [],
   "metadata": {}
  },
  {
   "cell_type": "code",
   "execution_count": null,
   "source": [
    "# negative indexing for strings with different lengths\r\n",
    "message = \"hello\"\r\n",
    "print(message[-1])\r\n",
    "message = \"goodbye\"\r\n",
    "print(message[-1])\r\n"
   ],
   "outputs": [],
   "metadata": {}
  },
  {
   "cell_type": "markdown",
   "source": [
    "# String Slicing\r\n",
    "Along with indexing characters in a string, you can also slice the string in order to return a subset of the string.\r\n",
    "\r\n",
    "Slicing notation looks like this:\r\n",
    "\r\n",
    "```python\r\n",
    "var[start:stop:step]\r\n",
    "```\r\n",
    "* **start ** is the index value to begin slicing the string from\r\n",
    "* **stop ** is the index value to end slicing the string(the value is not included)\r\n",
    "* **step ** allows you to slice in intervals\r\n",
    "\r\n",
    "### Lets see some examples to build an intuition for how this works\r\n"
   ],
   "metadata": {}
  },
  {
   "cell_type": "code",
   "execution_count": 1,
   "source": [
    "var = \"supercalifragilisticexpialidocious\"\r\n",
    "\r\n",
    "# slice the first 5 characters so that the new string spells out 'super'\r\n",
    "print(var[0:5])\r\n",
    "\r\n",
    "# slice the string so that the new string spells out 'fragilistic'\r\n",
    "print(var[9:20])\r\n",
    "\r\n",
    "# slice the entire string but return every other character\r\n",
    "print(var[::2])\r\n",
    "\r\n",
    "# slice the entire string but return every other character that wasn't returned in the previous step\r\n",
    "print(var[1::2])\r\n",
    "\r\n",
    "# reverse the string\r\n",
    "print(var[::-1])\r\n"
   ],
   "outputs": [
    {
     "output_type": "stream",
     "name": "stdout",
     "text": [
      "super\n",
      "fragilistic\n",
      "sprairglsiepaioiu\n",
      "ueclfaiitcxildcos\n",
      "suoicodilaipxecitsiligarfilacrepus\n"
     ]
    }
   ],
   "metadata": {}
  },
  {
   "cell_type": "markdown",
   "source": [
    "## String concatenation\r\n",
    "**Concatenations means: The action of linking things together.**\r\n",
    "\r\n",
    "In python, we can concatenate strings by using the addition operator (+). "
   ],
   "metadata": {}
  },
  {
   "cell_type": "code",
   "execution_count": null,
   "source": [
    "# combining strings\r\n",
    "'hello' + 'world'\r\n"
   ],
   "outputs": [],
   "metadata": {}
  },
  {
   "cell_type": "code",
   "execution_count": null,
   "source": [
    "# combining string variables\r\n",
    "var1 = 'Washburn'\r\n",
    "var2 = ' high school'\r\n",
    "var3 = var1 + var2\r\n",
    "print(var3)\r\n"
   ],
   "outputs": [],
   "metadata": {}
  },
  {
   "cell_type": "markdown",
   "source": [
    "# Strings and Indexing\r\n",
    "Because strings are a sequence of characters, you can select parts of a string by using an index.\r\n",
    "\r\n",
    "<em style = \"color: #6F69AC\">An index is a numerical representation of an item's position in a sequence.</em>\r\n",
    "\r\n",
    "In most programming languages, python included, index values start at 0. Since they start at zero, the last index value will be equal to the length of the sequence minus 1. \r\n",
    "\r\n",
    "<img src =\"strings.png\" width = \"700\" height = \"400\">\r\n",
    "\r\n",
    "\r\n",
    "<em><b>You will learn more about indexing in the lists module</b></em>"
   ],
   "metadata": {}
  }
 ],
 "metadata": {
  "orig_nbformat": 4,
  "language_info": {
   "name": "python",
   "version": "3.7.4",
   "mimetype": "text/x-python",
   "codemirror_mode": {
    "name": "ipython",
    "version": 3
   },
   "pygments_lexer": "ipython3",
   "nbconvert_exporter": "python",
   "file_extension": ".py"
  },
  "kernelspec": {
   "name": "python3",
   "display_name": "Python 3.7.4 64-bit ('base': conda)"
  },
  "interpreter": {
   "hash": "fd61235da8d855c081cbd5d7c6398e4c179a40a950675235256f7f30499f1124"
  }
 },
 "nbformat": 4,
 "nbformat_minor": 2
}
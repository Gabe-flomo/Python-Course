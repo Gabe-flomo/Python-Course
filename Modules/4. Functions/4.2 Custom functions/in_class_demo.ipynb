{
 "cells": [
  {
   "cell_type": "markdown",
   "metadata": {},
   "source": [
    "# Functions Recap\n",
    "Remember a function is a reusable block of code, meaning that it gets defined once and can be used as many times as you want. We've already looked at pythons built-in functions, however, more complex tasks may not have a predefined function already built. This is where custom functions come in. A custom function is just a function that you define and design yourself."
   ]
  },
  {
   "cell_type": "markdown",
   "metadata": {},
   "source": [
    "# Defining a function\n",
    "To define a function we use the python keyword <b style = \"color:#CF9FFF;\"> def </b> followed by the `name` of the function, parenthesis for `arguments`, and a `return` statement at the end of the function.\n",
    "\n",
    "```python \n",
    "def name(arguments):\n",
    "    # Function body\n",
    "    # must be \n",
    "    # indented\n",
    "    return value    \n",
    "```\n",
    "\n",
    "***Everything that that comes after the <b style = \"color:#CF9FFF;\"> def </b> keyword is known as the function `signature`***"
   ]
  },
  {
   "cell_type": "code",
   "execution_count": null,
   "metadata": {},
   "outputs": [],
   "source": [
    "#TODO define a simple function that prints \"Hello world\"\n",
    "def greeting():\n",
    "    print(\"Hello, world!\")"
   ]
  },
  {
   "cell_type": "markdown",
   "metadata": {},
   "source": [
    "# Calling funtions\n",
    "The <b style = \"color:#CF9FFF;\"> def </b> keyword only defines our functions, if we actually want to use our function then we need to call it. To call a function, add parenthesis after the functions name.\n",
    "\n",
    "```python \n",
    "# function definition\n",
    "def function():\n",
    "    print(\"I am a function\")\n",
    "\n",
    "# function call\n",
    "funtion() -> # \"I am a function\"\n",
    "```"
   ]
  },
  {
   "cell_type": "code",
   "execution_count": null,
   "metadata": {},
   "outputs": [],
   "source": [
    "#TODO call the 'greeting' function defined above\n",
    "greeting()"
   ]
  },
  {
   "cell_type": "code",
   "execution_count": null,
   "metadata": {},
   "outputs": [],
   "source": [
    "#TODO What happens when you try and call a function without parenthesis?\n",
    "greeting"
   ]
  },
  {
   "cell_type": "markdown",
   "metadata": {},
   "source": [
    "# Arguments\n",
    "Most times when building functions, they're going to be doing more complex tasks than just printing something to the screen. In order to do more complex tasks functions will usually need some type of ***'external'*** information as `inputs` to the function. These inputs come in the form of arguments and arguments come in 5 different types.\n",
    "\n",
    "* positional arguments\n",
    "* keyword arguments\n",
    "* default arguments\n",
    "* variable length positional arguments\n",
    "* variable length keyword arguments\n",
    "\n",
    "For now we will only focus on the first 3.\n",
    "\n",
    "## Positional arguments\n",
    "Positional arguments are values that are given to a function in a particular order. With positional arguments you need to pass values in the order with which they were defined.\n",
    "\n",
    "```python \n",
    "def positional(name, age):\n",
    "    print(f\"{name} is {age} years old\")\n",
    "```\n",
    "\n",
    "In this case, we've defined two positional arguments, `name` and `age`, to be used in out function."
   ]
  },
  {
   "cell_type": "code",
   "execution_count": null,
   "metadata": {},
   "outputs": [],
   "source": [
    "#TODO implement a function that takes 2 positional arguments 'name' and 'food' to print out someones favorite food\n",
    "def fav_food(name, food):\n",
    "    print(f\"{name}'s favorite food is {food}\")\n",
    "\n",
    "fav_food('Gabe', 'steak')"
   ]
  },
  {
   "cell_type": "code",
   "execution_count": null,
   "metadata": {},
   "outputs": [],
   "source": [
    "#TODO What happens if I give the arguments out of order?\n",
    "fav_food(\"Steak\", \"gabe\")"
   ]
  },
  {
   "cell_type": "markdown",
   "metadata": {},
   "source": [
    "## Keyword arguments\n",
    "If you want to ignore the position of the arguments, provide the name of the argument to the function along with its value. This will override the positional restriction since the arguments will now be mathced by name.\n",
    "\n",
    "```python \n",
    "def keyword(name, age):\n",
    "    print(f\"{name} is {age} years old\")\n",
    "\n",
    "keyword(name = \"Gabe\", age = 22) -> # Gabe is 22 years old\n",
    "keyword(age = 22, name = \"Gabe\") -> # Gabe is 22 years old\n",
    "```\n",
    "\n",
    "***For functions with more than one argument, you should use keyword arguments***"
   ]
  },
  {
   "cell_type": "code",
   "execution_count": null,
   "metadata": {},
   "outputs": [],
   "source": [
    "#TODO call the fav_food function using keyword arguments\n",
    "fav_food(name = \"Gabe\", food = \"pizza\")"
   ]
  },
  {
   "cell_type": "markdown",
   "metadata": {},
   "source": [
    "## Default arguments\n",
    "A default argument is an argument that has a default value. If a value is not given to the function, it will execute using the default value. This is especially useful for functions that you want to have added functionality depending if certain information is provided.\n",
    "\n",
    "*All default arguments must be placed after all positional arguments.*\n",
    "\n",
    "```python\n",
    "def default(name, age = 22):\n",
    "    print(f\"{name} is {age} years old\")\n",
    "\n",
    "default(\"Gabe\") -> # Gabe is 22 years old\n",
    "default(name = \"Nene\") -> # Nene is 22 years old\n",
    "default(\"Nathan\", age = 21) # Nathan is 21 years old\n",
    "```"
   ]
  },
  {
   "cell_type": "code",
   "execution_count": null,
   "metadata": {},
   "outputs": [],
   "source": [
    "#TODO define a function that adds 2 numbers but the second value has a default of 10\n",
    "def add(x, y = 10):\n",
    "    print(x + y)\n",
    "\n",
    "add(x = 10)"
   ]
  },
  {
   "cell_type": "code",
   "execution_count": null,
   "metadata": {},
   "outputs": [],
   "source": [
    "#TODO define a function that subtracts the default values of 10 and 5\n",
    "def subtract(x = 10, y = 5):\n",
    "    print(x - y)\n",
    "\n",
    "subtract(y = 10)"
   ]
  },
  {
   "cell_type": "markdown",
   "metadata": {},
   "source": [
    "# Docstrings\n",
    "A docstring is a description of a function inside of the function so that anyone using it can get an idea of what the function is doing. You write a docstring right after the functions `signature` and is created using a `multiline` string. \n",
    "\n",
    "### What to add in the docstring\n",
    "* A description of the function\n",
    "* An explanation of the arguments\n",
    "* Example use cases (optional)\n",
    "\n",
    "```python\n",
    "def complex_function(arg1, arg2, arg3 = True):\n",
    "    '''This function is very complex and will do lots and lots of cool things 😁\n",
    "\n",
    "        - arg1: is the first argument and will be used in this super complex task\n",
    "        - arg2: is the second argument and will be used in this complex task\n",
    "        - arg3: is the third argument and might be used in this complex task\n",
    "\n",
    "        complex_value = complex_function(\"complex_arg\", \"complex_arg\")\n",
    "    '''\n",
    "```"
   ]
  },
  {
   "cell_type": "code",
   "execution_count": 36,
   "metadata": {},
   "outputs": [],
   "source": [
    "#TODO redefine the fav_food function and add a docstring that describes the function and its arguments\n",
    "def fav_food(name, food):\n",
    "    '''\n",
    "    This function is used to print out a users favorite food.\n",
    "\n",
    "    - name: the name of the user\n",
    "    - food: the users favorite food\n",
    "    '''\n",
    "\n",
    "    print(f\"{name} favorite food is {food}\")\n",
    "\n"
   ]
  },
  {
   "cell_type": "markdown",
   "metadata": {},
   "source": [
    "# Return statements"
   ]
  },
  {
   "cell_type": "markdown",
   "metadata": {},
   "source": [
    "# Nested function"
   ]
  },
  {
   "cell_type": "markdown",
   "metadata": {},
   "source": [
    "# Function Design"
   ]
  },
  {
   "cell_type": "markdown",
   "metadata": {},
   "source": []
  }
 ],
 "metadata": {
  "interpreter": {
   "hash": "f1a916808f2d29f1a5fbd48aa1cb9129993ca703ecce713879d0cd946e898e32"
  },
  "kernelspec": {
   "display_name": "Python 3.9.7 64-bit ('legacy': conda)",
   "language": "python",
   "name": "python3"
  },
  "language_info": {
   "codemirror_mode": {
    "name": "ipython",
    "version": 3
   },
   "file_extension": ".py",
   "mimetype": "text/x-python",
   "name": "python",
   "nbconvert_exporter": "python",
   "pygments_lexer": "ipython3",
   "version": "3.9.7"
  },
  "orig_nbformat": 4
 },
 "nbformat": 4,
 "nbformat_minor": 2
}

{
 "cells": [
  {
   "cell_type": "code",
   "execution_count": 18,
   "metadata": {},
   "outputs": [
    {
     "data": {
      "text/plain": [
       "120"
      ]
     },
     "execution_count": 18,
     "metadata": {},
     "output_type": "execute_result"
    }
   ],
   "source": [
    "def factorial(n):\n",
    "    if n <= 1:\n",
    "        return n\n",
    "    return n * factorial(n - 1)\n",
    "\n",
    "factorial(5)"
   ]
  },
  {
   "cell_type": "markdown",
   "metadata": {},
   "source": [
    "# Call 1\n",
    "```python \n",
    "n == 3\n",
    "return == 3 * factorial(3 - 1) -> results in another function call\n",
    "```\n",
    "\n",
    "# Call 2\n",
    "```python \n",
    "n == 2\n",
    "return == 2 * factorial(2 - 1) -> results in another function call\n",
    "```\n",
    "\n",
    "# Call 3\n",
    "```python \n",
    "n == 1\n",
    "return == 1 -> results in returning all previous functions\n",
    "```\n",
    "\n",
    "# Results\n",
    "```python \n",
    "call 3 returns 1 meaning that the return of the function call in call 2 is == 2 * 1\n",
    "call 2 returns 2 meaning that the return of the function call in call 1 is == 3 * 2\n",
    "call 1 returns 6 but since this was the original function call, the recursion terminates and the final answer gets returned\n",
    "```"
   ]
  }
 ],
 "metadata": {
  "interpreter": {
   "hash": "f1a916808f2d29f1a5fbd48aa1cb9129993ca703ecce713879d0cd946e898e32"
  },
  "kernelspec": {
   "display_name": "Python 3.9.7 64-bit ('legacy': conda)",
   "language": "python",
   "name": "python3"
  },
  "language_info": {
   "codemirror_mode": {
    "name": "ipython",
    "version": 3
   },
   "file_extension": ".py",
   "mimetype": "text/x-python",
   "name": "python",
   "nbconvert_exporter": "python",
   "pygments_lexer": "ipython3",
   "version": "3.9.7"
  },
  "orig_nbformat": 4
 },
 "nbformat": 4,
 "nbformat_minor": 2
}

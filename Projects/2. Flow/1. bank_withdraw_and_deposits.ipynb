{
 "cells": [
  {
   "cell_type": "markdown",
   "metadata": {},
   "source": [
    "# Instructions\n",
    "This is the beginning of a project that we will build upon until we have a fully function ATM simulation working. For now your task is to implement the following logic.\n",
    "\n",
    "- the computer generates a random bank balance between $100 and $10,000 that gets assigned to the variable `balance`\n",
    "- get user input for one of the available options `D for deposit, W for withdraw` that gets assinged to the variable `action`\n",
    "- if the `action` is withdrawl, ask the user for the amount and decrease `balance` by that amount\n",
    "- if the `action` is deposit, ask the user for the amount and increase `balance` by that amount\n",
    "- lastly print out the action the user did, how much their account increased/decreased by, and their current account balance\n",
    "\n",
    "### Example output\n",
    "`\"You deposited $423 into your account. Your current balance is: $723\"`\n"
   ]
  },
  {
   "cell_type": "code",
   "execution_count": 1,
   "metadata": {},
   "outputs": [],
   "source": [
    "#TODO"
   ]
  }
 ],
 "metadata": {
  "interpreter": {
   "hash": "fd61235da8d855c081cbd5d7c6398e4c179a40a950675235256f7f30499f1124"
  },
  "kernelspec": {
   "display_name": "Python 3.7.4 64-bit ('base': conda)",
   "language": "python",
   "name": "python3"
  },
  "language_info": {
   "codemirror_mode": {
    "name": "ipython",
    "version": 3
   },
   "file_extension": ".py",
   "mimetype": "text/x-python",
   "name": "python",
   "nbconvert_exporter": "python",
   "pygments_lexer": "ipython3",
   "version": "3.7.4"
  },
  "orig_nbformat": 4
 },
 "nbformat": 4,
 "nbformat_minor": 2
}

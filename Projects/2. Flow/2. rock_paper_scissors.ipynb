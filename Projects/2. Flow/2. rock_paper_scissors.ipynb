{
 "cells": [
  {
   "cell_type": "markdown",
   "metadata": {},
   "source": [
    "# Instructions\n",
    "implement the game rock, paper, scissors using flow control. It's you agains the computer and your task is to implement the logic below.\n",
    "\n",
    "- have the computer randomly pick a move `rock, paper, or scissors`\n",
    "- input your move `rock, paper, or scissors`\n",
    "- determine the winner based on your choice and the computer choice\n",
    "\n",
    "<br>\n",
    "\n",
    "- rock beats scissors\n",
    "- scissors beats paper\n",
    "- paper beats rock"
   ]
  },
  {
   "cell_type": "code",
   "execution_count": null,
   "metadata": {},
   "outputs": [],
   "source": []
  }
 ],
 "metadata": {
  "language_info": {
   "name": "python"
  },
  "orig_nbformat": 4
 },
 "nbformat": 4,
 "nbformat_minor": 2
}

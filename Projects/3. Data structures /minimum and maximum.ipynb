{
 "cells": [
  {
   "cell_type": "markdown",
   "metadata": {},
   "source": [
    "# Instructions\n",
    "Given a dictionary of subjects and scores for each, find the subject with the highes score and the subject with the lowest score and create a new dictionary called `range` that only contains the subject with the min and max score.\n",
    "\n",
    "### Example output\n",
    "```\n",
    "{\n",
    "    math: 87,\n",
    "    english: 72,\n",
    "    physics: 91,\n",
    "    history: 86,\n",
    "    health: 100,\n",
    "    programming: 82\n",
    "}\n",
    "\n",
    "range = {\n",
    "    health: 100,\n",
    "    english: 72\n",
    "}\n",
    "\n",
    "```"
   ]
  },
  {
   "cell_type": "code",
   "execution_count": null,
   "metadata": {},
   "outputs": [],
   "source": [
    "subjects = {\n",
    "    \"math\": 87,\n",
    "    \"english\": 72,\n",
    "    \"physics\": 91,\n",
    "    \"history\": 86,\n",
    "    \"health\": 100,\n",
    "    \"programming\": 82\n",
    "}"
   ]
  }
 ],
 "metadata": {
  "language_info": {
   "name": "python"
  },
  "orig_nbformat": 4
 },
 "nbformat": 4,
 "nbformat_minor": 2
}

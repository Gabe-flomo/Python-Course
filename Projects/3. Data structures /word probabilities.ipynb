{
 "cells": [
  {
   "cell_type": "markdown",
   "metadata": {},
   "source": [
    "# Instructions \n",
    "Given a list of random words create a dictionary with the chance of each word occuring, then have the user input a word from the list and return the probability of it occuring.\n",
    "\n",
    "### Example\n",
    "```\n",
    "{'imposter': 16,\n",
    " 'thot': 22,\n",
    " 'friday': 24,\n",
    " 'eminent': 28,\n",
    " 'chance': 24,\n",
    " 'yesterday': 17,\n",
    " 'help': 19}\n",
    "\n",
    "Enter a word: Thought\n",
    "word not in list, try again.\n",
    "\n",
    "Enter a word: imposter\n",
    "the probability of imposter is 8%\n",
    " ```\n",
    "\n",
    "\n"
   ]
  },
  {
   "cell_type": "code",
   "execution_count": 26,
   "metadata": {},
   "outputs": [],
   "source": [
    "from random import choice\n",
    "words = [choice([\n",
    "    \"chance\",\n",
    "    \"eminent\",\n",
    "    \"imposter\",\n",
    "    \"help\",\n",
    "    \"thot\",\n",
    "    \"friday\",\n",
    "    \"yesterday\"\n",
    "]) for _ in range(150)]\n",
    "\n",
    "counts = {word: words.count(word) for word in set(words)}"
   ]
  },
  {
   "cell_type": "code",
   "execution_count": 27,
   "metadata": {},
   "outputs": [
    {
     "data": {
      "text/plain": [
       "{'imposter': 16,\n",
       " 'thot': 22,\n",
       " 'friday': 24,\n",
       " 'eminent': 28,\n",
       " 'chance': 24,\n",
       " 'yesterday': 17,\n",
       " 'help': 19}"
      ]
     },
     "execution_count": 27,
     "metadata": {},
     "output_type": "execute_result"
    }
   ],
   "source": [
    "counts"
   ]
  },
  {
   "cell_type": "code",
   "execution_count": 28,
   "metadata": {},
   "outputs": [
    {
     "data": {
      "text/plain": [
       "8.0"
      ]
     },
     "execution_count": 28,
     "metadata": {},
     "output_type": "execute_result"
    }
   ],
   "source": [
    "12 / 150 * 100\n"
   ]
  },
  {
   "cell_type": "code",
   "execution_count": null,
   "metadata": {},
   "outputs": [],
   "source": []
  }
 ],
 "metadata": {
  "interpreter": {
   "hash": "f1a916808f2d29f1a5fbd48aa1cb9129993ca703ecce713879d0cd946e898e32"
  },
  "kernelspec": {
   "display_name": "Python 3.9.7 64-bit ('legacy': conda)",
   "language": "python",
   "name": "python3"
  },
  "language_info": {
   "codemirror_mode": {
    "name": "ipython",
    "version": 3
   },
   "file_extension": ".py",
   "mimetype": "text/x-python",
   "name": "python",
   "nbconvert_exporter": "python",
   "pygments_lexer": "ipython3",
   "version": "3.9.7"
  },
  "orig_nbformat": 4
 },
 "nbformat": 4,
 "nbformat_minor": 2
}

{
 "cells": [
  {
   "cell_type": "markdown",
   "metadata": {},
   "source": [
    "# Objective 1\n",
    "Complete the function to extract information from the API call. \n",
    "\n",
    "### Expected output\n",
    "```python\n",
    "# what the API returns \n",
    "{'results': [{'gender': 'male',\n",
    "   'name': {'title': 'Mr', 'first': 'Ralph', 'last': 'Larson'},\n",
    "   'location': {'street': {'number': 6620, 'name': 'Poplar Dr'},\n",
    "    'city': 'Elizabeth',\n",
    "    'state': 'Michigan',\n",
    "    'country': 'United States',\n",
    "    'postcode': 30708,\n",
    "    'coordinates': {'latitude': '87.4537', 'longitude': '-54.9354'},\n",
    "    'timezone': {'offset': '-3:30', 'description': 'Newfoundland'}},\n",
    "   'email': 'ralph.larson@example.com',\n",
    "   'login': {'uuid': 'c85aa463-0b61-4a36-bd04-89cab07b7776',\n",
    "    'username': 'angryfish560',\n",
    "    'password': 'strike',\n",
    "    'salt': 'dSzeNoA8',\n",
    "    'md5': '406943f7c89a2df9269d6bf081be7d5d',\n",
    "    'sha1': 'c7c71b26c3c9d5a94a7028a9ebeb102bd2cc789a',\n",
    "    'sha256': 'e5b38f2ea431c8223a00116475ab04a6370a4be6992e755ca8e0f05bbf3fd477'},\n",
    "   'dob': {'date': '1975-05-01T10:02:18.460Z', 'age': 47},\n",
    "   'registered': {'date': '2016-01-09T12:54:42.323Z', 'age': 6},\n",
    "   'phone': '(704)-744-4471',\n",
    "   'cell': '(604)-863-7406',\n",
    "   'id': {'name': 'SSN', 'value': '868-53-1895'},\n",
    "   'picture': {'large': 'https://randomuser.me/api/portraits/men/68.jpg',\n",
    "    'medium': 'https://randomuser.me/api/portraits/med/men/68.jpg',\n",
    "    'thumbnail': 'https://randomuser.me/api/portraits/thumb/men/68.jpg'},\n",
    "   'nat': 'US'}],\n",
    " 'info': {'seed': 'febfdc0269fd9518',\n",
    "  'results': 1,\n",
    "  'page': 1,\n",
    "  'version': '1.3'}}\n",
    "\n",
    "# What the function should return\n",
    "{'name': 'Ralph', \n",
    "'country': 'United States', \n",
    "'state': 'Michigan'\n",
    "'age': 47, \n",
    "'gender': 'male',}\n",
    "```"
   ]
  },
  {
   "cell_type": "code",
   "execution_count": null,
   "metadata": {},
   "outputs": [],
   "source": [
    "import requests\n",
    "def get_user():\n",
    "    url = 'https://randomuser.me/api/'\n",
    "    result = requests.get(url).json()\n",
    "    data = {\n",
    "        'name': \n",
    "        'country': \n",
    "        'age': \n",
    "        'gender': \n",
    "    }\n",
    "        \n",
    "    return data\n",
    "\n",
    "get_user() "
   ]
  },
  {
   "cell_type": "markdown",
   "metadata": {},
   "source": [
    "# Objective 2\n",
    "Create a list of 20 users and save their data to a file called `users.json`."
   ]
  },
  {
   "cell_type": "code",
   "execution_count": null,
   "metadata": {},
   "outputs": [],
   "source": []
  },
  {
   "cell_type": "code",
   "execution_count": null,
   "metadata": {},
   "outputs": [],
   "source": []
  }
 ],
 "metadata": {
  "interpreter": {
   "hash": "f1a916808f2d29f1a5fbd48aa1cb9129993ca703ecce713879d0cd946e898e32"
  },
  "kernelspec": {
   "display_name": "Python 3.9.7 ('legacy')",
   "language": "python",
   "name": "python3"
  },
  "language_info": {
   "codemirror_mode": {
    "name": "ipython",
    "version": 3
   },
   "file_extension": ".py",
   "mimetype": "text/x-python",
   "name": "python",
   "nbconvert_exporter": "python",
   "pygments_lexer": "ipython3",
   "version": "3.9.7"
  },
  "orig_nbformat": 4
 },
 "nbformat": 4,
 "nbformat_minor": 2
}

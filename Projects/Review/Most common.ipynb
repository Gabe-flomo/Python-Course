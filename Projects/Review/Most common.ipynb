{
 "cells": [
  {
   "cell_type": "markdown",
   "metadata": {},
   "source": [
    "# Instructions \n",
    "Given a list of words, find the top 3 words that appear most often. If two words appear an equal amount of times add only one of them to the list. Print how many times each word appears.\n",
    "\n",
    "### Example\n",
    "`words = ['a', 'a', 'b', 'c', 'c', 'c', 'c', 'd', 'd', 'e', 'e', 'e', 'f', 'g']` <br>\n",
    "`most_common = ['c', 'e', 'a', 'd']`\n",
    "```\n",
    "[\n",
    "    ('a', 2),\n",
    "    ('b', 1),\n",
    "    ('c', 4),\n",
    "    ('d', 2),\n",
    "    ('e', 3),\n",
    "    ('f', 1),\n",
    "    ('g', 1)\n",
    "]\n",
    "```"
   ]
  },
  {
   "cell_type": "code",
   "execution_count": 22,
   "metadata": {},
   "outputs": [
    {
     "name": "stdout",
     "output_type": "stream",
     "text": [
      "[('d', 2), ('e', 2), ('b', 1), ('a', 2), ('c', 4), ('g', 1), ('f', 1)] 4\n",
      "4\n",
      "3\n",
      "2\n",
      "1\n"
     ]
    },
    {
     "data": {
      "text/plain": [
       "['c', 'd', 'b']"
      ]
     },
     "execution_count": 22,
     "metadata": {},
     "output_type": "execute_result"
    }
   ],
   "source": [
    "words = ['a', 'a', 'b', 'c', 'c', 'c', 'c', 'd', 'd', 'e', 'e', 'f', 'g']\n",
    "most_common = []\n",
    "counts = []\n",
    "unique = set(words)\n",
    "Max = 0\n",
    "for word in unique:\n",
    "    count = words.count(word)\n",
    "    if count > Max:\n",
    "        Max = count\n",
    "    counts.append((word, count))\n",
    "\n",
    "print(counts, Max)\n",
    "\n",
    "previous_max = Max\n",
    "while len(most_common) != 3:\n",
    "    print(previous_max)\n",
    "    for pair in counts:\n",
    "        last_tuple = counts[-1]\n",
    "        if pair[1] == previous_max:\n",
    "            most_common.append(pair[0])\n",
    "            previous_max -= 1\n",
    "            break\n",
    "        elif last_tuple == pair:\n",
    "            previous_max -= 1\n",
    "\n",
    "most_common"
   ]
  },
  {
   "cell_type": "markdown",
   "metadata": {},
   "source": [
    "# Pseudo code\n",
    "* You are given a list called `words`\n",
    "* create an empty list to hold the `most_common_words`\n",
    "* create an empty list to hold the `word_counts`\n",
    "* create a set of `unique` words\n",
    "* create a `max` variable and set it to 0\n",
    "* start looping through the `unique` words\n",
    "* get the count of the word in the original `words` list\n",
    "* if the count is greater than the `max`, set the count as the new `max`\n",
    "* create a tuple of the original word and its count and add it to the `word_counts` list\n",
    "\n",
    "***End of the first loop***\n",
    "\n",
    "* create a `previous_max` variable and set it equal to `max`\n",
    "* create a loop that iterates until the length of `most_common` is equal to 3\n",
    "* nest a for loop inside of the previous one to loop through the `word_counts` list, use the variable `pair` to reference the elements in the list at each iteration\n",
    "* create a variable called `last_element` and set it equal to the last element in the `word_counts` list\n",
    "* check to see if the current word in `pair` has a count equal to the `previous_max`\n",
    "    * if `True` add the word to the `most_common` list\n",
    "    * decrease the `previous_max` by 1\n",
    "    * break the loop\n",
    "* if the `last_element` variable is equal to the current `pair`\n",
    "    * decrease the `previous_max` by 1"
   ]
  },
  {
   "cell_type": "code",
   "execution_count": null,
   "metadata": {},
   "outputs": [],
   "source": []
  }
 ],
 "metadata": {
  "interpreter": {
   "hash": "fd61235da8d855c081cbd5d7c6398e4c179a40a950675235256f7f30499f1124"
  },
  "kernelspec": {
   "display_name": "Python 3.7.4 64-bit ('base': conda)",
   "language": "python",
   "name": "python3"
  },
  "language_info": {
   "codemirror_mode": {
    "name": "ipython",
    "version": 3
   },
   "file_extension": ".py",
   "mimetype": "text/x-python",
   "name": "python",
   "nbconvert_exporter": "python",
   "pygments_lexer": "ipython3",
   "version": "3.7.4"
  },
  "orig_nbformat": 4
 },
 "nbformat": 4,
 "nbformat_minor": 2
}

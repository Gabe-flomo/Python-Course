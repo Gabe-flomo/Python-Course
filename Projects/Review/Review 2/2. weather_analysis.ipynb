{
 "cells": [
  {
   "cell_type": "markdown",
   "metadata": {},
   "source": [
    "# Instructions\n",
    "Given some weather data find complete the analysis.\n",
    "\n",
    "https://www.kaggle.com/muthuj7/weather-dataset?select=weatherHistory.csv"
   ]
  },
  {
   "cell_type": "code",
   "execution_count": 18,
   "metadata": {},
   "outputs": [
    {
     "data": {
      "text/plain": [
       "[{'Formatted Date': '2006-04-01 00:00:00.000 +0200',\n",
       "  'Summary': 'Partly Cloudy',\n",
       "  'Precip Type': 'rain',\n",
       "  'Temperature (C)': 9.47222222222222,\n",
       "  'Apparent Temperature (C)': 7.388888888888887,\n",
       "  'Humidity': 0.89,\n",
       "  'Wind Speed (km/h)': 14.1197,\n",
       "  'Wind Bearing (degrees)': 251.0,\n",
       "  'Visibility (km)': 15.826300000000002,\n",
       "  'Loud Cover': 0.0,\n",
       "  'Pressure (millibars)': 1015.13,\n",
       "  'Daily Summary': 'Partly cloudy throughout the day.',\n",
       "  'year': 2006,\n",
       "  'month': 'April'},\n",
       " {'Formatted Date': '2006-04-01 01:00:00.000 +0200',\n",
       "  'Summary': 'Partly Cloudy',\n",
       "  'Precip Type': 'rain',\n",
       "  'Temperature (C)': 9.355555555555558,\n",
       "  'Apparent Temperature (C)': 7.227777777777776,\n",
       "  'Humidity': 0.86,\n",
       "  'Wind Speed (km/h)': 14.2646,\n",
       "  'Wind Bearing (degrees)': 259.0,\n",
       "  'Visibility (km)': 15.826300000000002,\n",
       "  'Loud Cover': 0.0,\n",
       "  'Pressure (millibars)': 1015.63,\n",
       "  'Daily Summary': 'Partly cloudy throughout the day.',\n",
       "  'year': 2006,\n",
       "  'month': 'April'},\n",
       " {'Formatted Date': '2006-04-01 02:00:00.000 +0200',\n",
       "  'Summary': 'Mostly Cloudy',\n",
       "  'Precip Type': 'rain',\n",
       "  'Temperature (C)': 9.377777777777778,\n",
       "  'Apparent Temperature (C)': 9.377777777777778,\n",
       "  'Humidity': 0.89,\n",
       "  'Wind Speed (km/h)': 3.9284,\n",
       "  'Wind Bearing (degrees)': 204.0,\n",
       "  'Visibility (km)': 14.9569,\n",
       "  'Loud Cover': 0.0,\n",
       "  'Pressure (millibars)': 1015.94,\n",
       "  'Daily Summary': 'Partly cloudy throughout the day.',\n",
       "  'year': 2006,\n",
       "  'month': 'April'},\n",
       " {'Formatted Date': '2006-04-01 03:00:00.000 +0200',\n",
       "  'Summary': 'Partly Cloudy',\n",
       "  'Precip Type': 'rain',\n",
       "  'Temperature (C)': 8.28888888888889,\n",
       "  'Apparent Temperature (C)': 5.944444444444446,\n",
       "  'Humidity': 0.83,\n",
       "  'Wind Speed (km/h)': 14.1036,\n",
       "  'Wind Bearing (degrees)': 269.0,\n",
       "  'Visibility (km)': 15.826300000000002,\n",
       "  'Loud Cover': 0.0,\n",
       "  'Pressure (millibars)': 1016.41,\n",
       "  'Daily Summary': 'Partly cloudy throughout the day.',\n",
       "  'year': 2006,\n",
       "  'month': 'April'},\n",
       " {'Formatted Date': '2006-04-01 04:00:00.000 +0200',\n",
       "  'Summary': 'Mostly Cloudy',\n",
       "  'Precip Type': 'rain',\n",
       "  'Temperature (C)': 8.755555555555553,\n",
       "  'Apparent Temperature (C)': 6.977777777777779,\n",
       "  'Humidity': 0.83,\n",
       "  'Wind Speed (km/h)': 11.0446,\n",
       "  'Wind Bearing (degrees)': 259.0,\n",
       "  'Visibility (km)': 15.826300000000002,\n",
       "  'Loud Cover': 0.0,\n",
       "  'Pressure (millibars)': 1016.51,\n",
       "  'Daily Summary': 'Partly cloudy throughout the day.',\n",
       "  'year': 2006,\n",
       "  'month': 'April'}]"
      ]
     },
     "execution_count": 18,
     "metadata": {},
     "output_type": "execute_result"
    }
   ],
   "source": [
    "import pandas as pd\n",
    "import calendar\n",
    "def get_weather_data():\n",
    "    url = \"https://raw.githubusercontent.com/Gabe-flomo/Python-Course/main/Projects/3.%20Data%20structures%20/files/weatherHistory.csv\"\n",
    "    df = pd.read_csv(url, on_bad_lines='skip')[:5000]\n",
    "    df['year'] = df['Formatted Date'].apply(lambda x: pd.to_datetime(x).year)\n",
    "    df['month'] = df['Formatted Date'].apply(lambda x: calendar.month_name[pd.to_datetime(x).month])\n",
    "    return df.to_dict('records')\n",
    "\n",
    "weather = get_weather_data()\n",
    "weather[:5]"
   ]
  },
  {
   "cell_type": "markdown",
   "metadata": {},
   "source": [
    "# Objective 1\n",
    "What is the average `temperature (c)` for `april` in the year 2006?\n",
    "\n",
    "## Example output\n",
    "`The average temperature in april for the year 2006 was 10℃`"
   ]
  },
  {
   "cell_type": "code",
   "execution_count": 17,
   "metadata": {},
   "outputs": [],
   "source": [
    "#TODO"
   ]
  },
  {
   "cell_type": "markdown",
   "metadata": {},
   "source": [
    "# Objective 2\n",
    "Find all of the data for the year 2007 and determine which `summary` was most common for each `month`.\n",
    "\n",
    "## Example output\n",
    "```python\n",
    "summaries = {\n",
    "    'january': 'partly cloudy',\n",
    "    'february': 'mostly sunny',\n",
    "    'march': 'rainy',\n",
    "    ...\n",
    "}\n",
    "```"
   ]
  },
  {
   "cell_type": "code",
   "execution_count": 19,
   "metadata": {},
   "outputs": [],
   "source": [
    "#TODO"
   ]
  },
  {
   "cell_type": "markdown",
   "metadata": {},
   "source": [
    "# Objective 3\n",
    "Find the max temperature for each month of each year and determine which month had the biggest increase in temperature difference from 2006 to 2007.\n",
    "\n",
    "```python \n",
    "temperatures = {\n",
    "    2006:{\n",
    "        'january': 1,\n",
    "        'february': 3,\n",
    "        'march': 9,\n",
    "        ...\n",
    "    },\n",
    "    2007: {\n",
    "        'january': 2,\n",
    "        'february': 9,\n",
    "        'march': 15,\n",
    "        ...\n",
    "    }\n",
    "\n",
    "}\n",
    "\n",
    "'The month february had the biggest temperature difference from 2006 to 2007, increaseing by 6℃'\n",
    "```"
   ]
  },
  {
   "cell_type": "code",
   "execution_count": null,
   "metadata": {},
   "outputs": [],
   "source": []
  }
 ],
 "metadata": {
  "interpreter": {
   "hash": "f1a916808f2d29f1a5fbd48aa1cb9129993ca703ecce713879d0cd946e898e32"
  },
  "kernelspec": {
   "display_name": "Python 3.9.7 64-bit ('legacy': conda)",
   "language": "python",
   "name": "python3"
  },
  "language_info": {
   "codemirror_mode": {
    "name": "ipython",
    "version": 3
   },
   "file_extension": ".py",
   "mimetype": "text/x-python",
   "name": "python",
   "nbconvert_exporter": "python",
   "pygments_lexer": "ipython3",
   "version": "3.9.7"
  },
  "orig_nbformat": 4
 },
 "nbformat": 4,
 "nbformat_minor": 2
}

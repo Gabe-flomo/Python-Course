{
 "cells": [
  {
   "cell_type": "markdown",
   "metadata": {},
   "source": [
    "# Instructions\n",
    "You are given a list of filenames along with their extensions. There are 3 different types of files, `.wav, .doc, .mp3`. We want all of the audio files to be added to a list called audio and all the documents to be added to a list called documents. Since the `.mp3` files are also audio, convert the filetype from `mp3` to `wav` and add those to the audio list as well.\n",
    "\n",
    "### Example\n",
    "`files = ['file1.wav', 'file2.wav', 'file3.doc', 'file4.doc', 'file5.wav', 'file6.wav', 'file7.doc', 'file8.mp3']`<br>\n",
    "`audio = ['file1.wav', 'file2.wav', 'file5.wav', 'file6.wav', 'file8.wav']`<br>\n",
    "`documents = ['file3.doc', 'file4.doc', 'file7.doc']` <br>\n",
    "`There are 4 audio files and 3 documents`"
   ]
  },
  {
   "cell_type": "code",
   "execution_count": 31,
   "metadata": {},
   "outputs": [
    {
     "name": "stdout",
     "output_type": "stream",
     "text": [
      "['file_1.wav', 'file_3.wav', 'file_4.wav', 'file_5.wav', 'file_6.wav', 'file_7.wav', 'file_8.wav', 'file_11.wav', 'file_12.wav', 'file_13.wav', 'file_14.wav', 'file_16.wav', 'file_17.wav', 'file_18.wav', 'file_21.wav', 'file_23.wav', 'file_24.wav', 'file_25.wav', 'file_28.wav', 'file_31.wav', 'file_32.wav', 'file_33.wav', 'file_35.wav', 'file_36.wav', 'file_37.wav', 'file_39.wav', 'file_40.wav', 'file_42.wav', 'file_43.wav', 'file_44.wav', 'file_45.wav', 'file_46.wav', 'file_49.wav', 'file_50.wav']\n",
      "['file_2.doc', 'file_9.doc', 'file_10.doc', 'file_15.doc', 'file_19.doc', 'file_20.doc', 'file_22.doc', 'file_26.doc', 'file_27.doc', 'file_29.doc', 'file_30.doc', 'file_34.doc', 'file_38.doc', 'file_41.doc', 'file_47.doc', 'file_48.doc']\n"
     ]
    }
   ],
   "source": [
    "from random import choice\n",
    "files = [f\"file_{i+1}{choice(['.wav', '.doc', '.mp3'])}\" for i in range(50) ]\n",
    "\n"
   ]
  },
  {
   "cell_type": "code",
   "execution_count": 9,
   "metadata": {},
   "outputs": [
    {
     "data": {
      "text/plain": [
       "'.wav'"
      ]
     },
     "execution_count": 9,
     "metadata": {},
     "output_type": "execute_result"
    }
   ],
   "source": []
  },
  {
   "cell_type": "code",
   "execution_count": null,
   "metadata": {},
   "outputs": [],
   "source": []
  }
 ],
 "metadata": {
  "interpreter": {
   "hash": "fd61235da8d855c081cbd5d7c6398e4c179a40a950675235256f7f30499f1124"
  },
  "kernelspec": {
   "display_name": "Python 3.7.4 64-bit ('base': conda)",
   "language": "python",
   "name": "python3"
  },
  "language_info": {
   "codemirror_mode": {
    "name": "ipython",
    "version": 3
   },
   "file_extension": ".py",
   "mimetype": "text/x-python",
   "name": "python",
   "nbconvert_exporter": "python",
   "pygments_lexer": "ipython3",
   "version": "3.7.4"
  },
  "orig_nbformat": 4
 },
 "nbformat": 4,
 "nbformat_minor": 2
}

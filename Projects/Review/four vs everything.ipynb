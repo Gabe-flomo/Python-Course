{
 "cells": [
  {
   "cell_type": "markdown",
   "metadata": {},
   "source": [
    "# Instructions\n",
    "Generate a list of 24 random numbers. For each number in the list, check to see if it is divisible by 4. If the number is divisible by four, remove the number from the list and add it to a new list called `fours`. After you've looped through the list and have created a list of numbers divisible by four, find the sum of both lists and compare which one is bigger.\n",
    "\n",
    "### Example output\n",
    "`original = [2,4,6,8,10,12,14,16]`<br>\n",
    "`fours = [4,8,12,16]`<br>\n",
    "`original_sum = 72`<br>\n",
    "`fours = 40`"
   ]
  },
  {
   "cell_type": "code",
   "execution_count": null,
   "metadata": {},
   "outputs": [],
   "source": [
    "#TODO Code goes here"
   ]
  }
 ],
 "metadata": {
  "language_info": {
   "name": "python"
  },
  "orig_nbformat": 4
 },
 "nbformat": 4,
 "nbformat_minor": 2
}

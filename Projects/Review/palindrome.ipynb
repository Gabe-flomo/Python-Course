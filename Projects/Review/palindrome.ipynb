{
 "cells": [
  {
   "cell_type": "markdown",
   "metadata": {},
   "source": [
    "# Instructions \n",
    "A palindrome is any word or phrase that is the same when read normally or reversed. \n",
    "---\n",
    "\n",
    "***Your task is to write an algorithm that checks if a given string is a palindrome or not***"
   ]
  },
  {
   "cell_type": "code",
   "execution_count": null,
   "metadata": {},
   "outputs": [],
   "source": [
    "strings = [\n",
    "    \"racecar\",\n",
    "    \"washburn\",\n",
    "    \"radar\",\n",
    "    \"top spot\",\n",
    "    \"never\",\n",
    "    \"stats\"    \n",
    "]\n",
    "\n",
    "#TODO find all palindromes"
   ]
  }
 ],
 "metadata": {
  "language_info": {
   "name": "python"
  },
  "orig_nbformat": 4
 },
 "nbformat": 4,
 "nbformat_minor": 2
}
